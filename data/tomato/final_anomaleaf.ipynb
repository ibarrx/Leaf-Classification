{
 "cells": [
  {
   "cell_type": "markdown",
   "metadata": {},
   "source": [
    "# Import Libraries"
   ]
  },
  {
   "cell_type": "code",
   "execution_count": 4,
   "metadata": {},
   "outputs": [],
   "source": [
    "import tensorflow as tf\n",
    "from tensorflow.keras.preprocessing.image import ImageDataGenerator\n",
    "from tensorflow.keras.models import Sequential\n",
    "from tensorflow.keras.layers import Conv2D, MaxPooling2D, GlobalAveragePooling2D, Dense\n",
    "from tensorflow.keras.callbacks import EarlyStopping"
   ]
  },
  {
   "cell_type": "code",
   "execution_count": 5,
   "metadata": {},
   "outputs": [],
   "source": [
    "import os"
   ]
  },
  {
   "cell_type": "code",
   "execution_count": 6,
   "metadata": {},
   "outputs": [
    {
     "name": "stdout",
     "output_type": "stream",
     "text": [
      "c:\\Users\\Javi\\Desktop\\CSE 120\\Anomaly Detection\\Leaf-Classification\\data\\tomato\n"
     ]
    }
   ],
   "source": [
    "print(os.getcwd())"
   ]
  },
  {
   "cell_type": "code",
   "execution_count": 7,
   "metadata": {},
   "outputs": [
    {
     "name": "stdout",
     "output_type": "stream",
     "text": [
      "Found directory train. Proceeding with loading data...\n"
     ]
    }
   ],
   "source": [
    "train_data_dir = 'train'\n",
    "\n",
    "# Check if the directory exists\n",
    "if not os.path.exists(train_data_dir):\n",
    "    print(f\"The directory {train_data_dir} does not exist.\")\n",
    "else:\n",
    "    print(f\"Found directory {train_data_dir}. Proceeding with loading data...\")\n",
    "    # Proceed with your data loading and model training\n"
   ]
  },
  {
   "cell_type": "markdown",
   "metadata": {},
   "source": [
    "# Data loading and preprocessing"
   ]
  },
  {
   "cell_type": "code",
   "execution_count": 8,
   "metadata": {},
   "outputs": [],
   "source": [
    "train_data_dir = 'train'\n",
    "test_data_dir = 'val'"
   ]
  },
  {
   "cell_type": "code",
   "execution_count": 9,
   "metadata": {},
   "outputs": [],
   "source": [
    "train_datagen = ImageDataGenerator(\n",
    "    rescale=1/255.0,\n",
    "    shear_range=0.2,\n",
    "    zoom_range=0.2,\n",
    "    horizontal_flip=True,\n",
    "    validation_split=0.3\n",
    ")"
   ]
  },
  {
   "cell_type": "code",
   "execution_count": 10,
   "metadata": {},
   "outputs": [
    {
     "name": "stdout",
     "output_type": "stream",
     "text": [
      "Found 7000 images belonging to 10 classes.\n"
     ]
    }
   ],
   "source": [
    "train_gen = train_datagen.flow_from_directory(\n",
    "    train_data_dir,\n",
    "    target_size=(112, 112),\n",
    "    batch_size=32,\n",
    "    class_mode='categorical',\n",
    "    subset='training'\n",
    ")"
   ]
  },
  {
   "cell_type": "code",
   "execution_count": 11,
   "metadata": {},
   "outputs": [
    {
     "name": "stdout",
     "output_type": "stream",
     "text": [
      "Found 3000 images belonging to 10 classes.\n"
     ]
    }
   ],
   "source": [
    "val_gen = train_datagen.flow_from_directory(\n",
    "    train_data_dir,\n",
    "    target_size=(112, 112),\n",
    "    batch_size=32,\n",
    "    class_mode='categorical',\n",
    "    subset='validation'\n",
    ")"
   ]
  },
  {
   "cell_type": "code",
   "execution_count": 12,
   "metadata": {},
   "outputs": [],
   "source": [
    "test_datagen = ImageDataGenerator(rescale=1/255.0)"
   ]
  },
  {
   "cell_type": "code",
   "execution_count": 13,
   "metadata": {},
   "outputs": [
    {
     "name": "stdout",
     "output_type": "stream",
     "text": [
      "Found 1000 images belonging to 10 classes.\n"
     ]
    }
   ],
   "source": [
    "test_gen = test_datagen.flow_from_directory(\n",
    "    test_data_dir,\n",
    "    target_size=(112, 112),\n",
    "    batch_size=32,\n",
    "    class_mode='categorical',\n",
    "    shuffle=False\n",
    ")"
   ]
  },
  {
   "cell_type": "markdown",
   "metadata": {},
   "source": [
    "# Model architecture"
   ]
  },
  {
   "cell_type": "code",
   "execution_count": 14,
   "metadata": {},
   "outputs": [],
   "source": [
    "model = Sequential([\n",
    "    Conv2D(32, (3, 3), activation='relu', input_shape=(112, 112, 3)),\n",
    "    MaxPooling2D(pool_size=(2, 2)),\n",
    "    Conv2D(64, (3, 3), activation='relu'),\n",
    "    MaxPooling2D((2, 2)),\n",
    "    Conv2D(64, (3, 3), activation='relu'),\n",
    "    GlobalAveragePooling2D(),\n",
    "    Dense(64, activation='relu'),\n",
    "    Dense(10, activation='softmax')  # Assuming we have 10 classes, adjust if necessary\n",
    "])"
   ]
  },
  {
   "cell_type": "markdown",
   "metadata": {},
   "source": [
    "# Compile the model"
   ]
  },
  {
   "cell_type": "code",
   "execution_count": 15,
   "metadata": {},
   "outputs": [],
   "source": [
    "model.compile(\n",
    "    optimizer='adam',\n",
    "    loss='categorical_crossentropy',\n",
    "    metrics=['accuracy']\n",
    ")"
   ]
  },
  {
   "cell_type": "markdown",
   "metadata": {},
   "source": [
    "# Early Stopping to avoid overfitting"
   ]
  },
  {
   "cell_type": "code",
   "execution_count": 16,
   "metadata": {},
   "outputs": [],
   "source": [
    "early_stopping = EarlyStopping(\n",
    "    monitor='val_accuracy',\n",
    "    patience=20,\n",
    "    verbose=1,\n",
    "    restore_best_weights=True\n",
    ")"
   ]
  },
  {
   "cell_type": "markdown",
   "metadata": {},
   "source": [
    "# Train the model"
   ]
  },
  {
   "cell_type": "code",
   "execution_count": 17,
   "metadata": {},
   "outputs": [
    {
     "name": "stdout",
     "output_type": "stream",
     "text": [
      "Epoch 1/80\n",
      "219/219 [==============================] - 42s 190ms/step - loss: 1.9853 - accuracy: 0.2716 - val_loss: 1.7307 - val_accuracy: 0.3637\n",
      "Epoch 2/80\n",
      "219/219 [==============================] - 37s 171ms/step - loss: 1.4925 - accuracy: 0.4641 - val_loss: 1.3524 - val_accuracy: 0.5193\n",
      "Epoch 3/80\n",
      "219/219 [==============================] - 38s 171ms/step - loss: 1.2941 - accuracy: 0.5364 - val_loss: 1.2630 - val_accuracy: 0.5307\n",
      "Epoch 4/80\n",
      "219/219 [==============================] - 38s 172ms/step - loss: 1.1679 - accuracy: 0.5766 - val_loss: 1.0988 - val_accuracy: 0.6113\n",
      "Epoch 5/80\n",
      "219/219 [==============================] - 36s 166ms/step - loss: 1.0310 - accuracy: 0.6234 - val_loss: 0.9101 - val_accuracy: 0.6737\n",
      "Epoch 6/80\n",
      "219/219 [==============================] - 37s 170ms/step - loss: 0.9292 - accuracy: 0.6611 - val_loss: 0.8507 - val_accuracy: 0.6910\n",
      "Epoch 7/80\n",
      "219/219 [==============================] - 35s 158ms/step - loss: 0.8413 - accuracy: 0.6916 - val_loss: 0.7925 - val_accuracy: 0.7197\n",
      "Epoch 8/80\n",
      "219/219 [==============================] - 36s 163ms/step - loss: 0.8003 - accuracy: 0.7147 - val_loss: 0.7311 - val_accuracy: 0.7440\n",
      "Epoch 9/80\n",
      "219/219 [==============================] - 38s 172ms/step - loss: 0.7740 - accuracy: 0.7249 - val_loss: 0.6971 - val_accuracy: 0.7527\n",
      "Epoch 10/80\n",
      "219/219 [==============================] - 37s 167ms/step - loss: 0.7047 - accuracy: 0.7461 - val_loss: 0.6506 - val_accuracy: 0.7797\n",
      "Epoch 11/80\n",
      "219/219 [==============================] - 38s 172ms/step - loss: 0.6829 - accuracy: 0.7560 - val_loss: 0.9802 - val_accuracy: 0.6503\n",
      "Epoch 12/80\n",
      "219/219 [==============================] - 33s 150ms/step - loss: 0.6564 - accuracy: 0.7649 - val_loss: 0.6564 - val_accuracy: 0.7570\n",
      "Epoch 13/80\n",
      "219/219 [==============================] - 37s 167ms/step - loss: 0.6132 - accuracy: 0.7861 - val_loss: 0.5535 - val_accuracy: 0.8127\n",
      "Epoch 14/80\n",
      "219/219 [==============================] - 37s 171ms/step - loss: 0.5954 - accuracy: 0.7926 - val_loss: 0.5612 - val_accuracy: 0.7990\n",
      "Epoch 15/80\n",
      "219/219 [==============================] - 40s 183ms/step - loss: 0.5650 - accuracy: 0.8011 - val_loss: 0.5297 - val_accuracy: 0.8103\n",
      "Epoch 16/80\n",
      "219/219 [==============================] - 40s 185ms/step - loss: 0.5298 - accuracy: 0.8134 - val_loss: 0.5185 - val_accuracy: 0.8040\n",
      "Epoch 17/80\n",
      "219/219 [==============================] - 35s 158ms/step - loss: 0.5084 - accuracy: 0.8206 - val_loss: 0.5536 - val_accuracy: 0.7970\n",
      "Epoch 18/80\n",
      "219/219 [==============================] - 36s 166ms/step - loss: 0.5026 - accuracy: 0.8211 - val_loss: 0.5293 - val_accuracy: 0.8100\n",
      "Epoch 19/80\n",
      "219/219 [==============================] - 37s 167ms/step - loss: 0.5063 - accuracy: 0.8163 - val_loss: 0.4867 - val_accuracy: 0.8270\n",
      "Epoch 20/80\n",
      "219/219 [==============================] - 35s 159ms/step - loss: 0.4951 - accuracy: 0.8243 - val_loss: 0.4533 - val_accuracy: 0.8410\n",
      "Epoch 21/80\n",
      "219/219 [==============================] - 31s 140ms/step - loss: 0.4732 - accuracy: 0.8337 - val_loss: 0.4398 - val_accuracy: 0.8510\n",
      "Epoch 22/80\n",
      "219/219 [==============================] - 37s 167ms/step - loss: 0.4387 - accuracy: 0.8454 - val_loss: 0.4234 - val_accuracy: 0.8550\n",
      "Epoch 23/80\n",
      "219/219 [==============================] - 36s 165ms/step - loss: 0.4504 - accuracy: 0.8374 - val_loss: 0.4237 - val_accuracy: 0.8547\n",
      "Epoch 24/80\n",
      "219/219 [==============================] - 37s 168ms/step - loss: 0.4213 - accuracy: 0.8484 - val_loss: 0.4255 - val_accuracy: 0.8443\n",
      "Epoch 25/80\n",
      "219/219 [==============================] - 38s 173ms/step - loss: 0.3932 - accuracy: 0.8579 - val_loss: 0.4413 - val_accuracy: 0.8473\n",
      "Epoch 26/80\n",
      "219/219 [==============================] - 37s 168ms/step - loss: 0.3876 - accuracy: 0.8627 - val_loss: 0.3692 - val_accuracy: 0.8697\n",
      "Epoch 27/80\n",
      "219/219 [==============================] - 33s 149ms/step - loss: 0.3806 - accuracy: 0.8646 - val_loss: 0.4391 - val_accuracy: 0.8387\n",
      "Epoch 28/80\n",
      "219/219 [==============================] - 38s 173ms/step - loss: 0.3779 - accuracy: 0.8664 - val_loss: 0.4683 - val_accuracy: 0.8370\n",
      "Epoch 29/80\n",
      "219/219 [==============================] - 36s 166ms/step - loss: 0.3722 - accuracy: 0.8684 - val_loss: 0.3765 - val_accuracy: 0.8617\n",
      "Epoch 30/80\n",
      "219/219 [==============================] - 31s 142ms/step - loss: 0.3718 - accuracy: 0.8724 - val_loss: 0.3646 - val_accuracy: 0.8817\n",
      "Epoch 31/80\n",
      "219/219 [==============================] - 35s 158ms/step - loss: 0.3467 - accuracy: 0.8767 - val_loss: 0.3738 - val_accuracy: 0.8697\n",
      "Epoch 32/80\n",
      "219/219 [==============================] - 38s 172ms/step - loss: 0.3391 - accuracy: 0.8787 - val_loss: 0.3220 - val_accuracy: 0.8850\n",
      "Epoch 33/80\n",
      "219/219 [==============================] - 37s 168ms/step - loss: 0.3432 - accuracy: 0.8774 - val_loss: 0.3655 - val_accuracy: 0.8623\n",
      "Epoch 34/80\n",
      "219/219 [==============================] - 36s 166ms/step - loss: 0.3212 - accuracy: 0.8886 - val_loss: 0.3194 - val_accuracy: 0.8847\n",
      "Epoch 35/80\n",
      "219/219 [==============================] - 38s 174ms/step - loss: 0.3239 - accuracy: 0.8846 - val_loss: 0.3055 - val_accuracy: 0.8940\n",
      "Epoch 36/80\n",
      "219/219 [==============================] - 35s 158ms/step - loss: 0.3185 - accuracy: 0.8833 - val_loss: 0.3464 - val_accuracy: 0.8753\n",
      "Epoch 37/80\n",
      "219/219 [==============================] - 40s 181ms/step - loss: 0.3108 - accuracy: 0.8889 - val_loss: 0.4286 - val_accuracy: 0.8480\n",
      "Epoch 38/80\n",
      "219/219 [==============================] - 32s 147ms/step - loss: 0.3206 - accuracy: 0.8869 - val_loss: 0.3535 - val_accuracy: 0.8807\n",
      "Epoch 39/80\n",
      "219/219 [==============================] - 39s 178ms/step - loss: 0.2926 - accuracy: 0.8967 - val_loss: 0.2769 - val_accuracy: 0.9013\n",
      "Epoch 40/80\n",
      "219/219 [==============================] - 29s 133ms/step - loss: 0.2674 - accuracy: 0.9056 - val_loss: 0.3346 - val_accuracy: 0.8827\n",
      "Epoch 41/80\n",
      "219/219 [==============================] - 35s 161ms/step - loss: 0.2872 - accuracy: 0.8989 - val_loss: 0.3138 - val_accuracy: 0.8907\n",
      "Epoch 42/80\n",
      "219/219 [==============================] - 37s 171ms/step - loss: 0.2601 - accuracy: 0.9083 - val_loss: 0.3147 - val_accuracy: 0.8867\n",
      "Epoch 43/80\n",
      "219/219 [==============================] - 35s 158ms/step - loss: 0.3067 - accuracy: 0.8900 - val_loss: 0.2544 - val_accuracy: 0.9120\n",
      "Epoch 44/80\n",
      "219/219 [==============================] - 36s 164ms/step - loss: 0.2555 - accuracy: 0.9107 - val_loss: 0.2486 - val_accuracy: 0.9137\n",
      "Epoch 45/80\n",
      "219/219 [==============================] - 37s 168ms/step - loss: 0.2562 - accuracy: 0.9059 - val_loss: 0.2450 - val_accuracy: 0.9110\n",
      "Epoch 46/80\n",
      "219/219 [==============================] - 34s 155ms/step - loss: 0.2712 - accuracy: 0.9013 - val_loss: 0.3092 - val_accuracy: 0.8857\n",
      "Epoch 47/80\n",
      "219/219 [==============================] - 36s 165ms/step - loss: 0.2520 - accuracy: 0.9101 - val_loss: 0.2368 - val_accuracy: 0.9177\n",
      "Epoch 48/80\n",
      "219/219 [==============================] - 38s 172ms/step - loss: 0.2535 - accuracy: 0.9104 - val_loss: 0.2395 - val_accuracy: 0.9107\n",
      "Epoch 49/80\n",
      "219/219 [==============================] - 39s 178ms/step - loss: 0.2405 - accuracy: 0.9160 - val_loss: 0.3168 - val_accuracy: 0.8823\n",
      "Epoch 50/80\n",
      "219/219 [==============================] - 32s 146ms/step - loss: 0.2643 - accuracy: 0.9049 - val_loss: 0.2842 - val_accuracy: 0.9023\n",
      "Epoch 51/80\n",
      "219/219 [==============================] - 37s 167ms/step - loss: 0.2503 - accuracy: 0.9117 - val_loss: 0.2394 - val_accuracy: 0.9160\n",
      "Epoch 52/80\n",
      "219/219 [==============================] - 37s 167ms/step - loss: 0.2327 - accuracy: 0.9181 - val_loss: 0.2808 - val_accuracy: 0.8970\n",
      "Epoch 53/80\n",
      "219/219 [==============================] - 37s 167ms/step - loss: 0.2339 - accuracy: 0.9179 - val_loss: 0.2080 - val_accuracy: 0.9273\n",
      "Epoch 54/80\n",
      "219/219 [==============================] - 33s 150ms/step - loss: 0.2216 - accuracy: 0.9227 - val_loss: 0.2152 - val_accuracy: 0.9293\n",
      "Epoch 55/80\n",
      "219/219 [==============================] - 37s 167ms/step - loss: 0.2176 - accuracy: 0.9230 - val_loss: 0.2810 - val_accuracy: 0.9027\n",
      "Epoch 56/80\n",
      "219/219 [==============================] - 34s 153ms/step - loss: 0.2053 - accuracy: 0.9284 - val_loss: 0.2606 - val_accuracy: 0.9070\n",
      "Epoch 57/80\n",
      "219/219 [==============================] - 37s 170ms/step - loss: 0.2009 - accuracy: 0.9301 - val_loss: 0.2168 - val_accuracy: 0.9260\n",
      "Epoch 58/80\n",
      "219/219 [==============================] - 38s 173ms/step - loss: 0.2043 - accuracy: 0.9253 - val_loss: 0.2017 - val_accuracy: 0.9277\n",
      "Epoch 59/80\n",
      "219/219 [==============================] - 33s 151ms/step - loss: 0.2022 - accuracy: 0.9277 - val_loss: 0.2377 - val_accuracy: 0.9167\n",
      "Epoch 60/80\n",
      "219/219 [==============================] - 35s 160ms/step - loss: 0.2043 - accuracy: 0.9286 - val_loss: 0.1923 - val_accuracy: 0.9353\n",
      "Epoch 61/80\n",
      "219/219 [==============================] - 38s 173ms/step - loss: 0.1970 - accuracy: 0.9296 - val_loss: 0.2231 - val_accuracy: 0.9163\n",
      "Epoch 62/80\n",
      "219/219 [==============================] - 34s 156ms/step - loss: 0.2098 - accuracy: 0.9254 - val_loss: 0.2539 - val_accuracy: 0.9097\n",
      "Epoch 63/80\n",
      "219/219 [==============================] - 34s 154ms/step - loss: 0.2234 - accuracy: 0.9231 - val_loss: 0.2256 - val_accuracy: 0.9250\n",
      "Epoch 64/80\n",
      "219/219 [==============================] - 37s 169ms/step - loss: 0.1935 - accuracy: 0.9296 - val_loss: 0.2742 - val_accuracy: 0.9080\n",
      "Epoch 65/80\n",
      "219/219 [==============================] - 37s 168ms/step - loss: 0.1944 - accuracy: 0.9274 - val_loss: 0.2558 - val_accuracy: 0.9087\n",
      "Epoch 66/80\n",
      "219/219 [==============================] - 39s 177ms/step - loss: 0.1870 - accuracy: 0.9347 - val_loss: 0.1818 - val_accuracy: 0.9390\n",
      "Epoch 67/80\n",
      "219/219 [==============================] - 36s 165ms/step - loss: 0.1894 - accuracy: 0.9324 - val_loss: 0.2059 - val_accuracy: 0.9337\n",
      "Epoch 68/80\n",
      "219/219 [==============================] - 36s 166ms/step - loss: 0.1909 - accuracy: 0.9304 - val_loss: 0.2214 - val_accuracy: 0.9287\n",
      "Epoch 69/80\n",
      "219/219 [==============================] - 34s 154ms/step - loss: 0.1642 - accuracy: 0.9440 - val_loss: 0.1896 - val_accuracy: 0.9330\n",
      "Epoch 70/80\n",
      "219/219 [==============================] - 37s 168ms/step - loss: 0.1773 - accuracy: 0.9403 - val_loss: 0.1954 - val_accuracy: 0.9310\n",
      "Epoch 71/80\n",
      "219/219 [==============================] - 34s 155ms/step - loss: 0.1764 - accuracy: 0.9367 - val_loss: 0.3118 - val_accuracy: 0.8933\n",
      "Epoch 72/80\n",
      "219/219 [==============================] - 31s 142ms/step - loss: 0.1746 - accuracy: 0.9401 - val_loss: 0.2668 - val_accuracy: 0.9020\n",
      "Epoch 73/80\n",
      "219/219 [==============================] - 37s 167ms/step - loss: 0.1711 - accuracy: 0.9397 - val_loss: 0.2003 - val_accuracy: 0.9337\n",
      "Epoch 74/80\n",
      "219/219 [==============================] - 34s 155ms/step - loss: 0.1715 - accuracy: 0.9410 - val_loss: 0.2567 - val_accuracy: 0.9030\n",
      "Epoch 75/80\n",
      "219/219 [==============================] - 36s 165ms/step - loss: 0.1762 - accuracy: 0.9356 - val_loss: 0.1710 - val_accuracy: 0.9463\n",
      "Epoch 76/80\n",
      "219/219 [==============================] - 39s 177ms/step - loss: 0.2014 - accuracy: 0.9273 - val_loss: 0.2292 - val_accuracy: 0.9203\n",
      "Epoch 77/80\n",
      "219/219 [==============================] - 36s 162ms/step - loss: 0.1466 - accuracy: 0.9500 - val_loss: 0.2129 - val_accuracy: 0.9217\n",
      "Epoch 78/80\n",
      "219/219 [==============================] - 35s 160ms/step - loss: 0.1559 - accuracy: 0.9453 - val_loss: 0.1906 - val_accuracy: 0.9367\n",
      "Epoch 79/80\n",
      "219/219 [==============================] - 33s 150ms/step - loss: 0.1664 - accuracy: 0.9391 - val_loss: 0.2365 - val_accuracy: 0.9217\n",
      "Epoch 80/80\n",
      "219/219 [==============================] - 36s 164ms/step - loss: 0.1566 - accuracy: 0.9424 - val_loss: 0.2380 - val_accuracy: 0.9210\n"
     ]
    }
   ],
   "source": [
    "history = model.fit(\n",
    "    train_gen,\n",
    "    epochs=80,\n",
    "    validation_data=val_gen,\n",
    "    callbacks=[early_stopping]\n",
    ")"
   ]
  },
  {
   "cell_type": "markdown",
   "metadata": {},
   "source": [
    "\n",
    "# Evaluate the model"
   ]
  },
  {
   "cell_type": "code",
   "execution_count": 18,
   "metadata": {},
   "outputs": [
    {
     "name": "stdout",
     "output_type": "stream",
     "text": [
      "32/32 [==============================] - 1s 41ms/step - loss: 0.4530 - accuracy: 0.8990\n",
      "Test loss: 0.4529883861541748\n",
      "Test accuracy: 0.8989999890327454\n"
     ]
    }
   ],
   "source": [
    "scores = model.evaluate(test_gen)\n",
    "print('Test loss:', scores[0])\n",
    "print('Test accuracy:', scores[1])"
   ]
  },
  {
   "cell_type": "markdown",
   "metadata": {},
   "source": [
    "# Save the model"
   ]
  },
  {
   "cell_type": "code",
   "execution_count": 19,
   "metadata": {},
   "outputs": [],
   "source": [
    "model.save('merged_model.h5')"
   ]
  }
 ],
 "metadata": {
  "kernelspec": {
   "display_name": "leaf",
   "language": "python",
   "name": "python3"
  },
  "language_info": {
   "codemirror_mode": {
    "name": "ipython",
    "version": 3
   },
   "file_extension": ".py",
   "mimetype": "text/x-python",
   "name": "python",
   "nbconvert_exporter": "python",
   "pygments_lexer": "ipython3",
   "version": "3.10.13"
  }
 },
 "nbformat": 4,
 "nbformat_minor": 2
}
