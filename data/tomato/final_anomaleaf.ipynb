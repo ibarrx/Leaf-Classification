{
 "cells": [
  {
   "cell_type": "markdown",
   "metadata": {},
   "source": [
    "# Import Libraries"
   ]
  },
  {
   "cell_type": "code",
   "execution_count": 30,
   "metadata": {},
   "outputs": [],
   "source": [
    "import tensorflow as tf\n",
    "from tensorflow.keras.preprocessing.image import ImageDataGenerator\n",
    "from tensorflow.keras.models import Sequential\n",
    "from tensorflow.keras.layers import Conv2D, MaxPooling2D, GlobalAveragePooling2D, Dense\n",
    "from tensorflow.keras.callbacks import EarlyStopping"
   ]
  },
  {
   "cell_type": "code",
   "execution_count": 31,
   "metadata": {},
   "outputs": [],
   "source": [
    "import os"
   ]
  },
  {
   "cell_type": "code",
   "execution_count": 32,
   "metadata": {},
   "outputs": [
    {
     "name": "stdout",
     "output_type": "stream",
     "text": [
      "c:\\Users\\Javi\\Desktop\\CSE 120\\Anomaly Detection\\Leaf-Classification\\data\\tomato\n"
     ]
    }
   ],
   "source": [
    "print(os.getcwd())"
   ]
  },
  {
   "cell_type": "code",
   "execution_count": 33,
   "metadata": {},
   "outputs": [
    {
     "name": "stdout",
     "output_type": "stream",
     "text": [
      "Found directory train. Proceeding with loading data...\n"
     ]
    }
   ],
   "source": [
    "train_data_dir = 'train'\n",
    "\n",
    "# Check if the directory exists\n",
    "if not os.path.exists(train_data_dir):\n",
    "    print(f\"The directory {train_data_dir} does not exist.\")\n",
    "else:\n",
    "    print(f\"Found directory {train_data_dir}. Proceeding with loading data...\")\n",
    "    # Proceed with your data loading and model training\n"
   ]
  },
  {
   "cell_type": "markdown",
   "metadata": {},
   "source": [
    "# Data loading and preprocessing"
   ]
  },
  {
   "cell_type": "code",
   "execution_count": 38,
   "metadata": {},
   "outputs": [],
   "source": [
    "train_data_dir = 'train'\n",
    "test_data_dir = 'val'"
   ]
  },
  {
   "cell_type": "code",
   "execution_count": 39,
   "metadata": {},
   "outputs": [],
   "source": [
    "train_datagen = ImageDataGenerator(\n",
    "    rescale=1/255.0,\n",
    "    shear_range=0.2,\n",
    "    zoom_range=0.2,\n",
    "    horizontal_flip=True,\n",
    "    validation_split=0.3\n",
    ")"
   ]
  },
  {
   "cell_type": "code",
   "execution_count": 40,
   "metadata": {},
   "outputs": [
    {
     "name": "stdout",
     "output_type": "stream",
     "text": [
      "Found 7000 images belonging to 10 classes.\n"
     ]
    }
   ],
   "source": [
    "train_gen = train_datagen.flow_from_directory(\n",
    "    train_data_dir,\n",
    "    target_size=(112, 112),\n",
    "    batch_size=32,\n",
    "    class_mode='categorical',\n",
    "    subset='training'\n",
    ")"
   ]
  },
  {
   "cell_type": "code",
   "execution_count": 41,
   "metadata": {},
   "outputs": [
    {
     "name": "stdout",
     "output_type": "stream",
     "text": [
      "Found 3000 images belonging to 10 classes.\n"
     ]
    }
   ],
   "source": [
    "val_gen = train_datagen.flow_from_directory(\n",
    "    train_data_dir,\n",
    "    target_size=(112, 112),\n",
    "    batch_size=32,\n",
    "    class_mode='categorical',\n",
    "    subset='validation'\n",
    ")"
   ]
  },
  {
   "cell_type": "code",
   "execution_count": 42,
   "metadata": {},
   "outputs": [],
   "source": [
    "test_datagen = ImageDataGenerator(rescale=1/255.0)"
   ]
  },
  {
   "cell_type": "code",
   "execution_count": 43,
   "metadata": {},
   "outputs": [
    {
     "name": "stdout",
     "output_type": "stream",
     "text": [
      "Found 1000 images belonging to 10 classes.\n"
     ]
    }
   ],
   "source": [
    "test_gen = test_datagen.flow_from_directory(\n",
    "    test_data_dir,\n",
    "    target_size=(112, 112),\n",
    "    batch_size=32,\n",
    "    class_mode='categorical',\n",
    "    shuffle=False\n",
    ")"
   ]
  },
  {
   "cell_type": "markdown",
   "metadata": {},
   "source": [
    "# Model architecture"
   ]
  },
  {
   "cell_type": "code",
   "execution_count": 44,
   "metadata": {},
   "outputs": [],
   "source": [
    "model = Sequential([\n",
    "    Conv2D(32, (3, 3), activation='relu', input_shape=(112, 112, 3)),\n",
    "    MaxPooling2D(pool_size=(2, 2)),\n",
    "    Conv2D(64, (3, 3), activation='relu'),\n",
    "    MaxPooling2D((2, 2)),\n",
    "    Conv2D(64, (3, 3), activation='relu'),\n",
    "    GlobalAveragePooling2D(),\n",
    "    Dense(64, activation='relu'),\n",
    "    Dense(10, activation='softmax')  # Assuming we have 10 classes, adjust if necessary\n",
    "])"
   ]
  },
  {
   "cell_type": "markdown",
   "metadata": {},
   "source": [
    "# Compile the model"
   ]
  },
  {
   "cell_type": "code",
   "execution_count": 45,
   "metadata": {},
   "outputs": [],
   "source": [
    "model.compile(\n",
    "    optimizer='adam',\n",
    "    loss='categorical_crossentropy',\n",
    "    metrics=['accuracy']\n",
    ")"
   ]
  },
  {
   "cell_type": "markdown",
   "metadata": {},
   "source": [
    "# Early Stopping to avoid overfitting"
   ]
  },
  {
   "cell_type": "code",
   "execution_count": 46,
   "metadata": {},
   "outputs": [],
   "source": [
    "early_stopping = EarlyStopping(\n",
    "    monitor='val_accuracy',\n",
    "    patience=20,\n",
    "    verbose=1,\n",
    "    restore_best_weights=True\n",
    ")"
   ]
  },
  {
   "cell_type": "markdown",
   "metadata": {},
   "source": [
    "# Train the model"
   ]
  },
  {
   "cell_type": "code",
   "execution_count": 47,
   "metadata": {},
   "outputs": [
    {
     "name": "stdout",
     "output_type": "stream",
     "text": [
      "Epoch 1/100\n",
      "219/219 [==============================] - 38s 171ms/step - loss: 2.0248 - accuracy: 0.2520 - val_loss: 1.7724 - val_accuracy: 0.3410\n",
      "Epoch 2/100\n",
      "219/219 [==============================] - 38s 174ms/step - loss: 1.3765 - accuracy: 0.4994 - val_loss: 1.2175 - val_accuracy: 0.5610\n",
      "Epoch 3/100\n",
      "219/219 [==============================] - 37s 167ms/step - loss: 1.1013 - accuracy: 0.6046 - val_loss: 0.9292 - val_accuracy: 0.6783\n",
      "Epoch 4/100\n",
      "219/219 [==============================] - 37s 168ms/step - loss: 0.8959 - accuracy: 0.6833 - val_loss: 0.8160 - val_accuracy: 0.7053\n",
      "Epoch 5/100\n",
      "219/219 [==============================] - 33s 151ms/step - loss: 0.7894 - accuracy: 0.7160 - val_loss: 0.8229 - val_accuracy: 0.7010\n",
      "Epoch 6/100\n",
      "219/219 [==============================] - 35s 160ms/step - loss: 0.7229 - accuracy: 0.7413 - val_loss: 0.7594 - val_accuracy: 0.7263\n",
      "Epoch 7/100\n",
      "219/219 [==============================] - 38s 175ms/step - loss: 0.6479 - accuracy: 0.7694 - val_loss: 0.6323 - val_accuracy: 0.7743\n",
      "Epoch 8/100\n",
      "219/219 [==============================] - 35s 158ms/step - loss: 0.6000 - accuracy: 0.7853 - val_loss: 0.5747 - val_accuracy: 0.7987\n",
      "Epoch 9/100\n",
      "219/219 [==============================] - 33s 149ms/step - loss: 0.5918 - accuracy: 0.7893 - val_loss: 0.5592 - val_accuracy: 0.8010\n",
      "Epoch 10/100\n",
      "219/219 [==============================] - 38s 175ms/step - loss: 0.5470 - accuracy: 0.8043 - val_loss: 0.8334 - val_accuracy: 0.6927\n",
      "Epoch 11/100\n",
      "219/219 [==============================] - 37s 170ms/step - loss: 0.5209 - accuracy: 0.8141 - val_loss: 0.4999 - val_accuracy: 0.8187\n",
      "Epoch 12/100\n",
      "219/219 [==============================] - 34s 157ms/step - loss: 0.4949 - accuracy: 0.8191 - val_loss: 0.5630 - val_accuracy: 0.8000\n",
      "Epoch 13/100\n",
      "219/219 [==============================] - 35s 157ms/step - loss: 0.4914 - accuracy: 0.8306 - val_loss: 0.4975 - val_accuracy: 0.8243\n",
      "Epoch 14/100\n",
      "219/219 [==============================] - 38s 174ms/step - loss: 0.4711 - accuracy: 0.8284 - val_loss: 0.4936 - val_accuracy: 0.8317\n",
      "Epoch 15/100\n",
      "219/219 [==============================] - 36s 165ms/step - loss: 0.4602 - accuracy: 0.8351 - val_loss: 0.4408 - val_accuracy: 0.8397\n",
      "Epoch 16/100\n",
      "219/219 [==============================] - 34s 156ms/step - loss: 0.4211 - accuracy: 0.8500 - val_loss: 0.6100 - val_accuracy: 0.7903\n",
      "Epoch 17/100\n",
      "219/219 [==============================] - 37s 167ms/step - loss: 0.4321 - accuracy: 0.8463 - val_loss: 0.5311 - val_accuracy: 0.8047\n",
      "Epoch 18/100\n",
      "219/219 [==============================] - 35s 158ms/step - loss: 0.4049 - accuracy: 0.8541 - val_loss: 0.4069 - val_accuracy: 0.8593\n",
      "Epoch 19/100\n",
      "219/219 [==============================] - 38s 171ms/step - loss: 0.3889 - accuracy: 0.8629 - val_loss: 0.4698 - val_accuracy: 0.8263\n",
      "Epoch 20/100\n",
      "219/219 [==============================] - 37s 168ms/step - loss: 0.3810 - accuracy: 0.8611 - val_loss: 0.3872 - val_accuracy: 0.8627\n",
      "Epoch 21/100\n",
      "219/219 [==============================] - 37s 167ms/step - loss: 0.3671 - accuracy: 0.8689 - val_loss: 0.4543 - val_accuracy: 0.8400\n",
      "Epoch 22/100\n",
      "219/219 [==============================] - 36s 162ms/step - loss: 0.3435 - accuracy: 0.8789 - val_loss: 0.4284 - val_accuracy: 0.8523\n",
      "Epoch 23/100\n",
      "219/219 [==============================] - 36s 163ms/step - loss: 0.3354 - accuracy: 0.8823 - val_loss: 0.3354 - val_accuracy: 0.8900\n",
      "Epoch 24/100\n",
      "219/219 [==============================] - 35s 157ms/step - loss: 0.3621 - accuracy: 0.8697 - val_loss: 0.4625 - val_accuracy: 0.8400\n",
      "Epoch 25/100\n",
      "219/219 [==============================] - 33s 149ms/step - loss: 0.3371 - accuracy: 0.8801 - val_loss: 0.3039 - val_accuracy: 0.8963\n",
      "Epoch 26/100\n",
      "219/219 [==============================] - 33s 149ms/step - loss: 0.3125 - accuracy: 0.8883 - val_loss: 0.3487 - val_accuracy: 0.8793\n",
      "Epoch 27/100\n",
      "219/219 [==============================] - 37s 167ms/step - loss: 0.3261 - accuracy: 0.8827 - val_loss: 0.3107 - val_accuracy: 0.8940\n",
      "Epoch 28/100\n",
      "219/219 [==============================] - 37s 167ms/step - loss: 0.3010 - accuracy: 0.8906 - val_loss: 0.2844 - val_accuracy: 0.9033\n",
      "Epoch 29/100\n",
      "219/219 [==============================] - 30s 139ms/step - loss: 0.3369 - accuracy: 0.8764 - val_loss: 0.3549 - val_accuracy: 0.8730\n",
      "Epoch 30/100\n",
      "219/219 [==============================] - 32s 144ms/step - loss: 0.3089 - accuracy: 0.8914 - val_loss: 0.2960 - val_accuracy: 0.8943\n",
      "Epoch 31/100\n",
      "219/219 [==============================] - 37s 167ms/step - loss: 0.2810 - accuracy: 0.9003 - val_loss: 0.3033 - val_accuracy: 0.8940\n",
      "Epoch 32/100\n",
      "219/219 [==============================] - 37s 169ms/step - loss: 0.2806 - accuracy: 0.9007 - val_loss: 0.3255 - val_accuracy: 0.8880\n",
      "Epoch 33/100\n",
      "219/219 [==============================] - 31s 140ms/step - loss: 0.2732 - accuracy: 0.9049 - val_loss: 0.2879 - val_accuracy: 0.8960\n",
      "Epoch 34/100\n",
      "219/219 [==============================] - 37s 167ms/step - loss: 0.2437 - accuracy: 0.9104 - val_loss: 0.3086 - val_accuracy: 0.8927\n",
      "Epoch 35/100\n",
      "219/219 [==============================] - 36s 165ms/step - loss: 0.2580 - accuracy: 0.9087 - val_loss: 0.2822 - val_accuracy: 0.9017\n",
      "Epoch 36/100\n",
      "219/219 [==============================] - 35s 159ms/step - loss: 0.2784 - accuracy: 0.8989 - val_loss: 0.3123 - val_accuracy: 0.8917\n",
      "Epoch 37/100\n",
      "219/219 [==============================] - 36s 163ms/step - loss: 0.2520 - accuracy: 0.9094 - val_loss: 0.3313 - val_accuracy: 0.8830\n",
      "Epoch 38/100\n",
      "219/219 [==============================] - 38s 173ms/step - loss: 0.2692 - accuracy: 0.9030 - val_loss: 0.2341 - val_accuracy: 0.9223\n",
      "Epoch 39/100\n",
      "219/219 [==============================] - 30s 134ms/step - loss: 0.2398 - accuracy: 0.9149 - val_loss: 0.3324 - val_accuracy: 0.8797\n",
      "Epoch 40/100\n",
      "219/219 [==============================] - 37s 169ms/step - loss: 0.2299 - accuracy: 0.9176 - val_loss: 0.3527 - val_accuracy: 0.8767\n",
      "Epoch 41/100\n",
      "219/219 [==============================] - 30s 138ms/step - loss: 0.2491 - accuracy: 0.9087 - val_loss: 0.2847 - val_accuracy: 0.8960\n",
      "Epoch 42/100\n",
      "219/219 [==============================] - 36s 166ms/step - loss: 0.2050 - accuracy: 0.9273 - val_loss: 0.2208 - val_accuracy: 0.9250\n",
      "Epoch 43/100\n",
      "219/219 [==============================] - 37s 169ms/step - loss: 0.2271 - accuracy: 0.9164 - val_loss: 0.2513 - val_accuracy: 0.9177\n",
      "Epoch 44/100\n",
      "219/219 [==============================] - 36s 166ms/step - loss: 0.2143 - accuracy: 0.9217 - val_loss: 0.3655 - val_accuracy: 0.8670\n",
      "Epoch 45/100\n",
      "219/219 [==============================] - 31s 142ms/step - loss: 0.2159 - accuracy: 0.9256 - val_loss: 0.2836 - val_accuracy: 0.8997\n",
      "Epoch 46/100\n",
      "219/219 [==============================] - 32s 145ms/step - loss: 0.2198 - accuracy: 0.9213 - val_loss: 0.2605 - val_accuracy: 0.9007\n",
      "Epoch 47/100\n",
      "219/219 [==============================] - 37s 167ms/step - loss: 0.2111 - accuracy: 0.9234 - val_loss: 0.2757 - val_accuracy: 0.9097\n",
      "Epoch 48/100\n",
      "219/219 [==============================] - 35s 161ms/step - loss: 0.2141 - accuracy: 0.9219 - val_loss: 0.2579 - val_accuracy: 0.9113\n",
      "Epoch 49/100\n",
      "219/219 [==============================] - 32s 146ms/step - loss: 0.1882 - accuracy: 0.9331 - val_loss: 0.1824 - val_accuracy: 0.9367\n",
      "Epoch 50/100\n",
      "219/219 [==============================] - 36s 166ms/step - loss: 0.1985 - accuracy: 0.9330 - val_loss: 0.2202 - val_accuracy: 0.9200\n",
      "Epoch 51/100\n",
      "219/219 [==============================] - 32s 147ms/step - loss: 0.1786 - accuracy: 0.9380 - val_loss: 0.2404 - val_accuracy: 0.9140\n",
      "Epoch 52/100\n",
      "219/219 [==============================] - 33s 151ms/step - loss: 0.1949 - accuracy: 0.9327 - val_loss: 0.2275 - val_accuracy: 0.9190\n",
      "Epoch 53/100\n",
      "219/219 [==============================] - 34s 153ms/step - loss: 0.1888 - accuracy: 0.9333 - val_loss: 0.2602 - val_accuracy: 0.9063\n",
      "Epoch 54/100\n",
      "219/219 [==============================] - 36s 164ms/step - loss: 0.1800 - accuracy: 0.9360 - val_loss: 0.2323 - val_accuracy: 0.9190\n",
      "Epoch 55/100\n",
      "219/219 [==============================] - 33s 149ms/step - loss: 0.1852 - accuracy: 0.9349 - val_loss: 0.2097 - val_accuracy: 0.9307\n",
      "Epoch 56/100\n",
      "219/219 [==============================] - 34s 153ms/step - loss: 0.1781 - accuracy: 0.9399 - val_loss: 0.2533 - val_accuracy: 0.9153\n",
      "Epoch 57/100\n",
      "219/219 [==============================] - 37s 167ms/step - loss: 0.1727 - accuracy: 0.9374 - val_loss: 0.2067 - val_accuracy: 0.9290\n",
      "Epoch 58/100\n",
      "219/219 [==============================] - 38s 172ms/step - loss: 0.1640 - accuracy: 0.9439 - val_loss: 0.2288 - val_accuracy: 0.9253\n",
      "Epoch 59/100\n",
      "219/219 [==============================] - 37s 167ms/step - loss: 0.1829 - accuracy: 0.9377 - val_loss: 0.2400 - val_accuracy: 0.9150\n",
      "Epoch 60/100\n",
      "219/219 [==============================] - 33s 148ms/step - loss: 0.1748 - accuracy: 0.9374 - val_loss: 0.1630 - val_accuracy: 0.9490\n",
      "Epoch 61/100\n",
      "219/219 [==============================] - 33s 151ms/step - loss: 0.1553 - accuracy: 0.9451 - val_loss: 0.2248 - val_accuracy: 0.9217\n",
      "Epoch 62/100\n",
      "219/219 [==============================] - 30s 137ms/step - loss: 0.1721 - accuracy: 0.9393 - val_loss: 0.2349 - val_accuracy: 0.9203\n",
      "Epoch 63/100\n",
      "219/219 [==============================] - 37s 170ms/step - loss: 0.1786 - accuracy: 0.9370 - val_loss: 0.2397 - val_accuracy: 0.9190\n",
      "Epoch 64/100\n",
      "219/219 [==============================] - 33s 150ms/step - loss: 0.1570 - accuracy: 0.9420 - val_loss: 0.1909 - val_accuracy: 0.9410\n",
      "Epoch 65/100\n",
      "219/219 [==============================] - 34s 154ms/step - loss: 0.1634 - accuracy: 0.9419 - val_loss: 0.1853 - val_accuracy: 0.9393\n",
      "Epoch 66/100\n",
      "219/219 [==============================] - 37s 169ms/step - loss: 0.1572 - accuracy: 0.9409 - val_loss: 0.2611 - val_accuracy: 0.9123\n",
      "Epoch 67/100\n",
      "219/219 [==============================] - 36s 166ms/step - loss: 0.1511 - accuracy: 0.9463 - val_loss: 0.2105 - val_accuracy: 0.9227\n",
      "Epoch 68/100\n",
      "219/219 [==============================] - 33s 150ms/step - loss: 0.1626 - accuracy: 0.9399 - val_loss: 0.2008 - val_accuracy: 0.9367\n",
      "Epoch 69/100\n",
      "219/219 [==============================] - 33s 152ms/step - loss: 0.1331 - accuracy: 0.9546 - val_loss: 0.1937 - val_accuracy: 0.9380\n",
      "Epoch 70/100\n",
      "219/219 [==============================] - 37s 167ms/step - loss: 0.1611 - accuracy: 0.9420 - val_loss: 0.2512 - val_accuracy: 0.9173\n",
      "Epoch 71/100\n",
      "219/219 [==============================] - 35s 158ms/step - loss: 0.1395 - accuracy: 0.9514 - val_loss: 0.1732 - val_accuracy: 0.9410\n",
      "Epoch 72/100\n",
      "219/219 [==============================] - 37s 167ms/step - loss: 0.1637 - accuracy: 0.9423 - val_loss: 0.2247 - val_accuracy: 0.9247\n",
      "Epoch 73/100\n",
      "219/219 [==============================] - 29s 132ms/step - loss: 0.1410 - accuracy: 0.9476 - val_loss: 0.1682 - val_accuracy: 0.9397\n",
      "Epoch 74/100\n",
      "219/219 [==============================] - 33s 149ms/step - loss: 0.1426 - accuracy: 0.9470 - val_loss: 0.2268 - val_accuracy: 0.9213\n",
      "Epoch 75/100\n",
      "219/219 [==============================] - 31s 143ms/step - loss: 0.1245 - accuracy: 0.9544 - val_loss: 0.1938 - val_accuracy: 0.9363\n",
      "Epoch 76/100\n",
      "219/219 [==============================] - 35s 158ms/step - loss: 0.1368 - accuracy: 0.9517 - val_loss: 0.1650 - val_accuracy: 0.9437\n",
      "Epoch 77/100\n",
      "219/219 [==============================] - 37s 171ms/step - loss: 0.1329 - accuracy: 0.9524 - val_loss: 0.1977 - val_accuracy: 0.9280\n",
      "Epoch 78/100\n",
      "219/219 [==============================] - 32s 146ms/step - loss: 0.1292 - accuracy: 0.9529 - val_loss: 0.2215 - val_accuracy: 0.9193\n",
      "Epoch 79/100\n",
      "219/219 [==============================] - 38s 172ms/step - loss: 0.1464 - accuracy: 0.9476 - val_loss: 0.1653 - val_accuracy: 0.9470\n",
      "Epoch 80/100\n",
      "219/219 [==============================] - ETA: 0s - loss: 0.1234 - accuracy: 0.9569Restoring model weights from the end of the best epoch: 60.\n",
      "219/219 [==============================] - 32s 148ms/step - loss: 0.1234 - accuracy: 0.9569 - val_loss: 0.3390 - val_accuracy: 0.8937\n",
      "Epoch 80: early stopping\n"
     ]
    }
   ],
   "source": [
    "history = model.fit(\n",
    "    train_gen,\n",
    "    epochs=100,\n",
    "    validation_data=val_gen,\n",
    "    callbacks=[early_stopping]\n",
    ")"
   ]
  },
  {
   "cell_type": "markdown",
   "metadata": {},
   "source": [
    "\n",
    "# Evaluate the model"
   ]
  },
  {
   "cell_type": "code",
   "execution_count": 49,
   "metadata": {},
   "outputs": [
    {
     "name": "stdout",
     "output_type": "stream",
     "text": [
      "17/32 [==============>...............] - ETA: 0s - loss: 0.5622 - accuracy: 0.8474"
     ]
    },
    {
     "ename": "UnknownError",
     "evalue": "Graph execution error:\n\nFileNotFoundError: [Errno 2] No such file or directory: 'val\\\\Tomato___Spider_mites Two-spotted_spider_mite\\\\Tomato___Spider_mites Two-spotted_spider_mite_original_00fa99e8-2605-4d72-be69-98277587d84b___Com.G_SpM_FL 1453.JPG_5a4912ea-1fce-46e0-a929-f5b66622fc78.JPG'\nTraceback (most recent call last):\n\n  File \"c:\\Users\\Javi\\anaconda3\\envs\\leaf\\lib\\site-packages\\tensorflow\\python\\ops\\script_ops.py\", line 271, in __call__\n    ret = func(*args)\n\n  File \"c:\\Users\\Javi\\anaconda3\\envs\\leaf\\lib\\site-packages\\tensorflow\\python\\autograph\\impl\\api.py\", line 642, in wrapper\n    return func(*args, **kwargs)\n\n  File \"c:\\Users\\Javi\\anaconda3\\envs\\leaf\\lib\\site-packages\\tensorflow\\python\\data\\ops\\dataset_ops.py\", line 1035, in generator_py_func\n    values = next(generator_state.get_iterator(iterator_id))\n\n  File \"c:\\Users\\Javi\\anaconda3\\envs\\leaf\\lib\\site-packages\\keras\\engine\\data_adapter.py\", line 903, in wrapped_generator\n    for data in generator_fn():\n\n  File \"c:\\Users\\Javi\\anaconda3\\envs\\leaf\\lib\\site-packages\\keras\\engine\\data_adapter.py\", line 1050, in generator_fn\n    yield x[i]\n\n  File \"c:\\Users\\Javi\\anaconda3\\envs\\leaf\\lib\\site-packages\\keras\\preprocessing\\image.py\", line 116, in __getitem__\n    return self._get_batches_of_transformed_samples(index_array)\n\n  File \"c:\\Users\\Javi\\anaconda3\\envs\\leaf\\lib\\site-packages\\keras\\preprocessing\\image.py\", line 370, in _get_batches_of_transformed_samples\n    img = image_utils.load_img(\n\n  File \"c:\\Users\\Javi\\anaconda3\\envs\\leaf\\lib\\site-packages\\keras\\utils\\image_utils.py\", line 422, in load_img\n    with open(path, \"rb\") as f:\n\nFileNotFoundError: [Errno 2] No such file or directory: 'val\\\\Tomato___Spider_mites Two-spotted_spider_mite\\\\Tomato___Spider_mites Two-spotted_spider_mite_original_00fa99e8-2605-4d72-be69-98277587d84b___Com.G_SpM_FL 1453.JPG_5a4912ea-1fce-46e0-a929-f5b66622fc78.JPG'\n\n\n\t [[{{node PyFunc}}]]\n\t [[IteratorGetNext]] [Op:__inference_test_function_2016]",
     "output_type": "error",
     "traceback": [
      "\u001b[1;31m---------------------------------------------------------------------------\u001b[0m",
      "\u001b[1;31mUnknownError\u001b[0m                              Traceback (most recent call last)",
      "Cell \u001b[1;32mIn[49], line 1\u001b[0m\n\u001b[1;32m----> 1\u001b[0m scores \u001b[38;5;241m=\u001b[39m \u001b[43mmodel\u001b[49m\u001b[38;5;241;43m.\u001b[39;49m\u001b[43mevaluate\u001b[49m\u001b[43m(\u001b[49m\u001b[43mtest_gen\u001b[49m\u001b[43m)\u001b[49m\n\u001b[0;32m      2\u001b[0m \u001b[38;5;28mprint\u001b[39m(\u001b[38;5;124m'\u001b[39m\u001b[38;5;124mTest loss:\u001b[39m\u001b[38;5;124m'\u001b[39m, scores[\u001b[38;5;241m0\u001b[39m])\n\u001b[0;32m      3\u001b[0m \u001b[38;5;28mprint\u001b[39m(\u001b[38;5;124m'\u001b[39m\u001b[38;5;124mTest accuracy:\u001b[39m\u001b[38;5;124m'\u001b[39m, scores[\u001b[38;5;241m1\u001b[39m])\n",
      "File \u001b[1;32mc:\\Users\\Javi\\anaconda3\\envs\\leaf\\lib\\site-packages\\keras\\utils\\traceback_utils.py:70\u001b[0m, in \u001b[0;36mfilter_traceback.<locals>.error_handler\u001b[1;34m(*args, **kwargs)\u001b[0m\n\u001b[0;32m     67\u001b[0m     filtered_tb \u001b[38;5;241m=\u001b[39m _process_traceback_frames(e\u001b[38;5;241m.\u001b[39m__traceback__)\n\u001b[0;32m     68\u001b[0m     \u001b[38;5;66;03m# To get the full stack trace, call:\u001b[39;00m\n\u001b[0;32m     69\u001b[0m     \u001b[38;5;66;03m# `tf.debugging.disable_traceback_filtering()`\u001b[39;00m\n\u001b[1;32m---> 70\u001b[0m     \u001b[38;5;28;01mraise\u001b[39;00m e\u001b[38;5;241m.\u001b[39mwith_traceback(filtered_tb) \u001b[38;5;28;01mfrom\u001b[39;00m \u001b[38;5;28;01mNone\u001b[39;00m\n\u001b[0;32m     71\u001b[0m \u001b[38;5;28;01mfinally\u001b[39;00m:\n\u001b[0;32m     72\u001b[0m     \u001b[38;5;28;01mdel\u001b[39;00m filtered_tb\n",
      "File \u001b[1;32mc:\\Users\\Javi\\anaconda3\\envs\\leaf\\lib\\site-packages\\tensorflow\\python\\eager\\execute.py:54\u001b[0m, in \u001b[0;36mquick_execute\u001b[1;34m(op_name, num_outputs, inputs, attrs, ctx, name)\u001b[0m\n\u001b[0;32m     52\u001b[0m \u001b[38;5;28;01mtry\u001b[39;00m:\n\u001b[0;32m     53\u001b[0m   ctx\u001b[38;5;241m.\u001b[39mensure_initialized()\n\u001b[1;32m---> 54\u001b[0m   tensors \u001b[38;5;241m=\u001b[39m pywrap_tfe\u001b[38;5;241m.\u001b[39mTFE_Py_Execute(ctx\u001b[38;5;241m.\u001b[39m_handle, device_name, op_name,\n\u001b[0;32m     55\u001b[0m                                       inputs, attrs, num_outputs)\n\u001b[0;32m     56\u001b[0m \u001b[38;5;28;01mexcept\u001b[39;00m core\u001b[38;5;241m.\u001b[39m_NotOkStatusException \u001b[38;5;28;01mas\u001b[39;00m e:\n\u001b[0;32m     57\u001b[0m   \u001b[38;5;28;01mif\u001b[39;00m name \u001b[38;5;129;01mis\u001b[39;00m \u001b[38;5;129;01mnot\u001b[39;00m \u001b[38;5;28;01mNone\u001b[39;00m:\n",
      "\u001b[1;31mUnknownError\u001b[0m: Graph execution error:\n\nFileNotFoundError: [Errno 2] No such file or directory: 'val\\\\Tomato___Spider_mites Two-spotted_spider_mite\\\\Tomato___Spider_mites Two-spotted_spider_mite_original_00fa99e8-2605-4d72-be69-98277587d84b___Com.G_SpM_FL 1453.JPG_5a4912ea-1fce-46e0-a929-f5b66622fc78.JPG'\nTraceback (most recent call last):\n\n  File \"c:\\Users\\Javi\\anaconda3\\envs\\leaf\\lib\\site-packages\\tensorflow\\python\\ops\\script_ops.py\", line 271, in __call__\n    ret = func(*args)\n\n  File \"c:\\Users\\Javi\\anaconda3\\envs\\leaf\\lib\\site-packages\\tensorflow\\python\\autograph\\impl\\api.py\", line 642, in wrapper\n    return func(*args, **kwargs)\n\n  File \"c:\\Users\\Javi\\anaconda3\\envs\\leaf\\lib\\site-packages\\tensorflow\\python\\data\\ops\\dataset_ops.py\", line 1035, in generator_py_func\n    values = next(generator_state.get_iterator(iterator_id))\n\n  File \"c:\\Users\\Javi\\anaconda3\\envs\\leaf\\lib\\site-packages\\keras\\engine\\data_adapter.py\", line 903, in wrapped_generator\n    for data in generator_fn():\n\n  File \"c:\\Users\\Javi\\anaconda3\\envs\\leaf\\lib\\site-packages\\keras\\engine\\data_adapter.py\", line 1050, in generator_fn\n    yield x[i]\n\n  File \"c:\\Users\\Javi\\anaconda3\\envs\\leaf\\lib\\site-packages\\keras\\preprocessing\\image.py\", line 116, in __getitem__\n    return self._get_batches_of_transformed_samples(index_array)\n\n  File \"c:\\Users\\Javi\\anaconda3\\envs\\leaf\\lib\\site-packages\\keras\\preprocessing\\image.py\", line 370, in _get_batches_of_transformed_samples\n    img = image_utils.load_img(\n\n  File \"c:\\Users\\Javi\\anaconda3\\envs\\leaf\\lib\\site-packages\\keras\\utils\\image_utils.py\", line 422, in load_img\n    with open(path, \"rb\") as f:\n\nFileNotFoundError: [Errno 2] No such file or directory: 'val\\\\Tomato___Spider_mites Two-spotted_spider_mite\\\\Tomato___Spider_mites Two-spotted_spider_mite_original_00fa99e8-2605-4d72-be69-98277587d84b___Com.G_SpM_FL 1453.JPG_5a4912ea-1fce-46e0-a929-f5b66622fc78.JPG'\n\n\n\t [[{{node PyFunc}}]]\n\t [[IteratorGetNext]] [Op:__inference_test_function_2016]"
     ]
    }
   ],
   "source": [
    "scores = model.evaluate(test_gen)\n",
    "print('Test loss:', scores[0])\n",
    "print('Test accuracy:', scores[1])"
   ]
  },
  {
   "cell_type": "markdown",
   "metadata": {},
   "source": [
    "# Save the model"
   ]
  },
  {
   "cell_type": "code",
   "execution_count": null,
   "metadata": {},
   "outputs": [],
   "source": [
    "model.save('merged_model.h5')"
   ]
  }
 ],
 "metadata": {
  "kernelspec": {
   "display_name": "leaf",
   "language": "python",
   "name": "python3"
  },
  "language_info": {
   "codemirror_mode": {
    "name": "ipython",
    "version": 3
   },
   "file_extension": ".py",
   "mimetype": "text/x-python",
   "name": "python",
   "nbconvert_exporter": "python",
   "pygments_lexer": "ipython3",
   "version": "3.10.13"
  }
 },
 "nbformat": 4,
 "nbformat_minor": 2
}
