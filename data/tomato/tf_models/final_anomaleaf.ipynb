{
 "cells": [
  {
   "cell_type": "markdown",
   "metadata": {},
   "source": [
    "# Import Libraries"
   ]
  },
  {
   "cell_type": "code",
   "execution_count": 1,
   "metadata": {},
   "outputs": [],
   "source": [
    "import tensorflow as tf\n",
    "from tensorflow.keras.preprocessing.image import ImageDataGenerator\n",
    "from tensorflow.keras.models import Sequential\n",
    "from tensorflow.keras.layers import Conv2D, MaxPooling2D, GlobalAveragePooling2D, Dense, Input\n",
    "from tensorflow.keras.callbacks import EarlyStopping\n",
    "from keras.optimizers import Adam"
   ]
  },
  {
   "cell_type": "code",
   "execution_count": 2,
   "metadata": {},
   "outputs": [],
   "source": [
    "import os"
   ]
  },
  {
   "cell_type": "code",
   "execution_count": 3,
   "metadata": {},
   "outputs": [
    {
     "name": "stdout",
     "output_type": "stream",
     "text": [
      "c:\\Users\\Javi\\Desktop\\CSE 120\\Anomaly Detection\\Leaf-Classification\\data\\tomato\n"
     ]
    }
   ],
   "source": [
    "print(os.getcwd())"
   ]
  },
  {
   "cell_type": "code",
   "execution_count": 4,
   "metadata": {},
   "outputs": [
    {
     "name": "stdout",
     "output_type": "stream",
     "text": [
      "Found directory train. Proceeding with loading data...\n"
     ]
    }
   ],
   "source": [
    "train_data_dir = 'train'\n",
    "\n",
    "# Check if the directory exists\n",
    "if not os.path.exists(train_data_dir):\n",
    "    print(f\"The directory {train_data_dir} does not exist.\")\n",
    "else:\n",
    "    print(f\"Found directory {train_data_dir}. Proceeding with loading data...\")\n",
    "    # Proceed with your data loading and model training\n"
   ]
  },
  {
   "cell_type": "markdown",
   "metadata": {},
   "source": [
    "# Data loading and preprocessing"
   ]
  },
  {
   "cell_type": "code",
   "execution_count": 5,
   "metadata": {},
   "outputs": [],
   "source": [
    "train_data_dir = 'train'\n",
    "test_data_dir = 'val'"
   ]
  },
  {
   "cell_type": "code",
   "execution_count": 6,
   "metadata": {},
   "outputs": [],
   "source": [
    "train_datagen = ImageDataGenerator(\n",
    "    rescale=1/255.0,\n",
    "    shear_range=0.2,\n",
    "    zoom_range=0.2,\n",
    "    horizontal_flip=True,\n",
    "    validation_split=0.3\n",
    ")"
   ]
  },
  {
   "cell_type": "code",
   "execution_count": 7,
   "metadata": {},
   "outputs": [
    {
     "name": "stdout",
     "output_type": "stream",
     "text": [
      "Found 7000 images belonging to 10 classes.\n"
     ]
    }
   ],
   "source": [
    "train_gen = train_datagen.flow_from_directory(\n",
    "    train_data_dir,\n",
    "    target_size=(224, 224),\n",
    "    batch_size=128, # increased from 32 to 128\n",
    "    class_mode='categorical',\n",
    "    subset='training'\n",
    ")"
   ]
  },
  {
   "cell_type": "code",
   "execution_count": 8,
   "metadata": {},
   "outputs": [
    {
     "name": "stdout",
     "output_type": "stream",
     "text": [
      "Found 3000 images belonging to 10 classes.\n"
     ]
    }
   ],
   "source": [
    "val_gen = train_datagen.flow_from_directory(\n",
    "    train_data_dir,\n",
    "    target_size=(224, 224),\n",
    "    batch_size=128, # increased from 32 to 128\n",
    "    class_mode='categorical',\n",
    "    subset='validation'\n",
    ")"
   ]
  },
  {
   "cell_type": "code",
   "execution_count": 9,
   "metadata": {},
   "outputs": [],
   "source": [
    "test_datagen = ImageDataGenerator(rescale=1/255.0)"
   ]
  },
  {
   "cell_type": "code",
   "execution_count": 10,
   "metadata": {},
   "outputs": [
    {
     "name": "stdout",
     "output_type": "stream",
     "text": [
      "Found 1000 images belonging to 10 classes.\n"
     ]
    }
   ],
   "source": [
    "test_gen = test_datagen.flow_from_directory(\n",
    "    test_data_dir,\n",
    "    target_size=(224, 224),\n",
    "    batch_size=128, # increased from 32 to 128\n",
    "    class_mode='categorical',\n",
    "    shuffle=False\n",
    ")"
   ]
  },
  {
   "cell_type": "markdown",
   "metadata": {},
   "source": [
    "# Model architecture"
   ]
  },
  {
   "cell_type": "code",
   "execution_count": 11,
   "metadata": {},
   "outputs": [],
   "source": [
    "model = Sequential([\n",
    "    Input(shape=(224, 224, 3)),  # Define the input shape explicitly here\n",
    "    #Conv2D(32, (3, 3), activation='relu', input_shape=(224, 224, 3)),\n",
    "    Conv2D(32, (3, 3), activation='relu'),\n",
    "    MaxPooling2D(pool_size=(2, 2)),\n",
    "    Conv2D(64, (3, 3), activation='relu'),\n",
    "    MaxPooling2D((2, 2)),\n",
    "    Conv2D(64, (3, 3), activation='relu'),\n",
    "    GlobalAveragePooling2D(),\n",
    "    Dense(64, activation='relu'),\n",
    "    Dense(10, activation='softmax')  # Assuming we have 10 classes, adjust if necessary\n",
    "])"
   ]
  },
  {
   "cell_type": "markdown",
   "metadata": {},
   "source": [
    "# Compile the model"
   ]
  },
  {
   "cell_type": "code",
   "execution_count": 12,
   "metadata": {},
   "outputs": [],
   "source": [
    "model.compile(\n",
    "    optimizer=Adam(learning_rate=0.0001), # add learning rate (lr=0.0001) default was 0.001\n",
    "    loss='categorical_crossentropy',\n",
    "    metrics=['accuracy']\n",
    ")"
   ]
  },
  {
   "cell_type": "markdown",
   "metadata": {},
   "source": [
    "# Early Stopping to avoid overfitting"
   ]
  },
  {
   "cell_type": "code",
   "execution_count": 13,
   "metadata": {},
   "outputs": [],
   "source": [
    "early_stopping = EarlyStopping(\n",
    "    monitor='val_accuracy',\n",
    "    patience=20,\n",
    "    verbose=1,\n",
    "    restore_best_weights=True\n",
    ")"
   ]
  },
  {
   "cell_type": "markdown",
   "metadata": {},
   "source": [
    "# Train the model"
   ]
  },
  {
   "cell_type": "code",
   "execution_count": 14,
   "metadata": {},
   "outputs": [
    {
     "name": "stdout",
     "output_type": "stream",
     "text": [
      "Epoch 1/160\n",
      "55/55 [==============================] - 83s 2s/step - loss: 2.2986 - accuracy: 0.1101 - val_loss: 2.2929 - val_accuracy: 0.1160\n",
      "Epoch 2/160\n",
      "55/55 [==============================] - 79s 1s/step - loss: 2.2831 - accuracy: 0.1403 - val_loss: 2.2679 - val_accuracy: 0.1467\n",
      "Epoch 3/160\n",
      "55/55 [==============================] - 79s 1s/step - loss: 2.2385 - accuracy: 0.1816 - val_loss: 2.2020 - val_accuracy: 0.1813\n",
      "Epoch 4/160\n",
      "55/55 [==============================] - 78s 1s/step - loss: 2.1486 - accuracy: 0.2259 - val_loss: 2.1029 - val_accuracy: 0.2623\n",
      "Epoch 5/160\n",
      "55/55 [==============================] - 79s 1s/step - loss: 2.0437 - accuracy: 0.2503 - val_loss: 1.9947 - val_accuracy: 0.2660\n",
      "Epoch 6/160\n",
      "55/55 [==============================] - 79s 1s/step - loss: 1.9497 - accuracy: 0.2926 - val_loss: 1.9297 - val_accuracy: 0.3083\n",
      "Epoch 7/160\n",
      "55/55 [==============================] - 79s 1s/step - loss: 1.8787 - accuracy: 0.3353 - val_loss: 1.8727 - val_accuracy: 0.3043\n",
      "Epoch 8/160\n",
      "55/55 [==============================] - 79s 1s/step - loss: 1.8273 - accuracy: 0.3550 - val_loss: 1.8143 - val_accuracy: 0.3653\n",
      "Epoch 9/160\n",
      "55/55 [==============================] - 78s 1s/step - loss: 1.7869 - accuracy: 0.3646 - val_loss: 1.8088 - val_accuracy: 0.3573\n",
      "Epoch 10/160\n",
      "55/55 [==============================] - 78s 1s/step - loss: 1.7585 - accuracy: 0.3739 - val_loss: 1.7552 - val_accuracy: 0.3803\n",
      "Epoch 11/160\n",
      "55/55 [==============================] - 79s 1s/step - loss: 1.7192 - accuracy: 0.3904 - val_loss: 1.7276 - val_accuracy: 0.4017\n",
      "Epoch 12/160\n",
      "55/55 [==============================] - 77s 1s/step - loss: 1.6957 - accuracy: 0.4010 - val_loss: 1.6995 - val_accuracy: 0.4030\n",
      "Epoch 13/160\n",
      "55/55 [==============================] - 78s 1s/step - loss: 1.6680 - accuracy: 0.4197 - val_loss: 1.7090 - val_accuracy: 0.3890\n",
      "Epoch 14/160\n",
      "55/55 [==============================] - 78s 1s/step - loss: 1.6533 - accuracy: 0.4197 - val_loss: 1.6502 - val_accuracy: 0.4370\n",
      "Epoch 15/160\n",
      "55/55 [==============================] - 78s 1s/step - loss: 1.6290 - accuracy: 0.4456 - val_loss: 1.6564 - val_accuracy: 0.4427\n",
      "Epoch 16/160\n",
      "55/55 [==============================] - 77s 1s/step - loss: 1.6027 - accuracy: 0.4601 - val_loss: 1.6174 - val_accuracy: 0.4747\n",
      "Epoch 17/160\n",
      "55/55 [==============================] - 78s 1s/step - loss: 1.5765 - accuracy: 0.4784 - val_loss: 1.6007 - val_accuracy: 0.4673\n",
      "Epoch 18/160\n",
      "55/55 [==============================] - 78s 1s/step - loss: 1.5589 - accuracy: 0.4857 - val_loss: 1.5709 - val_accuracy: 0.4960\n",
      "Epoch 19/160\n",
      "55/55 [==============================] - 78s 1s/step - loss: 1.5310 - accuracy: 0.5057 - val_loss: 1.5559 - val_accuracy: 0.4763\n",
      "Epoch 20/160\n",
      "55/55 [==============================] - 78s 1s/step - loss: 1.5190 - accuracy: 0.5151 - val_loss: 1.5340 - val_accuracy: 0.5207\n",
      "Epoch 21/160\n",
      "55/55 [==============================] - 78s 1s/step - loss: 1.4888 - accuracy: 0.5089 - val_loss: 1.5152 - val_accuracy: 0.5200\n",
      "Epoch 22/160\n",
      "55/55 [==============================] - 78s 1s/step - loss: 1.4742 - accuracy: 0.5220 - val_loss: 1.4831 - val_accuracy: 0.5157\n",
      "Epoch 23/160\n",
      "55/55 [==============================] - 78s 1s/step - loss: 1.4570 - accuracy: 0.5311 - val_loss: 1.4639 - val_accuracy: 0.5300\n",
      "Epoch 24/160\n",
      "55/55 [==============================] - 77s 1s/step - loss: 1.4393 - accuracy: 0.5381 - val_loss: 1.4611 - val_accuracy: 0.5280\n",
      "Epoch 25/160\n",
      "55/55 [==============================] - 78s 1s/step - loss: 1.4111 - accuracy: 0.5431 - val_loss: 1.4289 - val_accuracy: 0.5340\n",
      "Epoch 26/160\n",
      "55/55 [==============================] - 77s 1s/step - loss: 1.3993 - accuracy: 0.5509 - val_loss: 1.4025 - val_accuracy: 0.5540\n",
      "Epoch 27/160\n",
      "55/55 [==============================] - 77s 1s/step - loss: 1.3710 - accuracy: 0.5561 - val_loss: 1.3956 - val_accuracy: 0.5467\n",
      "Epoch 28/160\n",
      "55/55 [==============================] - 77s 1s/step - loss: 1.3556 - accuracy: 0.5606 - val_loss: 1.3727 - val_accuracy: 0.5620\n",
      "Epoch 29/160\n",
      "55/55 [==============================] - 77s 1s/step - loss: 1.3359 - accuracy: 0.5620 - val_loss: 1.3561 - val_accuracy: 0.5557\n",
      "Epoch 30/160\n",
      "55/55 [==============================] - 77s 1s/step - loss: 1.3211 - accuracy: 0.5649 - val_loss: 1.3239 - val_accuracy: 0.5697\n",
      "Epoch 31/160\n",
      "55/55 [==============================] - 78s 1s/step - loss: 1.3049 - accuracy: 0.5774 - val_loss: 1.3124 - val_accuracy: 0.5747\n",
      "Epoch 32/160\n",
      "55/55 [==============================] - 78s 1s/step - loss: 1.2834 - accuracy: 0.5789 - val_loss: 1.2824 - val_accuracy: 0.5867\n",
      "Epoch 33/160\n",
      "55/55 [==============================] - 79s 1s/step - loss: 1.2692 - accuracy: 0.5880 - val_loss: 1.2732 - val_accuracy: 0.5803\n",
      "Epoch 34/160\n",
      "55/55 [==============================] - 79s 1s/step - loss: 1.2516 - accuracy: 0.5961 - val_loss: 1.2755 - val_accuracy: 0.5820\n",
      "Epoch 35/160\n",
      "55/55 [==============================] - 79s 1s/step - loss: 1.2365 - accuracy: 0.5971 - val_loss: 1.2606 - val_accuracy: 0.5813\n",
      "Epoch 36/160\n",
      "55/55 [==============================] - 78s 1s/step - loss: 1.2179 - accuracy: 0.6027 - val_loss: 1.2279 - val_accuracy: 0.5920\n",
      "Epoch 37/160\n",
      "55/55 [==============================] - 77s 1s/step - loss: 1.2002 - accuracy: 0.6090 - val_loss: 1.2188 - val_accuracy: 0.6010\n",
      "Epoch 38/160\n",
      "55/55 [==============================] - 78s 1s/step - loss: 1.1935 - accuracy: 0.6039 - val_loss: 1.2028 - val_accuracy: 0.6023\n",
      "Epoch 39/160\n",
      "55/55 [==============================] - 77s 1s/step - loss: 1.1805 - accuracy: 0.6091 - val_loss: 1.1841 - val_accuracy: 0.6140\n",
      "Epoch 40/160\n",
      "55/55 [==============================] - 78s 1s/step - loss: 1.1718 - accuracy: 0.6140 - val_loss: 1.1851 - val_accuracy: 0.6017\n",
      "Epoch 41/160\n",
      "55/55 [==============================] - 78s 1s/step - loss: 1.1577 - accuracy: 0.6210 - val_loss: 1.1806 - val_accuracy: 0.6080\n",
      "Epoch 42/160\n",
      "55/55 [==============================] - 77s 1s/step - loss: 1.1502 - accuracy: 0.6184 - val_loss: 1.1492 - val_accuracy: 0.6303\n",
      "Epoch 43/160\n",
      "55/55 [==============================] - 78s 1s/step - loss: 1.1352 - accuracy: 0.6254 - val_loss: 1.1262 - val_accuracy: 0.6280\n",
      "Epoch 44/160\n",
      "55/55 [==============================] - 77s 1s/step - loss: 1.1134 - accuracy: 0.6307 - val_loss: 1.1345 - val_accuracy: 0.6103\n",
      "Epoch 45/160\n",
      "55/55 [==============================] - 78s 1s/step - loss: 1.1152 - accuracy: 0.6311 - val_loss: 1.1064 - val_accuracy: 0.6337\n",
      "Epoch 46/160\n",
      "55/55 [==============================] - 77s 1s/step - loss: 1.0984 - accuracy: 0.6383 - val_loss: 1.1114 - val_accuracy: 0.6297\n",
      "Epoch 47/160\n",
      "55/55 [==============================] - 78s 1s/step - loss: 1.0889 - accuracy: 0.6407 - val_loss: 1.0827 - val_accuracy: 0.6337\n",
      "Epoch 48/160\n",
      "55/55 [==============================] - 77s 1s/step - loss: 1.0809 - accuracy: 0.6453 - val_loss: 1.0780 - val_accuracy: 0.6487\n",
      "Epoch 49/160\n",
      "55/55 [==============================] - 77s 1s/step - loss: 1.0653 - accuracy: 0.6453 - val_loss: 1.0722 - val_accuracy: 0.6343\n",
      "Epoch 50/160\n",
      "55/55 [==============================] - 77s 1s/step - loss: 1.0598 - accuracy: 0.6494 - val_loss: 1.0630 - val_accuracy: 0.6477\n",
      "Epoch 51/160\n",
      "55/55 [==============================] - 78s 1s/step - loss: 1.0534 - accuracy: 0.6490 - val_loss: 1.0539 - val_accuracy: 0.6430\n",
      "Epoch 52/160\n",
      "55/55 [==============================] - 77s 1s/step - loss: 1.0432 - accuracy: 0.6520 - val_loss: 1.0400 - val_accuracy: 0.6443\n",
      "Epoch 53/160\n",
      "55/55 [==============================] - 77s 1s/step - loss: 1.0298 - accuracy: 0.6563 - val_loss: 1.0628 - val_accuracy: 0.6377\n",
      "Epoch 54/160\n",
      "55/55 [==============================] - 77s 1s/step - loss: 1.0345 - accuracy: 0.6514 - val_loss: 1.0385 - val_accuracy: 0.6477\n",
      "Epoch 55/160\n",
      "55/55 [==============================] - 77s 1s/step - loss: 1.0179 - accuracy: 0.6599 - val_loss: 1.0112 - val_accuracy: 0.6577\n",
      "Epoch 56/160\n",
      "55/55 [==============================] - 77s 1s/step - loss: 1.0038 - accuracy: 0.6620 - val_loss: 1.0037 - val_accuracy: 0.6603\n",
      "Epoch 57/160\n",
      "55/55 [==============================] - 77s 1s/step - loss: 1.0096 - accuracy: 0.6569 - val_loss: 1.0296 - val_accuracy: 0.6393\n",
      "Epoch 58/160\n",
      "55/55 [==============================] - 77s 1s/step - loss: 0.9946 - accuracy: 0.6631 - val_loss: 0.9997 - val_accuracy: 0.6610\n",
      "Epoch 59/160\n",
      "55/55 [==============================] - 77s 1s/step - loss: 0.9914 - accuracy: 0.6696 - val_loss: 0.9841 - val_accuracy: 0.6597\n",
      "Epoch 60/160\n",
      "55/55 [==============================] - 78s 1s/step - loss: 0.9851 - accuracy: 0.6636 - val_loss: 0.9834 - val_accuracy: 0.6640\n",
      "Epoch 61/160\n",
      "55/55 [==============================] - 77s 1s/step - loss: 0.9707 - accuracy: 0.6727 - val_loss: 0.9809 - val_accuracy: 0.6613\n",
      "Epoch 62/160\n",
      "55/55 [==============================] - 77s 1s/step - loss: 0.9648 - accuracy: 0.6743 - val_loss: 0.9792 - val_accuracy: 0.6637\n",
      "Epoch 63/160\n",
      "55/55 [==============================] - 77s 1s/step - loss: 0.9582 - accuracy: 0.6776 - val_loss: 0.9659 - val_accuracy: 0.6790\n",
      "Epoch 64/160\n",
      "55/55 [==============================] - 77s 1s/step - loss: 0.9552 - accuracy: 0.6756 - val_loss: 0.9664 - val_accuracy: 0.6630\n",
      "Epoch 65/160\n",
      "55/55 [==============================] - 78s 1s/step - loss: 0.9576 - accuracy: 0.6754 - val_loss: 0.9558 - val_accuracy: 0.6707\n",
      "Epoch 66/160\n",
      "55/55 [==============================] - 77s 1s/step - loss: 0.9377 - accuracy: 0.6854 - val_loss: 0.9726 - val_accuracy: 0.6710\n",
      "Epoch 67/160\n",
      "55/55 [==============================] - 77s 1s/step - loss: 0.9553 - accuracy: 0.6737 - val_loss: 0.9332 - val_accuracy: 0.6817\n",
      "Epoch 68/160\n",
      "55/55 [==============================] - 77s 1s/step - loss: 0.9332 - accuracy: 0.6797 - val_loss: 0.9411 - val_accuracy: 0.6777\n",
      "Epoch 69/160\n",
      "55/55 [==============================] - 77s 1s/step - loss: 0.9283 - accuracy: 0.6837 - val_loss: 0.9364 - val_accuracy: 0.6810\n",
      "Epoch 70/160\n",
      "55/55 [==============================] - 77s 1s/step - loss: 0.9279 - accuracy: 0.6804 - val_loss: 0.9295 - val_accuracy: 0.6773\n",
      "Epoch 71/160\n",
      "55/55 [==============================] - 77s 1s/step - loss: 0.9213 - accuracy: 0.6799 - val_loss: 0.9225 - val_accuracy: 0.6807\n",
      "Epoch 72/160\n",
      "55/55 [==============================] - 77s 1s/step - loss: 0.9133 - accuracy: 0.6897 - val_loss: 0.9220 - val_accuracy: 0.6813\n",
      "Epoch 73/160\n",
      "55/55 [==============================] - 77s 1s/step - loss: 0.9002 - accuracy: 0.6907 - val_loss: 0.9054 - val_accuracy: 0.6833\n",
      "Epoch 74/160\n",
      "55/55 [==============================] - 77s 1s/step - loss: 0.9063 - accuracy: 0.6881 - val_loss: 0.9208 - val_accuracy: 0.6780\n",
      "Epoch 75/160\n",
      "55/55 [==============================] - 77s 1s/step - loss: 0.9017 - accuracy: 0.6927 - val_loss: 0.9163 - val_accuracy: 0.6840\n",
      "Epoch 76/160\n",
      "55/55 [==============================] - 78s 1s/step - loss: 0.8952 - accuracy: 0.6963 - val_loss: 0.8923 - val_accuracy: 0.6900\n",
      "Epoch 77/160\n",
      "55/55 [==============================] - 77s 1s/step - loss: 0.8914 - accuracy: 0.6866 - val_loss: 0.9087 - val_accuracy: 0.6920\n",
      "Epoch 78/160\n",
      "55/55 [==============================] - 77s 1s/step - loss: 0.8838 - accuracy: 0.6903 - val_loss: 0.8997 - val_accuracy: 0.6873\n",
      "Epoch 79/160\n",
      "55/55 [==============================] - 77s 1s/step - loss: 0.8833 - accuracy: 0.6951 - val_loss: 0.8772 - val_accuracy: 0.6907\n",
      "Epoch 80/160\n",
      "55/55 [==============================] - 77s 1s/step - loss: 0.8733 - accuracy: 0.6966 - val_loss: 0.8758 - val_accuracy: 0.6977\n",
      "Epoch 81/160\n",
      "55/55 [==============================] - 77s 1s/step - loss: 0.8714 - accuracy: 0.6967 - val_loss: 0.8858 - val_accuracy: 0.6917\n",
      "Epoch 82/160\n",
      "55/55 [==============================] - 77s 1s/step - loss: 0.8695 - accuracy: 0.6976 - val_loss: 0.9016 - val_accuracy: 0.6920\n",
      "Epoch 83/160\n",
      "55/55 [==============================] - 77s 1s/step - loss: 0.8715 - accuracy: 0.6951 - val_loss: 0.8632 - val_accuracy: 0.6997\n",
      "Epoch 84/160\n",
      "55/55 [==============================] - 77s 1s/step - loss: 0.8710 - accuracy: 0.6966 - val_loss: 0.9002 - val_accuracy: 0.6870\n",
      "Epoch 85/160\n",
      "55/55 [==============================] - 77s 1s/step - loss: 0.8680 - accuracy: 0.6970 - val_loss: 0.8829 - val_accuracy: 0.6890\n",
      "Epoch 86/160\n",
      "55/55 [==============================] - 77s 1s/step - loss: 0.8641 - accuracy: 0.6997 - val_loss: 0.8635 - val_accuracy: 0.6950\n",
      "Epoch 87/160\n",
      "55/55 [==============================] - 77s 1s/step - loss: 0.8542 - accuracy: 0.7004 - val_loss: 0.8500 - val_accuracy: 0.6987\n",
      "Epoch 88/160\n",
      "55/55 [==============================] - 77s 1s/step - loss: 0.8555 - accuracy: 0.6991 - val_loss: 0.8583 - val_accuracy: 0.6953\n",
      "Epoch 89/160\n",
      "55/55 [==============================] - 77s 1s/step - loss: 0.8451 - accuracy: 0.7069 - val_loss: 0.8497 - val_accuracy: 0.6963\n",
      "Epoch 90/160\n",
      "55/55 [==============================] - 77s 1s/step - loss: 0.8443 - accuracy: 0.7033 - val_loss: 0.8538 - val_accuracy: 0.6933\n",
      "Epoch 91/160\n",
      "55/55 [==============================] - 77s 1s/step - loss: 0.8466 - accuracy: 0.7044 - val_loss: 0.8543 - val_accuracy: 0.6940\n",
      "Epoch 92/160\n",
      "55/55 [==============================] - 77s 1s/step - loss: 0.8380 - accuracy: 0.7020 - val_loss: 0.8516 - val_accuracy: 0.7037\n",
      "Epoch 93/160\n",
      "55/55 [==============================] - 78s 1s/step - loss: 0.8323 - accuracy: 0.7091 - val_loss: 0.8365 - val_accuracy: 0.7010\n",
      "Epoch 94/160\n",
      "55/55 [==============================] - 77s 1s/step - loss: 0.8314 - accuracy: 0.7074 - val_loss: 0.8543 - val_accuracy: 0.6987\n",
      "Epoch 95/160\n",
      "55/55 [==============================] - 78s 1s/step - loss: 0.8277 - accuracy: 0.7091 - val_loss: 0.8441 - val_accuracy: 0.6997\n",
      "Epoch 96/160\n",
      "55/55 [==============================] - 78s 1s/step - loss: 0.8277 - accuracy: 0.7067 - val_loss: 0.8252 - val_accuracy: 0.7040\n",
      "Epoch 97/160\n",
      "55/55 [==============================] - 77s 1s/step - loss: 0.8175 - accuracy: 0.7126 - val_loss: 0.8294 - val_accuracy: 0.7043\n",
      "Epoch 98/160\n",
      "55/55 [==============================] - 77s 1s/step - loss: 0.8227 - accuracy: 0.7094 - val_loss: 0.8226 - val_accuracy: 0.6950\n",
      "Epoch 99/160\n",
      "55/55 [==============================] - 77s 1s/step - loss: 0.8140 - accuracy: 0.7166 - val_loss: 0.8278 - val_accuracy: 0.7053\n",
      "Epoch 100/160\n",
      "55/55 [==============================] - 77s 1s/step - loss: 0.8185 - accuracy: 0.7093 - val_loss: 0.8273 - val_accuracy: 0.7140\n",
      "Epoch 101/160\n",
      "55/55 [==============================] - 78s 1s/step - loss: 0.8081 - accuracy: 0.7173 - val_loss: 0.8096 - val_accuracy: 0.7147\n",
      "Epoch 102/160\n",
      "55/55 [==============================] - 77s 1s/step - loss: 0.8088 - accuracy: 0.7080 - val_loss: 0.8073 - val_accuracy: 0.7080\n",
      "Epoch 103/160\n",
      "55/55 [==============================] - 77s 1s/step - loss: 0.8021 - accuracy: 0.7141 - val_loss: 0.8115 - val_accuracy: 0.7110\n",
      "Epoch 104/160\n",
      "55/55 [==============================] - 78s 1s/step - loss: 0.7962 - accuracy: 0.7177 - val_loss: 0.8101 - val_accuracy: 0.7050\n",
      "Epoch 105/160\n",
      "55/55 [==============================] - 77s 1s/step - loss: 0.8060 - accuracy: 0.7124 - val_loss: 0.8127 - val_accuracy: 0.7090\n",
      "Epoch 106/160\n",
      "55/55 [==============================] - 81s 1s/step - loss: 0.7938 - accuracy: 0.7181 - val_loss: 0.8028 - val_accuracy: 0.7197\n",
      "Epoch 107/160\n",
      "55/55 [==============================] - 77s 1s/step - loss: 0.7994 - accuracy: 0.7203 - val_loss: 0.8034 - val_accuracy: 0.7283\n",
      "Epoch 108/160\n",
      "55/55 [==============================] - 77s 1s/step - loss: 0.7885 - accuracy: 0.7217 - val_loss: 0.7908 - val_accuracy: 0.7140\n",
      "Epoch 109/160\n",
      "55/55 [==============================] - 77s 1s/step - loss: 0.7884 - accuracy: 0.7241 - val_loss: 0.7869 - val_accuracy: 0.7290\n",
      "Epoch 110/160\n",
      "55/55 [==============================] - 77s 1s/step - loss: 0.7835 - accuracy: 0.7216 - val_loss: 0.7869 - val_accuracy: 0.7150\n",
      "Epoch 111/160\n",
      "55/55 [==============================] - 77s 1s/step - loss: 0.7773 - accuracy: 0.7260 - val_loss: 0.7882 - val_accuracy: 0.7133\n",
      "Epoch 112/160\n",
      "55/55 [==============================] - 77s 1s/step - loss: 0.7746 - accuracy: 0.7257 - val_loss: 0.7876 - val_accuracy: 0.7073\n",
      "Epoch 113/160\n",
      "55/55 [==============================] - 79s 1s/step - loss: 0.7769 - accuracy: 0.7259 - val_loss: 0.7903 - val_accuracy: 0.7143\n",
      "Epoch 114/160\n",
      "55/55 [==============================] - 78s 1s/step - loss: 0.7744 - accuracy: 0.7243 - val_loss: 0.7741 - val_accuracy: 0.7213\n",
      "Epoch 115/160\n",
      "55/55 [==============================] - 77s 1s/step - loss: 0.7797 - accuracy: 0.7230 - val_loss: 0.7795 - val_accuracy: 0.7313\n",
      "Epoch 116/160\n",
      "55/55 [==============================] - 77s 1s/step - loss: 0.7735 - accuracy: 0.7247 - val_loss: 0.7699 - val_accuracy: 0.7350\n",
      "Epoch 117/160\n",
      "55/55 [==============================] - 77s 1s/step - loss: 0.7671 - accuracy: 0.7310 - val_loss: 0.7862 - val_accuracy: 0.7260\n",
      "Epoch 118/160\n",
      "55/55 [==============================] - 77s 1s/step - loss: 0.7693 - accuracy: 0.7259 - val_loss: 0.7777 - val_accuracy: 0.7273\n",
      "Epoch 119/160\n",
      "55/55 [==============================] - 77s 1s/step - loss: 0.7591 - accuracy: 0.7309 - val_loss: 0.7717 - val_accuracy: 0.7390\n",
      "Epoch 120/160\n",
      "55/55 [==============================] - 78s 1s/step - loss: 0.7603 - accuracy: 0.7331 - val_loss: 0.7771 - val_accuracy: 0.7147\n",
      "Epoch 121/160\n",
      "55/55 [==============================] - 77s 1s/step - loss: 0.7605 - accuracy: 0.7301 - val_loss: 0.7690 - val_accuracy: 0.7240\n",
      "Epoch 122/160\n",
      "55/55 [==============================] - 77s 1s/step - loss: 0.7587 - accuracy: 0.7327 - val_loss: 0.7675 - val_accuracy: 0.7250\n",
      "Epoch 123/160\n",
      "55/55 [==============================] - 77s 1s/step - loss: 0.7619 - accuracy: 0.7283 - val_loss: 0.7528 - val_accuracy: 0.7353\n",
      "Epoch 124/160\n",
      "55/55 [==============================] - 77s 1s/step - loss: 0.7529 - accuracy: 0.7320 - val_loss: 0.7699 - val_accuracy: 0.7293\n",
      "Epoch 125/160\n",
      "55/55 [==============================] - 77s 1s/step - loss: 0.7514 - accuracy: 0.7316 - val_loss: 0.7995 - val_accuracy: 0.7247\n",
      "Epoch 126/160\n",
      "55/55 [==============================] - 77s 1s/step - loss: 0.7451 - accuracy: 0.7391 - val_loss: 0.7663 - val_accuracy: 0.7263\n",
      "Epoch 127/160\n",
      "55/55 [==============================] - 77s 1s/step - loss: 0.7538 - accuracy: 0.7376 - val_loss: 0.7434 - val_accuracy: 0.7350\n",
      "Epoch 128/160\n",
      "55/55 [==============================] - 77s 1s/step - loss: 0.7492 - accuracy: 0.7313 - val_loss: 0.7529 - val_accuracy: 0.7363\n",
      "Epoch 129/160\n",
      "55/55 [==============================] - 77s 1s/step - loss: 0.7456 - accuracy: 0.7379 - val_loss: 0.7505 - val_accuracy: 0.7363\n",
      "Epoch 130/160\n",
      "55/55 [==============================] - 78s 1s/step - loss: 0.7424 - accuracy: 0.7361 - val_loss: 0.7528 - val_accuracy: 0.7383\n",
      "Epoch 131/160\n",
      "55/55 [==============================] - 78s 1s/step - loss: 0.7462 - accuracy: 0.7354 - val_loss: 0.7414 - val_accuracy: 0.7497\n",
      "Epoch 132/160\n",
      "55/55 [==============================] - 77s 1s/step - loss: 0.7340 - accuracy: 0.7416 - val_loss: 0.7420 - val_accuracy: 0.7433\n",
      "Epoch 133/160\n",
      "55/55 [==============================] - 77s 1s/step - loss: 0.7319 - accuracy: 0.7417 - val_loss: 0.7468 - val_accuracy: 0.7317\n",
      "Epoch 134/160\n",
      "55/55 [==============================] - 77s 1s/step - loss: 0.7351 - accuracy: 0.7434 - val_loss: 0.7523 - val_accuracy: 0.7477\n",
      "Epoch 135/160\n",
      "55/55 [==============================] - 77s 1s/step - loss: 0.7280 - accuracy: 0.7431 - val_loss: 0.7562 - val_accuracy: 0.7233\n",
      "Epoch 136/160\n",
      "55/55 [==============================] - 77s 1s/step - loss: 0.7289 - accuracy: 0.7423 - val_loss: 0.7438 - val_accuracy: 0.7377\n",
      "Epoch 137/160\n",
      "55/55 [==============================] - 78s 1s/step - loss: 0.7304 - accuracy: 0.7423 - val_loss: 0.7339 - val_accuracy: 0.7423\n",
      "Epoch 138/160\n",
      "55/55 [==============================] - 77s 1s/step - loss: 0.7220 - accuracy: 0.7431 - val_loss: 0.7623 - val_accuracy: 0.7257\n",
      "Epoch 139/160\n",
      "55/55 [==============================] - 77s 1s/step - loss: 0.7222 - accuracy: 0.7397 - val_loss: 0.7568 - val_accuracy: 0.7303\n",
      "Epoch 140/160\n",
      "55/55 [==============================] - 77s 1s/step - loss: 0.7161 - accuracy: 0.7440 - val_loss: 0.7380 - val_accuracy: 0.7347\n",
      "Epoch 141/160\n",
      "55/55 [==============================] - 77s 1s/step - loss: 0.7167 - accuracy: 0.7499 - val_loss: 0.7244 - val_accuracy: 0.7483\n",
      "Epoch 142/160\n",
      "55/55 [==============================] - 78s 1s/step - loss: 0.7223 - accuracy: 0.7483 - val_loss: 0.7267 - val_accuracy: 0.7567\n",
      "Epoch 143/160\n",
      "55/55 [==============================] - 77s 1s/step - loss: 0.7156 - accuracy: 0.7481 - val_loss: 0.7399 - val_accuracy: 0.7390\n",
      "Epoch 144/160\n",
      "55/55 [==============================] - 77s 1s/step - loss: 0.7257 - accuracy: 0.7417 - val_loss: 0.7683 - val_accuracy: 0.7227\n",
      "Epoch 145/160\n",
      "55/55 [==============================] - 78s 1s/step - loss: 0.7170 - accuracy: 0.7511 - val_loss: 0.7242 - val_accuracy: 0.7500\n",
      "Epoch 146/160\n",
      "55/55 [==============================] - 77s 1s/step - loss: 0.7027 - accuracy: 0.7504 - val_loss: 0.7154 - val_accuracy: 0.7507\n",
      "Epoch 147/160\n",
      "55/55 [==============================] - 77s 1s/step - loss: 0.7058 - accuracy: 0.7483 - val_loss: 0.7189 - val_accuracy: 0.7533\n",
      "Epoch 148/160\n",
      "55/55 [==============================] - 77s 1s/step - loss: 0.7084 - accuracy: 0.7524 - val_loss: 0.7226 - val_accuracy: 0.7473\n",
      "Epoch 149/160\n",
      "55/55 [==============================] - 77s 1s/step - loss: 0.6993 - accuracy: 0.7517 - val_loss: 0.7314 - val_accuracy: 0.7420\n",
      "Epoch 150/160\n",
      "55/55 [==============================] - 77s 1s/step - loss: 0.7040 - accuracy: 0.7501 - val_loss: 0.7623 - val_accuracy: 0.7430\n",
      "Epoch 151/160\n",
      "55/55 [==============================] - 77s 1s/step - loss: 0.6959 - accuracy: 0.7556 - val_loss: 0.7146 - val_accuracy: 0.7530\n",
      "Epoch 152/160\n",
      "55/55 [==============================] - 77s 1s/step - loss: 0.6946 - accuracy: 0.7580 - val_loss: 0.7182 - val_accuracy: 0.7607\n",
      "Epoch 153/160\n",
      "55/55 [==============================] - 78s 1s/step - loss: 0.6912 - accuracy: 0.7586 - val_loss: 0.6979 - val_accuracy: 0.7683\n",
      "Epoch 154/160\n",
      "55/55 [==============================] - 77s 1s/step - loss: 0.6922 - accuracy: 0.7506 - val_loss: 0.7115 - val_accuracy: 0.7627\n",
      "Epoch 155/160\n",
      "55/55 [==============================] - 77s 1s/step - loss: 0.6923 - accuracy: 0.7599 - val_loss: 0.6994 - val_accuracy: 0.7533\n",
      "Epoch 156/160\n",
      "55/55 [==============================] - 77s 1s/step - loss: 0.6901 - accuracy: 0.7579 - val_loss: 0.7264 - val_accuracy: 0.7543\n",
      "Epoch 157/160\n",
      "55/55 [==============================] - 77s 1s/step - loss: 0.6858 - accuracy: 0.7599 - val_loss: 0.7102 - val_accuracy: 0.7560\n",
      "Epoch 158/160\n",
      "55/55 [==============================] - 77s 1s/step - loss: 0.6817 - accuracy: 0.7583 - val_loss: 0.6991 - val_accuracy: 0.7620\n",
      "Epoch 159/160\n",
      "55/55 [==============================] - 77s 1s/step - loss: 0.6772 - accuracy: 0.7619 - val_loss: 0.7040 - val_accuracy: 0.7517\n",
      "Epoch 160/160\n",
      "55/55 [==============================] - 77s 1s/step - loss: 0.6832 - accuracy: 0.7610 - val_loss: 0.6983 - val_accuracy: 0.7703\n"
     ]
    }
   ],
   "source": [
    "history = model.fit(\n",
    "    train_gen,\n",
    "    epochs=160, #increased from 80 to 160\n",
    "    validation_data=val_gen,\n",
    "    callbacks=[early_stopping]\n",
    ")"
   ]
  },
  {
   "cell_type": "markdown",
   "metadata": {},
   "source": [
    "\n",
    "# Evaluate the model"
   ]
  },
  {
   "cell_type": "code",
   "execution_count": 15,
   "metadata": {},
   "outputs": [
    {
     "name": "stdout",
     "output_type": "stream",
     "text": [
      "8/8 [==============================] - 2s 254ms/step - loss: 1.7777 - accuracy: 0.5720\n",
      "Test loss: 1.7777217626571655\n",
      "Test accuracy: 0.5720000267028809\n"
     ]
    }
   ],
   "source": [
    "scores = model.evaluate(test_gen) #change test_gen to val_gen\n",
    "print('Test loss:', scores[0])\n",
    "print('Test accuracy:', scores[1])"
   ]
  },
  {
   "cell_type": "markdown",
   "metadata": {},
   "source": [
    "# Save the model"
   ]
  },
  {
   "cell_type": "code",
   "execution_count": 16,
   "metadata": {},
   "outputs": [],
   "source": [
    "model.save('merged_model.h5')"
   ]
  }
 ],
 "metadata": {
  "kernelspec": {
   "display_name": "leaf",
   "language": "python",
   "name": "python3"
  },
  "language_info": {
   "codemirror_mode": {
    "name": "ipython",
    "version": 3
   },
   "file_extension": ".py",
   "mimetype": "text/x-python",
   "name": "python",
   "nbconvert_exporter": "python",
   "pygments_lexer": "ipython3",
   "version": "3.10.13"
  }
 },
 "nbformat": 4,
 "nbformat_minor": 2
}
