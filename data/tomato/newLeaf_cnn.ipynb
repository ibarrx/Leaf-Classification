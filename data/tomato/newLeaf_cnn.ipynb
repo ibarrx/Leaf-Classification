{
 "cells": [
  {
   "cell_type": "code",
   "execution_count": 63,
   "metadata": {},
   "outputs": [],
   "source": [
    "# Importing all the libraries needed\n",
    "import numpy as np\n",
    "import matplotlib.pyplot as plt\n",
    "%matplotlib inline\n",
    "import tensorflow as tf\n",
    "import pandas as pd\n",
    "import os, requests, cv2, random\n",
    "from tensorflow.keras.models import Sequential\n",
    "from tensorflow.keras.layers import Conv2D, MaxPooling2D, Flatten, Dense\n",
    "from tensorflow.keras.callbacks import EarlyStopping\n",
    "from tensorflow.keras.optimizers import Adam\n",
    "from tensorflow.keras import models\n",
    "from tensorflow.keras import Sequential, layers\n",
    "from tensorflow.keras.preprocessing.image import ImageDataGenerator\n",
    "from tensorflow import keras\n",
    "from sklearn.metrics import confusion_matrix,classification_report"
   ]
  },
  {
   "cell_type": "markdown",
   "metadata": {},
   "source": [
    "## 1. Loading data and preprocessing it"
   ]
  },
  {
   "cell_type": "code",
   "execution_count": 64,
   "metadata": {},
   "outputs": [
    {
     "name": "stdout",
     "output_type": "stream",
     "text": [
      "c:\\Users\\Javi\\OneDrive - University of California Merced\\Desktop\\CSE 120\\Anomaly Detection\\Leaf-Classification\\data\\tomato\n"
     ]
    }
   ],
   "source": [
    "# checking directory\n",
    "import os\n",
    "print(os.getcwd())"
   ]
  },
  {
   "cell_type": "code",
   "execution_count": 65,
   "metadata": {},
   "outputs": [
    {
     "name": "stdout",
     "output_type": "stream",
     "text": [
      "Found directory newleafdatasetbgrem10k. Proceeding with loading data...\n"
     ]
    }
   ],
   "source": [
    "train_data_dir = 'newleafdatasetbgrem10k' #'data/tomato/____' only the dataset not complete path\n",
    "\n",
    "# Check if the directory exists\n",
    "if not os.path.exists(train_data_dir):\n",
    "    print(f\"The directory {train_data_dir} does not exist.\")\n",
    "else:\n",
    "    print(f\"Found directory {train_data_dir}. Proceeding with loading data...\")\n",
    "    # Proceed with your data loading and model training"
   ]
  },
  {
   "cell_type": "code",
   "execution_count": 66,
   "metadata": {},
   "outputs": [],
   "source": [
    "# loading the pictures of leaves\n",
    "\n",
    "train_data_dir = './newleafdatasetbgrem10k/train'\n",
    "test_data_dir = './newleafdatasetbgrem10k/test' #this folder will be used for evaluating model's perfomance\n",
    "val_data_dir = './newleafdatasetbgrem10k/val'\n",
    "# not val in test_data_dir"
   ]
  },
  {
   "cell_type": "code",
   "execution_count": 67,
   "metadata": {},
   "outputs": [],
   "source": [
    "# for this challenge we are using ImageDataGenerator \n",
    "\n",
    "train_datagen = ImageDataGenerator(rescale=1/255.0,\n",
    "                               shear_range=0.2,\n",
    "                                zoom_range=0.2,\n",
    "                                horizontal_flip=True)# no need to specify the validation split inside this function, instead separately\n",
    "\n",
    "val_datagen = ImageDataGenerator(rescale=1/255.0, \n",
    "                                 shear_range=0.2, \n",
    "                                 zoom_range=0.2, \n",
    "                                 horizontal_flip=True)\n",
    "\n",
    "test_datagen = ImageDataGenerator(rescale=1/255.0,\n",
    "                                shear_range=0.2,\n",
    "                                zoom_range=0.2,\n",
    "                                horizontal_flip=True)"
   ]
  },
  {
   "cell_type": "code",
   "execution_count": 68,
   "metadata": {},
   "outputs": [
    {
     "name": "stdout",
     "output_type": "stream",
     "text": [
      "Found 7920 images belonging to 10 classes.\n"
     ]
    }
   ],
   "source": [
    "train_gen = train_datagen.flow_from_directory(\n",
    "                                train_data_dir,\n",
    "                                target_size=(224, 224),\n",
    "                                batch_size=32,\n",
    "                                shuffle=True,\n",
    "                                class_mode='categorical') # removed subset='training'"
   ]
  },
  {
   "cell_type": "code",
   "execution_count": 69,
   "metadata": {},
   "outputs": [
    {
     "name": "stdout",
     "output_type": "stream",
     "text": [
      "Found 2200 images belonging to 10 classes.\n"
     ]
    }
   ],
   "source": [
    "val_gen = val_datagen.flow_from_directory(\n",
    "                                val_data_dir,\n",
    "                                target_size=(224,224),\n",
    "                                batch_size=32,\n",
    "                                shuffle=True,\n",
    "                                class_mode='categorical') # removed subset='validation'"
   ]
  },
  {
   "cell_type": "code",
   "execution_count": 70,
   "metadata": {},
   "outputs": [
    {
     "name": "stdout",
     "output_type": "stream",
     "text": [
      "Found 880 images belonging to 10 classes.\n"
     ]
    }
   ],
   "source": [
    "test_gen = test_datagen.flow_from_directory(\n",
    "        test_data_dir,\n",
    "        target_size=(224, 224),\n",
    "        batch_size=32,\n",
    "        class_mode='categorical',\n",
    "        shuffle = False) #shuffle will not affect the accuracy of the model, but will affect the computation of some metrics that depend on the order of the samples"
   ]
  },
  {
   "cell_type": "markdown",
   "metadata": {},
   "source": [
    "## 1a. Building a CNN model with a learning rate of 0.0001"
   ]
  },
  {
   "cell_type": "code",
   "execution_count": 71,
   "metadata": {},
   "outputs": [],
   "source": [
    "# CNN model layers\n",
    "\n",
    "cnn = models.Sequential()\n",
    "\n",
    "cnn.add(layers.Conv2D(32, kernel_size = (3,3), activation='relu', input_shape = [224, 224,3])),\n",
    "cnn.add(layers.MaxPooling2D(pool_size = (2, 2))),\n",
    "\n",
    "cnn.add(layers.Conv2D(64, (3,3), activation='relu')),\n",
    "cnn.add(layers. MaxPooling2D((2, 2))),\n",
    "\n",
    "cnn.add(layers.Conv2D(64, (3,3), activation='relu')),\n",
    "cnn.add(layers.MaxPooling2D((2, 2))),\n",
    "\n",
    "cnn.add(layers.Conv2D(64, (3, 3), activation='relu')), \n",
    "cnn.add(layers.MaxPooling2D((2, 2))),\n",
    "\n",
    "cnn.add(layers.Conv2D(64, (3, 3), activation='relu')), \n",
    "cnn.add(layers.MaxPooling2D((2, 2))),\n",
    "\n",
    "cnn.add(layers.Conv2D(64, (3, 3), activation='relu')), \n",
    "cnn.add(layers.MaxPooling2D((2, 2))),\n",
    "\n",
    "cnn.add(layers.Flatten()),\n",
    "\n",
    "cnn.add(layers.Dense(64,activation='relu'))\n",
    "#output layer\n",
    "cnn.add(layers.Dense(10,activation='softmax'))"
   ]
  },
  {
   "cell_type": "code",
   "execution_count": 72,
   "metadata": {},
   "outputs": [
    {
     "name": "stdout",
     "output_type": "stream",
     "text": [
      "Model: \"sequential_3\"\n",
      "_________________________________________________________________\n",
      " Layer (type)                Output Shape              Param #   \n",
      "=================================================================\n",
      " conv2d_18 (Conv2D)          (None, 222, 222, 32)      896       \n",
      "                                                                 \n",
      " max_pooling2d_18 (MaxPooli  (None, 111, 111, 32)      0         \n",
      " ng2D)                                                           \n",
      "                                                                 \n",
      " conv2d_19 (Conv2D)          (None, 109, 109, 64)      18496     \n",
      "                                                                 \n",
      " max_pooling2d_19 (MaxPooli  (None, 54, 54, 64)        0         \n",
      " ng2D)                                                           \n",
      "                                                                 \n",
      " conv2d_20 (Conv2D)          (None, 52, 52, 64)        36928     \n",
      "                                                                 \n",
      " max_pooling2d_20 (MaxPooli  (None, 26, 26, 64)        0         \n",
      " ng2D)                                                           \n",
      "                                                                 \n",
      " conv2d_21 (Conv2D)          (None, 24, 24, 64)        36928     \n",
      "                                                                 \n",
      " max_pooling2d_21 (MaxPooli  (None, 12, 12, 64)        0         \n",
      " ng2D)                                                           \n",
      "                                                                 \n",
      " conv2d_22 (Conv2D)          (None, 10, 10, 64)        36928     \n",
      "                                                                 \n",
      " max_pooling2d_22 (MaxPooli  (None, 5, 5, 64)          0         \n",
      " ng2D)                                                           \n",
      "                                                                 \n",
      " conv2d_23 (Conv2D)          (None, 3, 3, 64)          36928     \n",
      "                                                                 \n",
      " max_pooling2d_23 (MaxPooli  (None, 1, 1, 64)          0         \n",
      " ng2D)                                                           \n",
      "                                                                 \n",
      " flatten_3 (Flatten)         (None, 64)                0         \n",
      "                                                                 \n",
      " dense_6 (Dense)             (None, 64)                4160      \n",
      "                                                                 \n",
      " dense_7 (Dense)             (None, 10)                650       \n",
      "                                                                 \n",
      "=================================================================\n",
      "Total params: 171914 (671.54 KB)\n",
      "Trainable params: 171914 (671.54 KB)\n",
      "Non-trainable params: 0 (0.00 Byte)\n",
      "_________________________________________________________________\n"
     ]
    }
   ],
   "source": [
    "cnn.summary()"
   ]
  },
  {
   "cell_type": "code",
   "execution_count": 73,
   "metadata": {},
   "outputs": [],
   "source": [
    "opt = keras.optimizers.Adam(learning_rate=0.0005)"
   ]
  },
  {
   "cell_type": "code",
   "execution_count": 74,
   "metadata": {},
   "outputs": [],
   "source": [
    "cnn.compile(optimizer=opt,loss='categorical_crossentropy',metrics=['accuracy'])"
   ]
  },
  {
   "cell_type": "markdown",
   "metadata": {},
   "source": [
    "Before training the model, let's define an Early Stopping to avoid oferfitting."
   ]
  },
  {
   "cell_type": "code",
   "execution_count": 75,
   "metadata": {},
   "outputs": [],
   "source": [
    "es = EarlyStopping(monitor = 'val_accuracy', \n",
    "                   mode = 'max', \n",
    "                   patience = 20, \n",
    "                   verbose = 1, \n",
    "                   restore_best_weights = True)"
   ]
  },
  {
   "cell_type": "code",
   "execution_count": 76,
   "metadata": {},
   "outputs": [
    {
     "name": "stdout",
     "output_type": "stream",
     "text": [
      "Epoch 1/250\n",
      "248/248 [==============================] - 73s 292ms/step - loss: 1.9700 - accuracy: 0.2514 - val_loss: 1.6365 - val_accuracy: 0.3950\n",
      "Epoch 2/250\n",
      "248/248 [==============================] - 71s 287ms/step - loss: 1.4273 - accuracy: 0.4843 - val_loss: 1.2684 - val_accuracy: 0.5336\n",
      "Epoch 3/250\n",
      "248/248 [==============================] - 71s 287ms/step - loss: 1.1491 - accuracy: 0.5902 - val_loss: 1.0694 - val_accuracy: 0.6005\n",
      "Epoch 4/250\n",
      "248/248 [==============================] - 71s 287ms/step - loss: 1.0361 - accuracy: 0.6352 - val_loss: 1.0243 - val_accuracy: 0.6255\n",
      "Epoch 5/250\n",
      "248/248 [==============================] - 71s 288ms/step - loss: 0.9178 - accuracy: 0.6736 - val_loss: 1.0147 - val_accuracy: 0.6255\n",
      "Epoch 6/250\n",
      "248/248 [==============================] - 71s 287ms/step - loss: 0.8190 - accuracy: 0.7112 - val_loss: 0.9130 - val_accuracy: 0.6868\n",
      "Epoch 7/250\n",
      "248/248 [==============================] - 71s 287ms/step - loss: 0.7426 - accuracy: 0.7423 - val_loss: 0.7592 - val_accuracy: 0.7286\n",
      "Epoch 8/250\n",
      "248/248 [==============================] - 71s 286ms/step - loss: 0.6873 - accuracy: 0.7516 - val_loss: 0.6829 - val_accuracy: 0.7591\n",
      "Epoch 9/250\n",
      "248/248 [==============================] - 71s 287ms/step - loss: 0.6279 - accuracy: 0.7751 - val_loss: 0.6084 - val_accuracy: 0.7745\n",
      "Epoch 10/250\n",
      "248/248 [==============================] - 71s 288ms/step - loss: 0.5658 - accuracy: 0.7996 - val_loss: 0.5297 - val_accuracy: 0.8145\n",
      "Epoch 11/250\n",
      "248/248 [==============================] - 71s 287ms/step - loss: 0.5416 - accuracy: 0.8057 - val_loss: 0.5255 - val_accuracy: 0.8136\n",
      "Epoch 12/250\n",
      "248/248 [==============================] - 71s 287ms/step - loss: 0.4746 - accuracy: 0.8370 - val_loss: 0.4878 - val_accuracy: 0.8409\n",
      "Epoch 13/250\n",
      "248/248 [==============================] - 71s 287ms/step - loss: 0.4649 - accuracy: 0.8359 - val_loss: 0.4749 - val_accuracy: 0.8314\n",
      "Epoch 14/250\n",
      "248/248 [==============================] - 71s 287ms/step - loss: 0.4412 - accuracy: 0.8378 - val_loss: 0.4740 - val_accuracy: 0.8323\n",
      "Epoch 15/250\n",
      "248/248 [==============================] - 71s 287ms/step - loss: 0.4142 - accuracy: 0.8553 - val_loss: 0.4230 - val_accuracy: 0.8550\n",
      "Epoch 16/250\n",
      "248/248 [==============================] - 71s 287ms/step - loss: 0.3823 - accuracy: 0.8668 - val_loss: 0.4159 - val_accuracy: 0.8573\n",
      "Epoch 17/250\n",
      "248/248 [==============================] - 71s 286ms/step - loss: 0.3756 - accuracy: 0.8673 - val_loss: 0.3825 - val_accuracy: 0.8691\n",
      "Epoch 18/250\n",
      "248/248 [==============================] - 71s 288ms/step - loss: 0.3555 - accuracy: 0.8749 - val_loss: 0.3929 - val_accuracy: 0.8677\n",
      "Epoch 19/250\n",
      "248/248 [==============================] - 71s 287ms/step - loss: 0.3619 - accuracy: 0.8702 - val_loss: 0.3982 - val_accuracy: 0.8645\n",
      "Epoch 20/250\n",
      "248/248 [==============================] - 71s 286ms/step - loss: 0.3268 - accuracy: 0.8842 - val_loss: 0.4398 - val_accuracy: 0.8468\n",
      "Epoch 21/250\n",
      "248/248 [==============================] - 71s 287ms/step - loss: 0.3105 - accuracy: 0.8923 - val_loss: 0.3766 - val_accuracy: 0.8650\n",
      "Epoch 22/250\n",
      "248/248 [==============================] - 71s 286ms/step - loss: 0.2925 - accuracy: 0.8995 - val_loss: 0.3928 - val_accuracy: 0.8641\n",
      "Epoch 23/250\n",
      "248/248 [==============================] - 71s 287ms/step - loss: 0.2769 - accuracy: 0.9033 - val_loss: 0.4081 - val_accuracy: 0.8582\n",
      "Epoch 24/250\n",
      "248/248 [==============================] - 71s 287ms/step - loss: 0.2723 - accuracy: 0.9045 - val_loss: 0.3585 - val_accuracy: 0.8791\n",
      "Epoch 25/250\n",
      "248/248 [==============================] - 71s 287ms/step - loss: 0.2598 - accuracy: 0.9064 - val_loss: 0.3476 - val_accuracy: 0.8823\n",
      "Epoch 26/250\n",
      "248/248 [==============================] - 71s 286ms/step - loss: 0.2453 - accuracy: 0.9130 - val_loss: 0.3767 - val_accuracy: 0.8723\n",
      "Epoch 27/250\n",
      "248/248 [==============================] - 71s 286ms/step - loss: 0.2494 - accuracy: 0.9104 - val_loss: 0.3754 - val_accuracy: 0.8764\n",
      "Epoch 28/250\n",
      "248/248 [==============================] - 71s 287ms/step - loss: 0.2156 - accuracy: 0.9218 - val_loss: 0.3590 - val_accuracy: 0.8741\n",
      "Epoch 29/250\n",
      "248/248 [==============================] - 71s 287ms/step - loss: 0.2130 - accuracy: 0.9240 - val_loss: 0.3231 - val_accuracy: 0.9005\n",
      "Epoch 30/250\n",
      "248/248 [==============================] - 71s 286ms/step - loss: 0.2506 - accuracy: 0.9092 - val_loss: 0.3222 - val_accuracy: 0.8873\n",
      "Epoch 31/250\n",
      "248/248 [==============================] - 71s 286ms/step - loss: 0.1988 - accuracy: 0.9288 - val_loss: 0.3299 - val_accuracy: 0.8891\n",
      "Epoch 32/250\n",
      "248/248 [==============================] - 71s 286ms/step - loss: 0.2040 - accuracy: 0.9253 - val_loss: 0.3466 - val_accuracy: 0.8918\n",
      "Epoch 33/250\n",
      "248/248 [==============================] - 71s 287ms/step - loss: 0.2004 - accuracy: 0.9324 - val_loss: 0.4115 - val_accuracy: 0.8618\n",
      "Epoch 34/250\n",
      "248/248 [==============================] - 71s 286ms/step - loss: 0.1938 - accuracy: 0.9322 - val_loss: 0.2950 - val_accuracy: 0.9027\n",
      "Epoch 35/250\n",
      "248/248 [==============================] - 71s 286ms/step - loss: 0.1736 - accuracy: 0.9405 - val_loss: 0.3676 - val_accuracy: 0.8868\n",
      "Epoch 36/250\n",
      "248/248 [==============================] - 71s 286ms/step - loss: 0.1764 - accuracy: 0.9393 - val_loss: 0.3584 - val_accuracy: 0.8900\n",
      "Epoch 37/250\n",
      "248/248 [==============================] - 71s 285ms/step - loss: 0.1650 - accuracy: 0.9424 - val_loss: 0.4953 - val_accuracy: 0.8455\n",
      "Epoch 38/250\n",
      "248/248 [==============================] - 71s 288ms/step - loss: 0.1905 - accuracy: 0.9331 - val_loss: 0.3104 - val_accuracy: 0.8991\n",
      "Epoch 39/250\n",
      "248/248 [==============================] - 72s 291ms/step - loss: 0.1662 - accuracy: 0.9412 - val_loss: 0.3165 - val_accuracy: 0.9005\n",
      "Epoch 40/250\n",
      "248/248 [==============================] - 71s 287ms/step - loss: 0.1369 - accuracy: 0.9510 - val_loss: 0.2648 - val_accuracy: 0.9155\n",
      "Epoch 41/250\n",
      "248/248 [==============================] - 71s 286ms/step - loss: 0.1635 - accuracy: 0.9415 - val_loss: 0.2722 - val_accuracy: 0.9141\n",
      "Epoch 42/250\n",
      "248/248 [==============================] - 71s 286ms/step - loss: 0.1582 - accuracy: 0.9442 - val_loss: 0.3453 - val_accuracy: 0.8959\n",
      "Epoch 43/250\n",
      "248/248 [==============================] - 71s 286ms/step - loss: 0.1416 - accuracy: 0.9492 - val_loss: 0.3070 - val_accuracy: 0.9000\n",
      "Epoch 44/250\n",
      "248/248 [==============================] - 71s 286ms/step - loss: 0.1260 - accuracy: 0.9532 - val_loss: 0.3494 - val_accuracy: 0.8877\n",
      "Epoch 45/250\n",
      "248/248 [==============================] - 71s 286ms/step - loss: 0.1540 - accuracy: 0.9471 - val_loss: 0.3328 - val_accuracy: 0.9027\n",
      "Epoch 46/250\n",
      "248/248 [==============================] - 71s 287ms/step - loss: 0.1372 - accuracy: 0.9525 - val_loss: 0.3947 - val_accuracy: 0.8909\n",
      "Epoch 47/250\n",
      "248/248 [==============================] - 71s 287ms/step - loss: 0.1490 - accuracy: 0.9473 - val_loss: 0.3704 - val_accuracy: 0.8773\n",
      "Epoch 48/250\n",
      "248/248 [==============================] - 71s 287ms/step - loss: 0.1317 - accuracy: 0.9520 - val_loss: 0.3286 - val_accuracy: 0.9014\n",
      "Epoch 49/250\n",
      "248/248 [==============================] - 71s 286ms/step - loss: 0.1062 - accuracy: 0.9641 - val_loss: 0.3315 - val_accuracy: 0.9045\n",
      "Epoch 50/250\n",
      "248/248 [==============================] - 71s 286ms/step - loss: 0.1141 - accuracy: 0.9581 - val_loss: 0.3609 - val_accuracy: 0.8936\n",
      "Epoch 51/250\n",
      "248/248 [==============================] - 71s 287ms/step - loss: 0.1431 - accuracy: 0.9491 - val_loss: 0.3794 - val_accuracy: 0.8823\n",
      "Epoch 52/250\n",
      "248/248 [==============================] - 71s 286ms/step - loss: 0.1279 - accuracy: 0.9534 - val_loss: 0.3830 - val_accuracy: 0.8973\n",
      "Epoch 53/250\n",
      "248/248 [==============================] - 71s 287ms/step - loss: 0.1037 - accuracy: 0.9640 - val_loss: 0.3642 - val_accuracy: 0.8982\n",
      "Epoch 54/250\n",
      "248/248 [==============================] - 71s 286ms/step - loss: 0.1206 - accuracy: 0.9571 - val_loss: 0.3125 - val_accuracy: 0.9064\n",
      "Epoch 55/250\n",
      "248/248 [==============================] - 71s 286ms/step - loss: 0.1191 - accuracy: 0.9561 - val_loss: 0.2973 - val_accuracy: 0.9132\n",
      "Epoch 56/250\n",
      "248/248 [==============================] - 71s 287ms/step - loss: 0.1115 - accuracy: 0.9614 - val_loss: 0.3113 - val_accuracy: 0.9118\n",
      "Epoch 57/250\n",
      "248/248 [==============================] - 71s 286ms/step - loss: 0.1077 - accuracy: 0.9620 - val_loss: 0.3309 - val_accuracy: 0.9073\n",
      "Epoch 58/250\n",
      "248/248 [==============================] - 71s 287ms/step - loss: 0.0853 - accuracy: 0.9703 - val_loss: 0.3395 - val_accuracy: 0.9073\n",
      "Epoch 59/250\n",
      "248/248 [==============================] - 71s 286ms/step - loss: 0.1143 - accuracy: 0.9611 - val_loss: 0.3007 - val_accuracy: 0.9132\n",
      "Epoch 60/250\n",
      "248/248 [==============================] - 71s 286ms/step - loss: 0.0881 - accuracy: 0.9692 - val_loss: 0.2890 - val_accuracy: 0.9232\n",
      "Epoch 61/250\n",
      "248/248 [==============================] - 71s 287ms/step - loss: 0.1152 - accuracy: 0.9585 - val_loss: 0.3132 - val_accuracy: 0.9136\n",
      "Epoch 62/250\n",
      "248/248 [==============================] - 71s 286ms/step - loss: 0.0750 - accuracy: 0.9739 - val_loss: 0.3153 - val_accuracy: 0.9100\n",
      "Epoch 63/250\n",
      "248/248 [==============================] - 71s 286ms/step - loss: 0.0881 - accuracy: 0.9679 - val_loss: 0.3911 - val_accuracy: 0.8977\n",
      "Epoch 64/250\n",
      "248/248 [==============================] - 71s 287ms/step - loss: 0.0944 - accuracy: 0.9669 - val_loss: 0.3181 - val_accuracy: 0.9027\n",
      "Epoch 65/250\n",
      "248/248 [==============================] - 71s 287ms/step - loss: 0.0884 - accuracy: 0.9681 - val_loss: 0.2900 - val_accuracy: 0.9236\n",
      "Epoch 66/250\n",
      "248/248 [==============================] - 71s 287ms/step - loss: 0.0926 - accuracy: 0.9679 - val_loss: 0.3829 - val_accuracy: 0.8964\n",
      "Epoch 67/250\n",
      "248/248 [==============================] - 71s 285ms/step - loss: 0.0763 - accuracy: 0.9730 - val_loss: 0.3701 - val_accuracy: 0.9059\n",
      "Epoch 68/250\n",
      "248/248 [==============================] - 71s 287ms/step - loss: 0.1057 - accuracy: 0.9631 - val_loss: 0.3466 - val_accuracy: 0.9077\n",
      "Epoch 69/250\n",
      "248/248 [==============================] - 71s 287ms/step - loss: 0.0878 - accuracy: 0.9705 - val_loss: 0.3056 - val_accuracy: 0.9136\n",
      "Epoch 70/250\n",
      "248/248 [==============================] - 71s 287ms/step - loss: 0.0822 - accuracy: 0.9713 - val_loss: 0.3574 - val_accuracy: 0.9018\n",
      "Epoch 71/250\n",
      "248/248 [==============================] - 71s 287ms/step - loss: 0.0706 - accuracy: 0.9760 - val_loss: 0.3109 - val_accuracy: 0.9214\n",
      "Epoch 72/250\n",
      "248/248 [==============================] - 71s 286ms/step - loss: 0.0816 - accuracy: 0.9705 - val_loss: 0.3675 - val_accuracy: 0.9123\n",
      "Epoch 73/250\n",
      "248/248 [==============================] - 71s 287ms/step - loss: 0.0928 - accuracy: 0.9691 - val_loss: 0.3049 - val_accuracy: 0.9223\n",
      "Epoch 74/250\n",
      "248/248 [==============================] - 71s 287ms/step - loss: 0.0700 - accuracy: 0.9766 - val_loss: 0.3584 - val_accuracy: 0.8991\n",
      "Epoch 75/250\n",
      "248/248 [==============================] - 71s 286ms/step - loss: 0.0670 - accuracy: 0.9768 - val_loss: 0.3216 - val_accuracy: 0.9105\n",
      "Epoch 76/250\n",
      "248/248 [==============================] - 71s 286ms/step - loss: 0.0780 - accuracy: 0.9737 - val_loss: 0.4055 - val_accuracy: 0.8959\n",
      "Epoch 77/250\n",
      "248/248 [==============================] - 71s 286ms/step - loss: 0.0877 - accuracy: 0.9689 - val_loss: 0.3089 - val_accuracy: 0.9095\n",
      "Epoch 78/250\n",
      "248/248 [==============================] - 71s 287ms/step - loss: 0.0671 - accuracy: 0.9770 - val_loss: 0.2721 - val_accuracy: 0.9223\n",
      "Epoch 79/250\n",
      "248/248 [==============================] - 71s 287ms/step - loss: 0.0526 - accuracy: 0.9821 - val_loss: 0.4051 - val_accuracy: 0.8991\n",
      "Epoch 80/250\n",
      "248/248 [==============================] - 71s 286ms/step - loss: 0.0631 - accuracy: 0.9783 - val_loss: 0.4343 - val_accuracy: 0.8927\n",
      "Epoch 81/250\n",
      "248/248 [==============================] - 71s 286ms/step - loss: 0.0852 - accuracy: 0.9718 - val_loss: 0.3261 - val_accuracy: 0.9132\n",
      "Epoch 82/250\n",
      "248/248 [==============================] - 71s 286ms/step - loss: 0.0728 - accuracy: 0.9737 - val_loss: 0.2762 - val_accuracy: 0.9259\n",
      "Epoch 83/250\n",
      "248/248 [==============================] - 71s 286ms/step - loss: 0.0794 - accuracy: 0.9717 - val_loss: 0.2704 - val_accuracy: 0.9241\n",
      "Epoch 84/250\n",
      "248/248 [==============================] - 71s 287ms/step - loss: 0.0627 - accuracy: 0.9782 - val_loss: 0.2945 - val_accuracy: 0.9195\n",
      "Epoch 85/250\n",
      "248/248 [==============================] - 71s 287ms/step - loss: 0.0647 - accuracy: 0.9785 - val_loss: 0.4196 - val_accuracy: 0.8995\n",
      "Epoch 86/250\n",
      "248/248 [==============================] - 71s 287ms/step - loss: 0.0708 - accuracy: 0.9760 - val_loss: 0.3436 - val_accuracy: 0.9041\n",
      "Epoch 87/250\n",
      "248/248 [==============================] - 71s 287ms/step - loss: 0.0659 - accuracy: 0.9780 - val_loss: 0.3630 - val_accuracy: 0.8995\n",
      "Epoch 88/250\n",
      "248/248 [==============================] - 71s 287ms/step - loss: 0.0580 - accuracy: 0.9789 - val_loss: 0.3497 - val_accuracy: 0.9145\n",
      "Epoch 89/250\n",
      "248/248 [==============================] - 71s 288ms/step - loss: 0.0760 - accuracy: 0.9745 - val_loss: 0.2572 - val_accuracy: 0.9277\n",
      "Epoch 90/250\n",
      "248/248 [==============================] - 72s 291ms/step - loss: 0.0462 - accuracy: 0.9835 - val_loss: 0.3238 - val_accuracy: 0.9095\n",
      "Epoch 91/250\n",
      "248/248 [==============================] - 72s 289ms/step - loss: 0.0585 - accuracy: 0.9806 - val_loss: 0.5936 - val_accuracy: 0.8673\n",
      "Epoch 92/250\n",
      "248/248 [==============================] - 71s 286ms/step - loss: 0.0613 - accuracy: 0.9794 - val_loss: 0.2782 - val_accuracy: 0.9268\n",
      "Epoch 93/250\n",
      "248/248 [==============================] - 71s 286ms/step - loss: 0.0366 - accuracy: 0.9879 - val_loss: 0.3725 - val_accuracy: 0.9082\n",
      "Epoch 94/250\n",
      "248/248 [==============================] - 71s 286ms/step - loss: 0.0959 - accuracy: 0.9677 - val_loss: 0.3154 - val_accuracy: 0.9082\n",
      "Epoch 95/250\n",
      "248/248 [==============================] - 71s 286ms/step - loss: 0.0465 - accuracy: 0.9835 - val_loss: 0.2837 - val_accuracy: 0.9305\n",
      "Epoch 96/250\n",
      "248/248 [==============================] - 71s 288ms/step - loss: 0.0523 - accuracy: 0.9830 - val_loss: 0.3293 - val_accuracy: 0.9191\n",
      "Epoch 97/250\n",
      "248/248 [==============================] - 71s 286ms/step - loss: 0.0803 - accuracy: 0.9736 - val_loss: 0.3031 - val_accuracy: 0.9268\n",
      "Epoch 98/250\n",
      "248/248 [==============================] - 71s 287ms/step - loss: 0.0488 - accuracy: 0.9841 - val_loss: 0.3184 - val_accuracy: 0.9214\n",
      "Epoch 99/250\n",
      "248/248 [==============================] - 71s 286ms/step - loss: 0.0490 - accuracy: 0.9830 - val_loss: 0.3124 - val_accuracy: 0.9214\n",
      "Epoch 100/250\n",
      "248/248 [==============================] - 71s 286ms/step - loss: 0.0660 - accuracy: 0.9766 - val_loss: 0.3033 - val_accuracy: 0.9218\n",
      "Epoch 101/250\n",
      "248/248 [==============================] - 71s 286ms/step - loss: 0.0396 - accuracy: 0.9870 - val_loss: 0.3981 - val_accuracy: 0.9018\n",
      "Epoch 102/250\n",
      "248/248 [==============================] - 71s 287ms/step - loss: 0.0627 - accuracy: 0.9770 - val_loss: 0.3635 - val_accuracy: 0.9077\n",
      "Epoch 103/250\n",
      "248/248 [==============================] - 71s 287ms/step - loss: 0.0603 - accuracy: 0.9777 - val_loss: 0.3296 - val_accuracy: 0.9259\n",
      "Epoch 104/250\n",
      "248/248 [==============================] - 71s 287ms/step - loss: 0.0482 - accuracy: 0.9835 - val_loss: 0.3897 - val_accuracy: 0.9027\n",
      "Epoch 105/250\n",
      "248/248 [==============================] - 71s 286ms/step - loss: 0.0781 - accuracy: 0.9749 - val_loss: 0.2819 - val_accuracy: 0.9209\n",
      "Epoch 106/250\n",
      "248/248 [==============================] - 71s 285ms/step - loss: 0.0345 - accuracy: 0.9879 - val_loss: 0.2738 - val_accuracy: 0.9359\n",
      "Epoch 107/250\n",
      "248/248 [==============================] - 71s 286ms/step - loss: 0.0525 - accuracy: 0.9831 - val_loss: 0.3793 - val_accuracy: 0.9118\n",
      "Epoch 108/250\n",
      "248/248 [==============================] - 71s 286ms/step - loss: 0.0551 - accuracy: 0.9811 - val_loss: 0.3489 - val_accuracy: 0.9195\n",
      "Epoch 109/250\n",
      "248/248 [==============================] - 71s 287ms/step - loss: 0.0488 - accuracy: 0.9838 - val_loss: 0.2746 - val_accuracy: 0.9309\n",
      "Epoch 110/250\n",
      "248/248 [==============================] - 71s 287ms/step - loss: 0.0301 - accuracy: 0.9896 - val_loss: 0.3033 - val_accuracy: 0.9305\n",
      "Epoch 111/250\n",
      "248/248 [==============================] - 71s 286ms/step - loss: 0.0592 - accuracy: 0.9797 - val_loss: 0.3042 - val_accuracy: 0.9255\n",
      "Epoch 112/250\n",
      "248/248 [==============================] - 71s 287ms/step - loss: 0.0661 - accuracy: 0.9783 - val_loss: 0.3027 - val_accuracy: 0.9236\n",
      "Epoch 113/250\n",
      "248/248 [==============================] - 71s 286ms/step - loss: 0.0395 - accuracy: 0.9860 - val_loss: 0.3160 - val_accuracy: 0.9295\n",
      "Epoch 114/250\n",
      "248/248 [==============================] - 71s 287ms/step - loss: 0.0482 - accuracy: 0.9843 - val_loss: 0.3556 - val_accuracy: 0.9182\n",
      "Epoch 115/250\n",
      "248/248 [==============================] - 71s 285ms/step - loss: 0.0528 - accuracy: 0.9824 - val_loss: 0.3150 - val_accuracy: 0.9255\n",
      "Epoch 116/250\n",
      "248/248 [==============================] - 71s 286ms/step - loss: 0.0347 - accuracy: 0.9875 - val_loss: 0.3526 - val_accuracy: 0.9209\n",
      "Epoch 117/250\n",
      "248/248 [==============================] - 71s 287ms/step - loss: 0.0517 - accuracy: 0.9819 - val_loss: 0.3188 - val_accuracy: 0.9227\n",
      "Epoch 118/250\n",
      "248/248 [==============================] - 71s 285ms/step - loss: 0.0568 - accuracy: 0.9806 - val_loss: 0.3887 - val_accuracy: 0.9095\n",
      "Epoch 119/250\n",
      "248/248 [==============================] - 71s 287ms/step - loss: 0.0428 - accuracy: 0.9847 - val_loss: 0.3982 - val_accuracy: 0.9105\n",
      "Epoch 120/250\n",
      "248/248 [==============================] - 71s 286ms/step - loss: 0.0393 - accuracy: 0.9864 - val_loss: 0.3346 - val_accuracy: 0.9286\n",
      "Epoch 121/250\n",
      "248/248 [==============================] - 71s 285ms/step - loss: 0.0297 - accuracy: 0.9904 - val_loss: 0.2987 - val_accuracy: 0.9309\n",
      "Epoch 122/250\n",
      "248/248 [==============================] - 71s 287ms/step - loss: 0.0481 - accuracy: 0.9831 - val_loss: 0.3364 - val_accuracy: 0.9264\n",
      "Epoch 123/250\n",
      "248/248 [==============================] - 71s 285ms/step - loss: 0.0569 - accuracy: 0.9816 - val_loss: 0.2909 - val_accuracy: 0.9295\n",
      "Epoch 124/250\n",
      "248/248 [==============================] - 71s 286ms/step - loss: 0.0393 - accuracy: 0.9866 - val_loss: 0.4692 - val_accuracy: 0.9100\n",
      "Epoch 125/250\n",
      "248/248 [==============================] - 71s 285ms/step - loss: 0.0528 - accuracy: 0.9816 - val_loss: 0.3190 - val_accuracy: 0.9195\n",
      "Epoch 126/250\n",
      "248/248 [==============================] - ETA: 0s - loss: 0.0569 - accuracy: 0.9806Restoring model weights from the end of the best epoch: 106.\n",
      "248/248 [==============================] - 71s 285ms/step - loss: 0.0569 - accuracy: 0.9806 - val_loss: 0.2929 - val_accuracy: 0.9327\n",
      "Epoch 126: early stopping\n"
     ]
    }
   ],
   "source": [
    "history = cnn.fit(x = train_gen,\n",
    "                    callbacks = [es], \n",
    "                    # steps_per_epoch = 7000/32,\n",
    "                    epochs = 250,\n",
    "                    # validation_steps = 3000/32,\n",
    "                    validation_data = val_gen)  "
   ]
  },
  {
   "cell_type": "code",
   "execution_count": 77,
   "metadata": {},
   "outputs": [
    {
     "name": "stdout",
     "output_type": "stream",
     "text": [
      "28/28 [==============================] - 7s 264ms/step - loss: 0.3202 - accuracy: 0.9330\n"
     ]
    }
   ],
   "source": [
    "scores = cnn.evaluate(test_gen)"
   ]
  },
  {
   "cell_type": "code",
   "execution_count": 78,
   "metadata": {},
   "outputs": [
    {
     "data": {
      "image/png": "[encoded data removed]",
      "text/plain": [
       "<Figure size 640x480 with 1 Axes>"
      ]
     },
     "metadata": {},
     "output_type": "display_data"
    },
    {
     "data": {
      "image/png": "[encoded data removed]",
      "text/plain": [
       "<Figure size 640x480 with 1 Axes>"
      ]
     },
     "metadata": {},
     "output_type": "display_data"
    }
   ],
   "source": [
    "# plot the loss\n",
    "plt.plot(history.history['loss'], label='Training loss')\n",
    "plt.plot(history.history['val_loss'], label='Validation loss')\n",
    "plt.legend()\n",
    "plt.show()\n",
    "\n",
    "# plot the accuracy\n",
    "plt.plot(history.history['accuracy'], label='Training accuracy')\n",
    "plt.plot(history.history['val_accuracy'], label='Validation accuracy')\n",
    "plt.legend()\n",
    "plt.show()"
   ]
  },
  {
   "cell_type": "code",
   "execution_count": 79,
   "metadata": {},
   "outputs": [
    {
     "name": "stderr",
     "output_type": "stream",
     "text": [
      "c:\\Users\\Javi\\anaconda3\\Lib\\site-packages\\keras\\src\\engine\\training.py:3103: UserWarning: You are saving your model as an HDF5 file via `model.save()`. This file format is considered legacy. We recommend using instead the native Keras format, e.g. `model.save('my_model.keras')`.\n",
      "  saving_api.save_model(\n"
     ]
    }
   ],
   "source": [
    "# don't forget to save your model for later\n",
    "cnn.save('newLeaf_classification_training.h5')"
   ]
  },
  {
   "cell_type": "markdown",
   "metadata": {},
   "source": [
    "Making predictions, confusion matrix, metrics."
   ]
  },
  {
   "cell_type": "code",
   "execution_count": 80,
   "metadata": {},
   "outputs": [
    {
     "name": "stderr",
     "output_type": "stream",
     "text": [
      "C:\\Users\\Javi\\AppData\\Local\\Temp\\ipykernel_5184\\2245222372.py:1: DeprecationWarning: `np.math` is a deprecated alias for the standard library `math` module (Deprecated Numpy 1.25). Replace usages of `np.math` with `math`\n",
      "  test_steps_per_epoch = np.math.ceil(test_gen.samples / test_gen.batch_size)\n"
     ]
    }
   ],
   "source": [
    "test_steps_per_epoch = np.math.ceil(test_gen.samples / test_gen.batch_size)"
   ]
  },
  {
   "cell_type": "code",
   "execution_count": 81,
   "metadata": {},
   "outputs": [
    {
     "name": "stdout",
     "output_type": "stream",
     "text": [
      "28/28 [==============================] - 5s 172ms/step\n"
     ]
    }
   ],
   "source": [
    "# Predict classes\n",
    "predictions = cnn.predict(test_gen, steps=test_steps_per_epoch)"
   ]
  },
  {
   "cell_type": "code",
   "execution_count": 82,
   "metadata": {},
   "outputs": [
    {
     "data": {
      "text/plain": [
       "array([9.9995828e-01, 6.2482508e-09, 1.1374368e-14, 3.2050882e-06,\n",
       "       3.8524442e-05, 5.0352288e-23, 5.8444414e-09, 6.2233621e-19,\n",
       "       7.4555854e-33, 3.0736232e-29], dtype=float32)"
      ]
     },
     "execution_count": 82,
     "metadata": {},
     "output_type": "execute_result"
    }
   ],
   "source": [
    "predictions[1]"
   ]
  },
  {
   "cell_type": "code",
   "execution_count": 83,
   "metadata": {},
   "outputs": [],
   "source": [
    "predicted_classes = np.argmax(predictions,axis=1)"
   ]
  },
  {
   "cell_type": "code",
   "execution_count": 84,
   "metadata": {},
   "outputs": [],
   "source": [
    "# Get ground-truth classes and class-labels\n",
    "true_classes = test_gen.classes\n",
    "class_labels = list(test_gen.class_indices.keys())"
   ]
  },
  {
   "cell_type": "code",
   "execution_count": 85,
   "metadata": {},
   "outputs": [
    {
     "name": "stdout",
     "output_type": "stream",
     "text": [
      "[[79  1  1  2  3  1  0  1  0  0]\n",
      " [ 2 79  5  0  1  0  1  0  0  0]\n",
      " [ 0  2 82  1  0  1  1  1  0  0]\n",
      " [ 0  0  2 79  4  1  0  0  2  0]\n",
      " [ 1  1  4  1 80  0  1  0  0  0]\n",
      " [ 0  0  0  0  1 83  2  0  0  2]\n",
      " [ 1  5  0  0  2  3 77  0  0  0]\n",
      " [ 0  0  0  0  0  0  0 87  1  0]\n",
      " [ 0  0  0  0  1  0  0  0 87  0]\n",
      " [ 0  0  1  0  0  0  1  0  0 86]]\n"
     ]
    }
   ],
   "source": [
    "# Print confusion matrix\n",
    "confusion_matrix = confusion_matrix(test_gen.classes, predicted_classes)\n",
    "print(confusion_matrix)"
   ]
  },
  {
   "cell_type": "code",
   "execution_count": 86,
   "metadata": {},
   "outputs": [
    {
     "name": "stdout",
     "output_type": "stream",
     "text": [
      "                                               precision    recall  f1-score   support\n",
      "\n",
      "                      Tomato___Bacterial_spot       0.95      0.90      0.92        88\n",
      "                        Tomato___Early_blight       0.90      0.90      0.90        88\n",
      "                         Tomato___Late_blight       0.86      0.93      0.90        88\n",
      "                           Tomato___Leaf_Mold       0.95      0.90      0.92        88\n",
      "                  Tomato___Septoria_leaf_spot       0.87      0.91      0.89        88\n",
      "Tomato___Spider_mites Two-spotted_spider_mite       0.93      0.94      0.94        88\n",
      "                         Tomato___Target_Spot       0.93      0.88      0.90        88\n",
      "       Tomato___Tomato_Yellow_Leaf_Curl_Virus       0.98      0.99      0.98        88\n",
      "                 Tomato___Tomato_mosaic_virus       0.97      0.99      0.98        88\n",
      "                             Tomato___healthy       0.98      0.98      0.98        88\n",
      "\n",
      "                                     accuracy                           0.93       880\n",
      "                                    macro avg       0.93      0.93      0.93       880\n",
      "                                 weighted avg       0.93      0.93      0.93       880\n",
      "\n"
     ]
    }
   ],
   "source": [
    "# To check F1 score, recall etc.\n",
    "report = classification_report(true_classes, predicted_classes, target_names=class_labels)\n",
    "print(report)"
   ]
  }
 ],
 "metadata": {
  "kernelspec": {
   "display_name": "leaf",
   "language": "python",
   "name": "python3"
  },
  "language_info": {
   "codemirror_mode": {
    "name": "ipython",
    "version": 3
   },
   "file_extension": ".py",
   "mimetype": "text/x-python",
   "name": "python",
   "nbconvert_exporter": "python",
   "pygments_lexer": "ipython3",
   "version": "3.11.5"
  }
 },
 "nbformat": 4,
 "nbformat_minor": 2
}
