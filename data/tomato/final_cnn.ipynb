{
 "cells": [
  {
   "cell_type": "code",
   "execution_count": 2,
   "metadata": {},
   "outputs": [
    {
     "ename": "ImportError",
     "evalue": "cannot import name 'ImageDataGenerator' from 'keras.preprocessing.image' (c:\\Users\\dhitt\\anaconda3\\envs\\leaf_39\\lib\\site-packages\\keras\\preprocessing\\image\\__init__.py)",
     "output_type": "error",
     "traceback": [
      "\u001b[1;31m---------------------------------------------------------------------------\u001b[0m",
      "\u001b[1;31mImportError\u001b[0m                               Traceback (most recent call last)",
      "Cell \u001b[1;32mIn[2], line 14\u001b[0m\n\u001b[0;32m     12\u001b[0m \u001b[38;5;28;01mfrom\u001b[39;00m \u001b[38;5;21;01mtensorflow\u001b[39;00m\u001b[38;5;21;01m.\u001b[39;00m\u001b[38;5;21;01mkeras\u001b[39;00m \u001b[38;5;28;01mimport\u001b[39;00m models\n\u001b[0;32m     13\u001b[0m \u001b[38;5;28;01mfrom\u001b[39;00m \u001b[38;5;21;01mtensorflow\u001b[39;00m\u001b[38;5;21;01m.\u001b[39;00m\u001b[38;5;21;01mkeras\u001b[39;00m \u001b[38;5;28;01mimport\u001b[39;00m Sequential, layers\n\u001b[1;32m---> 14\u001b[0m \u001b[38;5;28;01mfrom\u001b[39;00m \u001b[38;5;21;01mkeras\u001b[39;00m\u001b[38;5;21;01m.\u001b[39;00m\u001b[38;5;21;01mpreprocessing\u001b[39;00m\u001b[38;5;21;01m.\u001b[39;00m\u001b[38;5;21;01mimage\u001b[39;00m \u001b[38;5;28;01mimport\u001b[39;00m ImageDataGenerator\n\u001b[0;32m     15\u001b[0m \u001b[38;5;28;01mfrom\u001b[39;00m \u001b[38;5;21;01mtensorflow\u001b[39;00m \u001b[38;5;28;01mimport\u001b[39;00m keras\n\u001b[0;32m     16\u001b[0m \u001b[38;5;28;01mfrom\u001b[39;00m \u001b[38;5;21;01msklearn\u001b[39;00m\u001b[38;5;21;01m.\u001b[39;00m\u001b[38;5;21;01mmetrics\u001b[39;00m \u001b[38;5;28;01mimport\u001b[39;00m confusion_matrix,classification_report\n",
      "\u001b[1;31mImportError\u001b[0m: cannot import name 'ImageDataGenerator' from 'keras.preprocessing.image' (c:\\Users\\dhitt\\anaconda3\\envs\\leaf_39\\lib\\site-packages\\keras\\preprocessing\\image\\__init__.py)"
     ]
    }
   ],
   "source": [
    "# Importing all the libraries needed\n",
    "import numpy as np\n",
    "import matplotlib.pyplot as plt\n",
    "%matplotlib inline\n",
    "import tensorflow as tf\n",
    "import pandas as pd\n",
    "import os, requests, cv2, random\n",
    "from tensorflow.keras.models import Sequential\n",
    "from tensorflow.keras.layers import Conv2D, MaxPooling2D, Flatten, Dense\n",
    "from tensorflow.keras.callbacks import EarlyStopping\n",
    "from tensorflow.keras.optimizers import Adam\n",
    "from tensorflow.keras import models\n",
    "from tensorflow.keras import Sequential, layers\n",
    "from tensorflow.keras.preprocessing.image import ImageDataGenerator\n",
    "from tensorflow import keras\n",
    "from sklearn.metrics import confusion_matrix,classification_report"
   ]
  },
  {
   "cell_type": "markdown",
   "metadata": {},
   "source": [
    "## 1. Loading data and preprocessing it"
   ]
  },
  {
   "cell_type": "code",
   "execution_count": null,
   "metadata": {},
   "outputs": [
    {
     "name": "stdout",
     "output_type": "stream",
     "text": [
      "c:\\Users\\Javi\\Desktop\\CSE 120\\Anomaly Detection\\Leaf-Classification\\data\\tomato\n"
     ]
    }
   ],
   "source": [
    "# checking directory\n",
    "import os\n",
    "print(os.getcwd())"
   ]
  },
  {
   "cell_type": "code",
   "execution_count": null,
   "metadata": {},
   "outputs": [
    {
     "name": "stdout",
     "output_type": "stream",
     "text": [
      "Found directory train. Proceeding with loading data...\n"
     ]
    }
   ],
   "source": [
    "train_data_dir = 'train' #'data/tomato/train' does not work\n",
    "\n",
    "# Check if the directory exists\n",
    "if not os.path.exists(train_data_dir):\n",
    "    print(f\"The directory {train_data_dir} does not exist.\")\n",
    "else:\n",
    "    print(f\"Found directory {train_data_dir}. Proceeding with loading data...\")\n",
    "    # Proceed with your data loading and model training"
   ]
  },
  {
   "cell_type": "code",
   "execution_count": null,
   "metadata": {},
   "outputs": [],
   "source": [
    "# loading the pictures of tomatoes\n",
    "\n",
    "train_data_dir = './new_dataset/train_output'\n",
    "test_data_dir = './new_dataset/val_output' #this folder will be used for evaluating model's perfomance"
   ]
  },
  {
   "cell_type": "code",
   "execution_count": null,
   "metadata": {},
   "outputs": [],
   "source": [
    "# for this challenge we are using ImageDataGenerator \n",
    "\n",
    "train_datagen = ImageDataGenerator(rescale=1/255.0,\n",
    "                               shear_range=0.2,\n",
    "                                zoom_range=0.2,\n",
    "                                horizontal_flip=True,\n",
    "                                validation_split=0.3)# specifying the validation split inside the function\n",
    "\n",
    "test_datagen = ImageDataGenerator(rescale=1/255.0,\n",
    "                                shear_range=0.2,\n",
    "                                zoom_range=0.2,\n",
    "                                horizontal_flip=True)"
   ]
  },
  {
   "cell_type": "code",
   "execution_count": null,
   "metadata": {},
   "outputs": [
    {
     "name": "stdout",
     "output_type": "stream",
     "text": [
      "Found 7000 images belonging to 10 classes.\n"
     ]
    }
   ],
   "source": [
    "train_gen = train_datagen.flow_from_directory(\n",
    "                                train_data_dir,\n",
    "                                target_size=(224, 224),\n",
    "                                batch_size=32,\n",
    "                                shuffle=True,\n",
    "                                class_mode='categorical',\n",
    "                                subset='training')"
   ]
  },
  {
   "cell_type": "code",
   "execution_count": null,
   "metadata": {},
   "outputs": [
    {
     "name": "stdout",
     "output_type": "stream",
     "text": [
      "Found 3000 images belonging to 10 classes.\n"
     ]
    }
   ],
   "source": [
    "val_gen = train_datagen.flow_from_directory(\n",
    "                                train_data_dir,\n",
    "                                target_size=(224,224),\n",
    "                                batch_size=32,\n",
    "                                shuffle=True,\n",
    "                                class_mode='categorical',\n",
    "                                subset='validation')"
   ]
  },
  {
   "cell_type": "code",
   "execution_count": null,
   "metadata": {},
   "outputs": [
    {
     "name": "stdout",
     "output_type": "stream",
     "text": [
      "Found 1000 images belonging to 10 classes.\n"
     ]
    }
   ],
   "source": [
    "test_gen = test_datagen.flow_from_directory(\n",
    "        test_data_dir,\n",
    "        target_size=(224, 224),\n",
    "        batch_size=32,\n",
    "        class_mode='categorical',\n",
    "        shuffle = False) #shuffle will not affect the accuracy of the model, but will affect the computation of some metrics that depend on the order of the samples"
   ]
  },
  {
   "cell_type": "markdown",
   "metadata": {},
   "source": [
    "## 1a. Building a CNN model with a learning rate of 0.0001"
   ]
  },
  {
   "cell_type": "code",
   "execution_count": null,
   "metadata": {},
   "outputs": [],
   "source": [
    "# CNN model layers\n",
    "\n",
    "cnn = models.Sequential()\n",
    "\n",
    "cnn.add(layers.Conv2D (32, kernel_size = (3,3), activation='relu', input_shape = [224, 224,3])),\n",
    "cnn.add(layers.MaxPooling2D(pool_size = (2, 2))),\n",
    "\n",
    "cnn.add(layers.Conv2D(64, (3,3), activation='relu')),\n",
    "cnn.add(layers. MaxPooling2D((2, 2))),\n",
    "\n",
    "cnn.add(layers.Conv2D (64, (3,3), activation='relu')),\n",
    "cnn.add(layers.MaxPooling2D((2, 2))),\n",
    "\n",
    "cnn.add(layers.Conv2D(64, (3, 3), activation='relu')), \n",
    "cnn.add(layers.MaxPooling2D((2, 2))),\n",
    "\n",
    "cnn.add(layers. Conv2D (64, (3, 3), activation='relu')), \n",
    "cnn.add(layers.MaxPooling2D((2, 2))),\n",
    "\n",
    "cnn.add(layers.Conv2D(64, (3, 3), activation='relu')), \n",
    "cnn.add(layers.MaxPooling2D((2, 2))),\n",
    "\n",
    "cnn.add(layers.Flatten()),\n",
    "\n",
    "cnn.add(layers.Dense(64,activation='relu'))\n",
    "#output layer\n",
    "cnn.add(layers.Dense(10,activation='softmax'))"
   ]
  },
  {
   "cell_type": "code",
   "execution_count": null,
   "metadata": {},
   "outputs": [
    {
     "name": "stdout",
     "output_type": "stream",
     "text": [
      "Model: \"sequential_1\"\n",
      "_________________________________________________________________\n",
      " Layer (type)                Output Shape              Param #   \n",
      "=================================================================\n",
      " conv2d_6 (Conv2D)           (None, 222, 222, 32)      896       \n",
      "                                                                 \n",
      " max_pooling2d_6 (MaxPooling  (None, 111, 111, 32)     0         \n",
      " 2D)                                                             \n",
      "                                                                 \n",
      " conv2d_7 (Conv2D)           (None, 109, 109, 64)      18496     \n",
      "                                                                 \n",
      " max_pooling2d_7 (MaxPooling  (None, 54, 54, 64)       0         \n",
      " 2D)                                                             \n",
      "                                                                 \n",
      " conv2d_8 (Conv2D)           (None, 52, 52, 64)        36928     \n",
      "                                                                 \n",
      " max_pooling2d_8 (MaxPooling  (None, 26, 26, 64)       0         \n",
      " 2D)                                                             \n",
      "                                                                 \n",
      " conv2d_9 (Conv2D)           (None, 24, 24, 64)        36928     \n",
      "                                                                 \n",
      " max_pooling2d_9 (MaxPooling  (None, 12, 12, 64)       0         \n",
      " 2D)                                                             \n",
      "                                                                 \n",
      " conv2d_10 (Conv2D)          (None, 10, 10, 64)        36928     \n",
      "                                                                 \n",
      " max_pooling2d_10 (MaxPoolin  (None, 5, 5, 64)         0         \n",
      " g2D)                                                            \n",
      "                                                                 \n",
      " conv2d_11 (Conv2D)          (None, 3, 3, 64)          36928     \n",
      "                                                                 \n",
      " max_pooling2d_11 (MaxPoolin  (None, 1, 1, 64)         0         \n",
      " g2D)                                                            \n",
      "                                                                 \n",
      " flatten_1 (Flatten)         (None, 64)                0         \n",
      "                                                                 \n",
      " dense_2 (Dense)             (None, 64)                4160      \n",
      "                                                                 \n",
      " dense_3 (Dense)             (None, 10)                650       \n",
      "                                                                 \n",
      "=================================================================\n",
      "Total params: 171,914\n",
      "Trainable params: 171,914\n",
      "Non-trainable params: 0\n",
      "_________________________________________________________________\n"
     ]
    }
   ],
   "source": [
    "cnn.summary()"
   ]
  },
  {
   "cell_type": "code",
   "execution_count": null,
   "metadata": {},
   "outputs": [],
   "source": [
    "opt = keras.optimizers.Adam(learning_rate=0.0001)"
   ]
  },
  {
   "cell_type": "code",
   "execution_count": null,
   "metadata": {},
   "outputs": [],
   "source": [
    "cnn.compile(optimizer=opt,loss='categorical_crossentropy',metrics=['accuracy'])"
   ]
  },
  {
   "cell_type": "markdown",
   "metadata": {},
   "source": [
    "Before training the model, let's define an Early Stopping to avoid oferfitting."
   ]
  },
  {
   "cell_type": "code",
   "execution_count": null,
   "metadata": {},
   "outputs": [],
   "source": [
    "es = EarlyStopping(monitor = 'val_accuracy', \n",
    "                   mode = 'max', \n",
    "                   patience = 20, \n",
    "                   verbose = 1, \n",
    "                   restore_best_weights = True)"
   ]
  },
  {
   "cell_type": "code",
   "execution_count": null,
   "metadata": {},
   "outputs": [
    {
     "name": "stdout",
     "output_type": "stream",
     "text": [
      "Epoch 1/100\n",
      "219/219 [==============================] - 101s 460ms/step - loss: 2.2546 - accuracy: 0.1553 - val_loss: 2.1129 - val_accuracy: 0.2617\n",
      "Epoch 2/100\n",
      "219/219 [==============================] - 97s 441ms/step - loss: 1.9208 - accuracy: 0.2939 - val_loss: 1.7480 - val_accuracy: 0.3893\n",
      "Epoch 3/100\n",
      "219/219 [==============================] - 94s 427ms/step - loss: 1.5954 - accuracy: 0.4359 - val_loss: 1.4746 - val_accuracy: 0.4870\n",
      "Epoch 4/100\n",
      "219/219 [==============================] - 93s 426ms/step - loss: 1.3559 - accuracy: 0.5290 - val_loss: 1.2476 - val_accuracy: 0.5737\n",
      "Epoch 5/100\n",
      "219/219 [==============================] - 89s 407ms/step - loss: 1.1620 - accuracy: 0.5943 - val_loss: 1.1613 - val_accuracy: 0.5863\n",
      "Epoch 6/100\n",
      "219/219 [==============================] - 97s 441ms/step - loss: 1.0585 - accuracy: 0.6270 - val_loss: 1.0370 - val_accuracy: 0.6420\n",
      "Epoch 7/100\n",
      "219/219 [==============================] - 88s 402ms/step - loss: 0.9498 - accuracy: 0.6719 - val_loss: 0.9370 - val_accuracy: 0.6810\n",
      "Epoch 8/100\n",
      "219/219 [==============================] - 94s 431ms/step - loss: 0.8885 - accuracy: 0.6901 - val_loss: 0.8439 - val_accuracy: 0.7097\n",
      "Epoch 9/100\n",
      "219/219 [==============================] - 93s 426ms/step - loss: 0.8275 - accuracy: 0.7123 - val_loss: 0.8102 - val_accuracy: 0.7140\n",
      "Epoch 10/100\n",
      "219/219 [==============================] - 93s 424ms/step - loss: 0.7861 - accuracy: 0.7241 - val_loss: 0.8624 - val_accuracy: 0.7073\n",
      "Epoch 11/100\n",
      "219/219 [==============================] - 89s 406ms/step - loss: 0.7493 - accuracy: 0.7473 - val_loss: 0.7471 - val_accuracy: 0.7423\n",
      "Epoch 12/100\n",
      "219/219 [==============================] - 97s 441ms/step - loss: 0.7177 - accuracy: 0.7494 - val_loss: 0.7499 - val_accuracy: 0.7393\n",
      "Epoch 13/100\n",
      "219/219 [==============================] - 91s 413ms/step - loss: 0.6847 - accuracy: 0.7606 - val_loss: 0.6922 - val_accuracy: 0.7633\n",
      "Epoch 14/100\n",
      "219/219 [==============================] - 96s 438ms/step - loss: 0.6668 - accuracy: 0.7697 - val_loss: 0.6891 - val_accuracy: 0.7577\n",
      "Epoch 15/100\n",
      "219/219 [==============================] - 94s 427ms/step - loss: 0.6234 - accuracy: 0.7891 - val_loss: 0.6235 - val_accuracy: 0.7853\n",
      "Epoch 16/100\n",
      "219/219 [==============================] - 96s 439ms/step - loss: 0.6181 - accuracy: 0.7876 - val_loss: 0.5902 - val_accuracy: 0.7973\n",
      "Epoch 17/100\n",
      "219/219 [==============================] - 93s 426ms/step - loss: 0.5868 - accuracy: 0.7986 - val_loss: 0.5700 - val_accuracy: 0.7997\n",
      "Epoch 18/100\n",
      "219/219 [==============================] - 95s 433ms/step - loss: 0.5645 - accuracy: 0.8027 - val_loss: 0.5414 - val_accuracy: 0.8127\n",
      "Epoch 19/100\n",
      "219/219 [==============================] - 90s 412ms/step - loss: 0.5517 - accuracy: 0.8073 - val_loss: 0.5316 - val_accuracy: 0.8067\n",
      "Epoch 20/100\n",
      "219/219 [==============================] - 95s 434ms/step - loss: 0.5367 - accuracy: 0.8111 - val_loss: 0.5434 - val_accuracy: 0.8120\n",
      "Epoch 21/100\n",
      "219/219 [==============================] - 104s 477ms/step - loss: 0.5112 - accuracy: 0.8194 - val_loss: 0.5390 - val_accuracy: 0.8097\n",
      "Epoch 22/100\n",
      "219/219 [==============================] - 94s 430ms/step - loss: 0.4768 - accuracy: 0.8316 - val_loss: 0.4939 - val_accuracy: 0.8303\n",
      "Epoch 23/100\n",
      "219/219 [==============================] - 92s 418ms/step - loss: 0.4862 - accuracy: 0.8326 - val_loss: 0.4622 - val_accuracy: 0.8403\n",
      "Epoch 24/100\n",
      "219/219 [==============================] - 95s 433ms/step - loss: 0.4497 - accuracy: 0.8494 - val_loss: 0.5067 - val_accuracy: 0.8193\n",
      "Epoch 25/100\n",
      "219/219 [==============================] - 92s 422ms/step - loss: 0.4548 - accuracy: 0.8419 - val_loss: 0.4457 - val_accuracy: 0.8430\n",
      "Epoch 26/100\n",
      "219/219 [==============================] - 93s 425ms/step - loss: 0.4435 - accuracy: 0.8424 - val_loss: 0.4864 - val_accuracy: 0.8207\n",
      "Epoch 27/100\n",
      "219/219 [==============================] - 92s 418ms/step - loss: 0.4342 - accuracy: 0.8486 - val_loss: 0.4477 - val_accuracy: 0.8427\n",
      "Epoch 28/100\n",
      "219/219 [==============================] - 92s 421ms/step - loss: 0.4219 - accuracy: 0.8553 - val_loss: 0.4485 - val_accuracy: 0.8470\n",
      "Epoch 29/100\n",
      "219/219 [==============================] - 90s 409ms/step - loss: 0.4117 - accuracy: 0.8577 - val_loss: 0.4290 - val_accuracy: 0.8480\n",
      "Epoch 30/100\n",
      "219/219 [==============================] - 94s 429ms/step - loss: 0.3911 - accuracy: 0.8644 - val_loss: 0.3991 - val_accuracy: 0.8650\n",
      "Epoch 31/100\n",
      "219/219 [==============================] - 89s 407ms/step - loss: 0.3847 - accuracy: 0.8631 - val_loss: 0.4527 - val_accuracy: 0.8410\n",
      "Epoch 32/100\n",
      "219/219 [==============================] - 91s 417ms/step - loss: 0.3917 - accuracy: 0.8637 - val_loss: 0.4165 - val_accuracy: 0.8560\n",
      "Epoch 33/100\n",
      "219/219 [==============================] - 90s 410ms/step - loss: 0.3759 - accuracy: 0.8633 - val_loss: 0.3795 - val_accuracy: 0.8627\n",
      "Epoch 34/100\n",
      "219/219 [==============================] - 92s 421ms/step - loss: 0.3666 - accuracy: 0.8723 - val_loss: 0.3969 - val_accuracy: 0.8593\n",
      "Epoch 35/100\n",
      "219/219 [==============================] - 94s 431ms/step - loss: 0.3587 - accuracy: 0.8717 - val_loss: 0.3837 - val_accuracy: 0.8640\n",
      "Epoch 36/100\n",
      "219/219 [==============================] - 94s 428ms/step - loss: 0.3546 - accuracy: 0.8770 - val_loss: 0.3881 - val_accuracy: 0.8657\n",
      "Epoch 37/100\n",
      "219/219 [==============================] - 93s 422ms/step - loss: 0.3459 - accuracy: 0.8787 - val_loss: 0.4034 - val_accuracy: 0.8617\n",
      "Epoch 38/100\n",
      "219/219 [==============================] - 97s 441ms/step - loss: 0.3349 - accuracy: 0.8874 - val_loss: 0.4050 - val_accuracy: 0.8573\n",
      "Epoch 39/100\n",
      "219/219 [==============================] - 90s 410ms/step - loss: 0.3349 - accuracy: 0.8857 - val_loss: 0.3696 - val_accuracy: 0.8643\n",
      "Epoch 40/100\n",
      "219/219 [==============================] - 92s 419ms/step - loss: 0.3217 - accuracy: 0.8907 - val_loss: 0.4242 - val_accuracy: 0.8510\n",
      "Epoch 41/100\n",
      "219/219 [==============================] - 94s 428ms/step - loss: 0.3147 - accuracy: 0.8871 - val_loss: 0.3362 - val_accuracy: 0.8820\n",
      "Epoch 42/100\n",
      "219/219 [==============================] - 93s 424ms/step - loss: 0.3152 - accuracy: 0.8893 - val_loss: 0.3389 - val_accuracy: 0.8787\n",
      "Epoch 43/100\n",
      "219/219 [==============================] - 94s 430ms/step - loss: 0.2952 - accuracy: 0.8966 - val_loss: 0.3518 - val_accuracy: 0.8673\n",
      "Epoch 44/100\n",
      "219/219 [==============================] - 94s 428ms/step - loss: 0.2904 - accuracy: 0.9020 - val_loss: 0.3345 - val_accuracy: 0.8793\n",
      "Epoch 45/100\n",
      "219/219 [==============================] - 89s 408ms/step - loss: 0.2949 - accuracy: 0.8987 - val_loss: 0.3543 - val_accuracy: 0.8717\n",
      "Epoch 46/100\n",
      "219/219 [==============================] - 94s 430ms/step - loss: 0.2961 - accuracy: 0.8954 - val_loss: 0.3939 - val_accuracy: 0.8580\n",
      "Epoch 47/100\n",
      "219/219 [==============================] - 94s 427ms/step - loss: 0.2696 - accuracy: 0.9061 - val_loss: 0.3569 - val_accuracy: 0.8713\n",
      "Epoch 48/100\n",
      "219/219 [==============================] - 95s 431ms/step - loss: 0.2761 - accuracy: 0.9011 - val_loss: 0.3040 - val_accuracy: 0.8893\n",
      "Epoch 49/100\n",
      "219/219 [==============================] - 91s 414ms/step - loss: 0.2886 - accuracy: 0.8991 - val_loss: 0.3163 - val_accuracy: 0.8880\n",
      "Epoch 50/100\n",
      "219/219 [==============================] - 92s 419ms/step - loss: 0.2691 - accuracy: 0.9043 - val_loss: 0.3293 - val_accuracy: 0.8807\n",
      "Epoch 51/100\n",
      "219/219 [==============================] - 89s 404ms/step - loss: 0.2758 - accuracy: 0.9063 - val_loss: 0.3304 - val_accuracy: 0.8830\n",
      "Epoch 52/100\n",
      "219/219 [==============================] - 94s 429ms/step - loss: 0.2504 - accuracy: 0.9141 - val_loss: 0.3181 - val_accuracy: 0.8807\n",
      "Epoch 53/100\n",
      "219/219 [==============================] - 92s 419ms/step - loss: 0.2450 - accuracy: 0.9169 - val_loss: 0.3619 - val_accuracy: 0.8770\n",
      "Epoch 54/100\n",
      "219/219 [==============================] - 92s 419ms/step - loss: 0.2459 - accuracy: 0.9129 - val_loss: 0.2958 - val_accuracy: 0.8930\n",
      "Epoch 55/100\n",
      "219/219 [==============================] - 90s 409ms/step - loss: 0.2452 - accuracy: 0.9159 - val_loss: 0.2891 - val_accuracy: 0.8983\n",
      "Epoch 56/100\n",
      "219/219 [==============================] - 93s 422ms/step - loss: 0.2378 - accuracy: 0.9181 - val_loss: 0.3049 - val_accuracy: 0.8943\n",
      "Epoch 57/100\n",
      "219/219 [==============================] - 89s 405ms/step - loss: 0.2537 - accuracy: 0.9094 - val_loss: 0.2678 - val_accuracy: 0.9047\n",
      "Epoch 58/100\n",
      "219/219 [==============================] - 91s 416ms/step - loss: 0.2354 - accuracy: 0.9153 - val_loss: 0.3076 - val_accuracy: 0.8880\n",
      "Epoch 59/100\n",
      "219/219 [==============================] - 93s 423ms/step - loss: 0.2215 - accuracy: 0.9236 - val_loss: 0.3593 - val_accuracy: 0.8730\n",
      "Epoch 60/100\n",
      "219/219 [==============================] - 106s 483ms/step - loss: 0.2181 - accuracy: 0.9197 - val_loss: 0.2801 - val_accuracy: 0.8943\n",
      "Epoch 61/100\n",
      "219/219 [==============================] - 102s 466ms/step - loss: 0.2122 - accuracy: 0.9246 - val_loss: 0.2632 - val_accuracy: 0.9090\n",
      "Epoch 62/100\n",
      "219/219 [==============================] - 101s 458ms/step - loss: 0.2210 - accuracy: 0.9237 - val_loss: 0.2547 - val_accuracy: 0.9073\n",
      "Epoch 63/100\n",
      "219/219 [==============================] - 115s 523ms/step - loss: 0.2223 - accuracy: 0.9220 - val_loss: 0.2773 - val_accuracy: 0.9000\n",
      "Epoch 64/100\n",
      "219/219 [==============================] - 111s 507ms/step - loss: 0.2054 - accuracy: 0.9257 - val_loss: 0.2538 - val_accuracy: 0.9093\n",
      "Epoch 65/100\n",
      "219/219 [==============================] - 99s 452ms/step - loss: 0.2098 - accuracy: 0.9251 - val_loss: 0.2820 - val_accuracy: 0.8983\n",
      "Epoch 66/100\n",
      "219/219 [==============================] - 103s 467ms/step - loss: 0.2144 - accuracy: 0.9209 - val_loss: 0.2939 - val_accuracy: 0.8953\n",
      "Epoch 67/100\n",
      "219/219 [==============================] - 93s 424ms/step - loss: 0.1938 - accuracy: 0.9323 - val_loss: 0.2419 - val_accuracy: 0.9140\n",
      "Epoch 68/100\n",
      "219/219 [==============================] - 94s 429ms/step - loss: 0.1975 - accuracy: 0.9286 - val_loss: 0.2591 - val_accuracy: 0.9087\n",
      "Epoch 69/100\n",
      "219/219 [==============================] - 95s 433ms/step - loss: 0.2098 - accuracy: 0.9251 - val_loss: 0.2986 - val_accuracy: 0.8943\n",
      "Epoch 70/100\n",
      "219/219 [==============================] - 95s 431ms/step - loss: 0.1929 - accuracy: 0.9319 - val_loss: 0.2535 - val_accuracy: 0.9097\n",
      "Epoch 71/100\n",
      "219/219 [==============================] - 93s 424ms/step - loss: 0.1851 - accuracy: 0.9353 - val_loss: 0.2504 - val_accuracy: 0.9167\n",
      "Epoch 72/100\n",
      "219/219 [==============================] - 94s 428ms/step - loss: 0.1834 - accuracy: 0.9356 - val_loss: 0.2629 - val_accuracy: 0.9047\n",
      "Epoch 73/100\n",
      "219/219 [==============================] - 91s 416ms/step - loss: 0.1746 - accuracy: 0.9393 - val_loss: 0.2722 - val_accuracy: 0.9020\n",
      "Epoch 74/100\n",
      "219/219 [==============================] - 91s 413ms/step - loss: 0.1733 - accuracy: 0.9373 - val_loss: 0.2775 - val_accuracy: 0.9093\n",
      "Epoch 75/100\n",
      "219/219 [==============================] - 89s 408ms/step - loss: 0.1850 - accuracy: 0.9320 - val_loss: 0.2962 - val_accuracy: 0.8993\n",
      "Epoch 76/100\n",
      "219/219 [==============================] - 94s 428ms/step - loss: 0.1635 - accuracy: 0.9420 - val_loss: 0.2775 - val_accuracy: 0.9027\n",
      "Epoch 77/100\n",
      "219/219 [==============================] - 90s 412ms/step - loss: 0.1653 - accuracy: 0.9416 - val_loss: 0.2972 - val_accuracy: 0.8933\n",
      "Epoch 78/100\n",
      "219/219 [==============================] - 93s 426ms/step - loss: 0.1740 - accuracy: 0.9407 - val_loss: 0.2459 - val_accuracy: 0.9110\n",
      "Epoch 79/100\n",
      "219/219 [==============================] - 93s 425ms/step - loss: 0.1546 - accuracy: 0.9461 - val_loss: 0.2722 - val_accuracy: 0.9023\n",
      "Epoch 80/100\n",
      "219/219 [==============================] - 94s 427ms/step - loss: 0.1672 - accuracy: 0.9389 - val_loss: 0.2467 - val_accuracy: 0.9130\n",
      "Epoch 81/100\n",
      "219/219 [==============================] - 95s 433ms/step - loss: 0.1636 - accuracy: 0.9450 - val_loss: 0.2275 - val_accuracy: 0.9227\n",
      "Epoch 82/100\n",
      "219/219 [==============================] - 93s 423ms/step - loss: 0.1631 - accuracy: 0.9431 - val_loss: 0.2355 - val_accuracy: 0.9190\n",
      "Epoch 83/100\n",
      "219/219 [==============================] - 91s 416ms/step - loss: 0.1440 - accuracy: 0.9480 - val_loss: 0.2610 - val_accuracy: 0.9087\n",
      "Epoch 84/100\n",
      "219/219 [==============================] - 93s 423ms/step - loss: 0.1450 - accuracy: 0.9494 - val_loss: 0.2437 - val_accuracy: 0.9180\n",
      "Epoch 85/100\n",
      "219/219 [==============================] - 88s 402ms/step - loss: 0.1530 - accuracy: 0.9456 - val_loss: 0.2540 - val_accuracy: 0.9120\n",
      "Epoch 86/100\n",
      "219/219 [==============================] - 93s 424ms/step - loss: 0.1518 - accuracy: 0.9459 - val_loss: 0.2460 - val_accuracy: 0.9077\n",
      "Epoch 87/100\n",
      "219/219 [==============================] - 90s 410ms/step - loss: 0.1641 - accuracy: 0.9424 - val_loss: 0.2268 - val_accuracy: 0.9207\n",
      "Epoch 88/100\n",
      "219/219 [==============================] - 95s 435ms/step - loss: 0.1360 - accuracy: 0.9513 - val_loss: 0.2852 - val_accuracy: 0.9073\n",
      "Epoch 89/100\n",
      "219/219 [==============================] - 94s 430ms/step - loss: 0.1328 - accuracy: 0.9526 - val_loss: 0.2149 - val_accuracy: 0.9227\n",
      "Epoch 90/100\n",
      "219/219 [==============================] - 95s 434ms/step - loss: 0.1426 - accuracy: 0.9477 - val_loss: 0.2506 - val_accuracy: 0.9187\n",
      "Epoch 91/100\n",
      "219/219 [==============================] - 89s 408ms/step - loss: 0.1316 - accuracy: 0.9540 - val_loss: 0.2455 - val_accuracy: 0.9203\n",
      "Epoch 92/100\n",
      "219/219 [==============================] - 92s 420ms/step - loss: 0.1247 - accuracy: 0.9554 - val_loss: 0.2432 - val_accuracy: 0.9217\n",
      "Epoch 93/100\n",
      "219/219 [==============================] - 92s 420ms/step - loss: 0.1183 - accuracy: 0.9576 - val_loss: 0.2734 - val_accuracy: 0.9163\n",
      "Epoch 94/100\n",
      "219/219 [==============================] - 92s 421ms/step - loss: 0.1296 - accuracy: 0.9553 - val_loss: 0.2656 - val_accuracy: 0.9073\n",
      "Epoch 95/100\n",
      "219/219 [==============================] - 91s 415ms/step - loss: 0.1304 - accuracy: 0.9524 - val_loss: 0.2352 - val_accuracy: 0.9227\n",
      "Epoch 96/100\n",
      "219/219 [==============================] - 94s 429ms/step - loss: 0.1413 - accuracy: 0.9493 - val_loss: 0.2596 - val_accuracy: 0.9127\n",
      "Epoch 97/100\n",
      "219/219 [==============================] - 91s 414ms/step - loss: 0.1184 - accuracy: 0.9596 - val_loss: 0.2172 - val_accuracy: 0.9273\n",
      "Epoch 98/100\n",
      "219/219 [==============================] - 94s 430ms/step - loss: 0.1215 - accuracy: 0.9576 - val_loss: 0.2403 - val_accuracy: 0.9177\n",
      "Epoch 99/100\n",
      "219/219 [==============================] - 91s 417ms/step - loss: 0.1234 - accuracy: 0.9589 - val_loss: 0.2189 - val_accuracy: 0.9227\n",
      "Epoch 100/100\n",
      "219/219 [==============================] - 95s 434ms/step - loss: 0.1119 - accuracy: 0.9596 - val_loss: 0.2730 - val_accuracy: 0.9137\n"
     ]
    }
   ],
   "source": [
    "history = cnn.fit(x = train_gen,\n",
    "                    callbacks = [es], \n",
    "                    # steps_per_epoch = 7000/32,\n",
    "                    epochs = 100,\n",
    "                    # validation_steps = 3000/32,\n",
    "                    validation_data = val_gen)  "
   ]
  },
  {
   "cell_type": "code",
   "execution_count": null,
   "metadata": {},
   "outputs": [
    {
     "name": "stdout",
     "output_type": "stream",
     "text": [
      "32/32 [==============================] - 8s 258ms/step - loss: 0.3705 - accuracy: 0.8930\n"
     ]
    }
   ],
   "source": [
    "scores = cnn.evaluate(test_gen)"
   ]
  },
  {
   "cell_type": "code",
   "execution_count": null,
   "metadata": {},
   "outputs": [
    {
     "data": {
      "image/png": "[encoded data removed]",
      "text/plain": [
       "<Figure size 640x480 with 1 Axes>"
      ]
     },
     "metadata": {},
     "output_type": "display_data"
    },
    {
     "data": {
      "image/png": "[encoded data removed]",
      "text/plain": [
       "<Figure size 640x480 with 1 Axes>"
      ]
     },
     "metadata": {},
     "output_type": "display_data"
    }
   ],
   "source": [
    "# plot the loss\n",
    "plt.plot(history.history['loss'], label='Training loss')\n",
    "plt.plot(history.history['val_loss'], label='Validation loss')\n",
    "plt.legend()\n",
    "plt.show()\n",
    "\n",
    "# plot the accuracy\n",
    "plt.plot(history.history['accuracy'], label='Training accuracy')\n",
    "plt.plot(history.history['val_accuracy'], label='Validation accuracy')\n",
    "plt.legend()\n",
    "plt.show()"
   ]
  },
  {
   "cell_type": "code",
   "execution_count": null,
   "metadata": {},
   "outputs": [],
   "source": [
    "# don't forget to save your model for later\n",
    "cnn.save('rembg_training.h5')"
   ]
  },
  {
   "cell_type": "markdown",
   "metadata": {},
   "source": [
    "Making predictions, confusion matrix, metrics."
   ]
  },
  {
   "cell_type": "code",
   "execution_count": null,
   "metadata": {},
   "outputs": [
    {
     "name": "stderr",
     "output_type": "stream",
     "text": [
      "C:\\Users\\Javi\\AppData\\Local\\Temp\\ipykernel_104368\\2245222372.py:1: DeprecationWarning: `np.math` is a deprecated alias for the standard library `math` module (Deprecated Numpy 1.25). Replace usages of `np.math` with `math`\n",
      "  test_steps_per_epoch = np.math.ceil(test_gen.samples / test_gen.batch_size)\n"
     ]
    }
   ],
   "source": [
    "test_steps_per_epoch = np.math.ceil(test_gen.samples / test_gen.batch_size)"
   ]
  },
  {
   "cell_type": "code",
   "execution_count": null,
   "metadata": {},
   "outputs": [
    {
     "name": "stdout",
     "output_type": "stream",
     "text": [
      "32/32 [==============================] - 8s 249ms/step\n"
     ]
    }
   ],
   "source": [
    "# Predict classes\n",
    "predictions = cnn.predict(test_gen, steps=test_steps_per_epoch)"
   ]
  },
  {
   "cell_type": "code",
   "execution_count": null,
   "metadata": {},
   "outputs": [
    {
     "data": {
      "text/plain": [
       "array([9.7573584e-01, 1.2912551e-02, 7.0073782e-03, 5.9463020e-04,\n",
       "       3.8718867e-06, 2.8114701e-03, 5.5474334e-04, 3.7960583e-04,\n",
       "       1.7477698e-13, 4.4337426e-11], dtype=float32)"
      ]
     },
     "execution_count": 40,
     "metadata": {},
     "output_type": "execute_result"
    }
   ],
   "source": [
    "predictions[1]"
   ]
  },
  {
   "cell_type": "code",
   "execution_count": null,
   "metadata": {},
   "outputs": [],
   "source": [
    "predicted_classes = np.argmax(predictions,axis=1)"
   ]
  },
  {
   "cell_type": "code",
   "execution_count": null,
   "metadata": {},
   "outputs": [],
   "source": [
    "# Get ground-truth classes and class-labels\n",
    "true_classes = test_gen.classes\n",
    "class_labels = list(test_gen.class_indices.keys())"
   ]
  },
  {
   "cell_type": "code",
   "execution_count": null,
   "metadata": {},
   "outputs": [
    {
     "name": "stdout",
     "output_type": "stream",
     "text": [
      "[[93  3  1  0  0  0  1  2  0  0]\n",
      " [ 1 80  8  1  1  1  4  4  0  0]\n",
      " [ 1  2 93  1  1  0  0  2  0  0]\n",
      " [ 0  1  5 83  5  2  0  3  0  1]\n",
      " [ 1  3  6  1 85  1  2  0  1  0]\n",
      " [ 0  0  2  0  0 91  6  0  1  0]\n",
      " [ 1  3  1  0  1  4 89  0  0  1]\n",
      " [ 3  0  0  0  0  0  0 97  0  0]\n",
      " [ 0  1  0  0  1  0  0  0 98  0]\n",
      " [ 0  0  1  0  2  0  7  0  0 90]]\n"
     ]
    }
   ],
   "source": [
    "# Print confusion matrix\n",
    "confusion_matrix = confusion_matrix(test_gen.classes, predicted_classes)\n",
    "print(confusion_matrix)"
   ]
  },
  {
   "cell_type": "code",
   "execution_count": null,
   "metadata": {},
   "outputs": [
    {
     "name": "stdout",
     "output_type": "stream",
     "text": [
      "                                               precision    recall  f1-score   support\n",
      "\n",
      "                      Tomato___Bacterial_spot       0.93      0.93      0.93       100\n",
      "                        Tomato___Early_blight       0.86      0.80      0.83       100\n",
      "                         Tomato___Late_blight       0.79      0.93      0.86       100\n",
      "                           Tomato___Leaf_Mold       0.97      0.83      0.89       100\n",
      "                  Tomato___Septoria_leaf_spot       0.89      0.85      0.87       100\n",
      "Tomato___Spider_mites Two-spotted_spider_mite       0.92      0.91      0.91       100\n",
      "                         Tomato___Target_Spot       0.82      0.89      0.85       100\n",
      "       Tomato___Tomato_Yellow_Leaf_Curl_Virus       0.90      0.97      0.93       100\n",
      "                 Tomato___Tomato_mosaic_virus       0.98      0.98      0.98       100\n",
      "                             Tomato___healthy       0.98      0.90      0.94       100\n",
      "\n",
      "                                     accuracy                           0.90      1000\n",
      "                                    macro avg       0.90      0.90      0.90      1000\n",
      "                                 weighted avg       0.90      0.90      0.90      1000\n",
      "\n"
     ]
    }
   ],
   "source": [
    "# To check F1 score, recall etc.\n",
    "report = classification_report(true_classes, predicted_classes, target_names=class_labels)\n",
    "print(report)"
   ]
  }
 ],
 "metadata": {
  "kernelspec": {
   "display_name": "leaf",
   "language": "python",
   "name": "python3"
  },
  "language_info": {
   "codemirror_mode": {
    "name": "ipython",
    "version": 3
   },
   "file_extension": ".py",
   "mimetype": "text/x-python",
   "name": "python",
   "nbconvert_exporter": "python",
   "pygments_lexer": "ipython3",
   "version": "3.9.19"
  }
 },
 "nbformat": 4,
 "nbformat_minor": 2
}
