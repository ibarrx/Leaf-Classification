{
 "cells": [
  {
   "cell_type": "code",
   "execution_count": 1,
   "metadata": {},
   "outputs": [],
   "source": [
    "# Importing all the libraries needed\n",
    "import numpy as np\n",
    "import matplotlib.pyplot as plt\n",
    "%matplotlib inline\n",
    "import tensorflow as tf\n",
    "import pandas as pd\n",
    "import os, requests, cv2, random\n",
    "from tensorflow.keras.models import Sequential\n",
    "from tensorflow.keras.layers import Conv2D, MaxPooling2D, Flatten, Dense\n",
    "from tensorflow.keras.callbacks import EarlyStopping\n",
    "from tensorflow.keras.optimizers import Adam\n",
    "from tensorflow.keras import models\n",
    "from tensorflow.keras import Sequential, layers\n",
    "from keras.preprocessing.image import ImageDataGenerator\n",
    "from tensorflow import keras\n",
    "from sklearn.metrics import confusion_matrix,classification_report"
   ]
  },
  {
   "cell_type": "markdown",
   "metadata": {},
   "source": [
    "## 1. Loading data and preprocessing it"
   ]
  },
  {
   "cell_type": "code",
   "execution_count": 2,
   "metadata": {},
   "outputs": [],
   "source": [
    "# loading the pictures of tomatoes\n",
    "\n",
    "train_data_dir = 'data/tomato/train'\n",
    "test_data_dir = 'data/tomato/val' #this folder will be used for evaluating model's perfomance"
   ]
  },
  {
   "cell_type": "code",
   "execution_count": 3,
   "metadata": {},
   "outputs": [],
   "source": [
    "# for this challenge we are using ImageDataGenerator \n",
    "\n",
    "train_datagen = ImageDataGenerator(rescale=1/255.0,\n",
    "                               shear_range=0.2,\n",
    "                                zoom_range=0.2,\n",
    "                                horizontal_flip=True,\n",
    "                                validation_split=0.3)# specifying the validation split inside the function\n",
    "\n",
    "test_datagen = ImageDataGenerator(rescale=1/255.0,\n",
    "                                shear_range=0.2,\n",
    "                                zoom_range=0.2,\n",
    "                                horizontal_flip=True)"
   ]
  },
  {
   "cell_type": "code",
   "execution_count": 4,
   "metadata": {},
   "outputs": [
    {
     "name": "stdout",
     "output_type": "stream",
     "text": [
      "Found 7000 images belonging to 10 classes.\n"
     ]
    }
   ],
   "source": [
    "train_gen = train_datagen.flow_from_directory(\n",
    "                                train_data_dir,\n",
    "                                target_size=(224, 224),\n",
    "                                batch_size=32,\n",
    "                                shuffle=True,\n",
    "                                class_mode='categorical',\n",
    "                                subset='training')"
   ]
  },
  {
   "cell_type": "code",
   "execution_count": 5,
   "metadata": {},
   "outputs": [
    {
     "name": "stdout",
     "output_type": "stream",
     "text": [
      "Found 3000 images belonging to 10 classes.\n"
     ]
    }
   ],
   "source": [
    "val_gen = train_datagen.flow_from_directory(\n",
    "                                train_data_dir,\n",
    "                                target_size=(224,224),\n",
    "                                batch_size=32,\n",
    "                                shuffle=True,\n",
    "                                class_mode='categorical',\n",
    "                                subset='validation')"
   ]
  },
  {
   "cell_type": "code",
   "execution_count": 6,
   "metadata": {},
   "outputs": [
    {
     "name": "stdout",
     "output_type": "stream",
     "text": [
      "Found 1000 images belonging to 10 classes.\n"
     ]
    }
   ],
   "source": [
    "test_gen = test_datagen.flow_from_directory(\n",
    "        test_data_dir,\n",
    "        target_size=(224, 224),\n",
    "        batch_size=32,\n",
    "        class_mode='categorical',\n",
    "        shuffle = False) #shuffle will not affect the accuracy of the model, but will affect the computation of some metrics that depend on the order of the samples"
   ]
  },
  {
   "cell_type": "markdown",
   "metadata": {},
   "source": [
    "## 1a. Building a CNN model with a learning rate of 0.001"
   ]
  },
  {
   "cell_type": "code",
   "execution_count": 7,
   "metadata": {},
   "outputs": [],
   "source": [
    "# CNN model layers\n",
    "\n",
    "cnn = models.Sequential()\n",
    "\n",
    "cnn.add(layers.Conv2D (32, kernel_size = (3,3), activation='relu', input_shape = [224, 224,3])),\n",
    "cnn.add(layers.MaxPooling2D(pool_size = (2, 2))),\n",
    "\n",
    "cnn.add(layers.Conv2D(64, (3,3), activation='relu')),\n",
    "cnn.add(layers. MaxPooling2D((2, 2))),\n",
    "\n",
    "cnn.add(layers.Conv2D (64, (3,3), activation='relu')),\n",
    "cnn.add(layers.MaxPooling2D((2, 2))),\n",
    "\n",
    "cnn.add(layers.Conv2D(64, (3, 3), activation='relu')), \n",
    "cnn.add(layers.MaxPooling2D((2, 2))),\n",
    "\n",
    "cnn.add(layers. Conv2D (64, (3, 3), activation='relu')), \n",
    "cnn.add(layers.MaxPooling2D((2, 2))),\n",
    "\n",
    "cnn.add(layers.Conv2D(64, (3, 3), activation='relu')), \n",
    "cnn.add(layers.MaxPooling2D((2, 2))),\n",
    "\n",
    "cnn.add(layers.Flatten()),\n",
    "\n",
    "cnn.add(layers.Dense(64,activation='relu'))\n",
    "#output layer\n",
    "cnn.add(layers.Dense(10,activation='softmax'))"
   ]
  },
  {
   "cell_type": "code",
   "execution_count": 8,
   "metadata": {},
   "outputs": [
    {
     "name": "stdout",
     "output_type": "stream",
     "text": [
      "Model: \"sequential\"\n",
      "_________________________________________________________________\n",
      " Layer (type)                Output Shape              Param #   \n",
      "=================================================================\n",
      " conv2d (Conv2D)             (None, 222, 222, 32)      896       \n",
      "                                                                 \n",
      " max_pooling2d (MaxPooling2D  (None, 111, 111, 32)     0         \n",
      " )                                                               \n",
      "                                                                 \n",
      " conv2d_1 (Conv2D)           (None, 109, 109, 64)      18496     \n",
      "                                                                 \n",
      " max_pooling2d_1 (MaxPooling  (None, 54, 54, 64)       0         \n",
      " 2D)                                                             \n",
      "                                                                 \n",
      " conv2d_2 (Conv2D)           (None, 52, 52, 64)        36928     \n",
      "                                                                 \n",
      " max_pooling2d_2 (MaxPooling  (None, 26, 26, 64)       0         \n",
      " 2D)                                                             \n",
      "                                                                 \n",
      " conv2d_3 (Conv2D)           (None, 24, 24, 64)        36928     \n",
      "                                                                 \n",
      " max_pooling2d_3 (MaxPooling  (None, 12, 12, 64)       0         \n",
      " 2D)                                                             \n",
      "                                                                 \n",
      " conv2d_4 (Conv2D)           (None, 10, 10, 64)        36928     \n",
      "                                                                 \n",
      " max_pooling2d_4 (MaxPooling  (None, 5, 5, 64)         0         \n",
      " 2D)                                                             \n",
      "                                                                 \n",
      " conv2d_5 (Conv2D)           (None, 3, 3, 64)          36928     \n",
      "                                                                 \n",
      " max_pooling2d_5 (MaxPooling  (None, 1, 1, 64)         0         \n",
      " 2D)                                                             \n",
      "                                                                 \n",
      " flatten (Flatten)           (None, 64)                0         \n",
      "                                                                 \n",
      " dense (Dense)               (None, 64)                4160      \n",
      "                                                                 \n",
      " dense_1 (Dense)             (None, 10)                650       \n",
      "                                                                 \n",
      "=================================================================\n",
      "Total params: 171,914\n",
      "Trainable params: 171,914\n",
      "Non-trainable params: 0\n",
      "_________________________________________________________________\n"
     ]
    }
   ],
   "source": [
    "cnn.summary()"
   ]
  },
  {
   "cell_type": "code",
   "execution_count": 9,
   "metadata": {},
   "outputs": [],
   "source": [
    "opt = keras.optimizers.Adam(learning_rate=1e-4)"
   ]
  },
  {
   "cell_type": "code",
   "execution_count": 10,
   "metadata": {},
   "outputs": [],
   "source": [
    "cnn.compile(optimizer=opt,loss='categorical_crossentropy',metrics=['accuracy'])"
   ]
  },
  {
   "cell_type": "markdown",
   "metadata": {},
   "source": [
    "Before training the model, let's define an Early Stopping to avoid oferfitting."
   ]
  },
  {
   "cell_type": "code",
   "execution_count": 11,
   "metadata": {},
   "outputs": [],
   "source": [
    "es = EarlyStopping(monitor = 'val_accuracy', \n",
    "                   mode = 'max', \n",
    "                   patience = 20, \n",
    "                   verbose = 1, \n",
    "                   restore_best_weights = True)"
   ]
  },
  {
   "cell_type": "code",
   "execution_count": 12,
   "metadata": {},
   "outputs": [
    {
     "name": "stdout",
     "output_type": "stream",
     "text": [
      "Epoch 1/100\n",
      "218/218 [==============================] - 104s 472ms/step - loss: 2.0094 - accuracy: 0.2470 - val_loss: 1.6288 - val_accuracy: 0.4167\n",
      "Epoch 2/100\n",
      "218/218 [==============================] - 93s 425ms/step - loss: 1.3841 - accuracy: 0.4979 - val_loss: 1.3873 - val_accuracy: 0.4973\n",
      "Epoch 3/100\n",
      "218/218 [==============================] - 93s 426ms/step - loss: 1.0826 - accuracy: 0.6131 - val_loss: 1.0738 - val_accuracy: 0.6123\n",
      "Epoch 4/100\n",
      "218/218 [==============================] - 92s 421ms/step - loss: 0.8977 - accuracy: 0.6789 - val_loss: 0.8356 - val_accuracy: 0.6960\n",
      "Epoch 5/100\n",
      "218/218 [==============================] - 93s 425ms/step - loss: 0.7740 - accuracy: 0.7241 - val_loss: 0.7037 - val_accuracy: 0.7447\n",
      "Epoch 6/100\n",
      "218/218 [==============================] - 93s 426ms/step - loss: 0.6933 - accuracy: 0.7500 - val_loss: 0.6049 - val_accuracy: 0.7713\n",
      "Epoch 7/100\n",
      "218/218 [==============================] - 95s 435ms/step - loss: 0.6287 - accuracy: 0.7716 - val_loss: 0.7112 - val_accuracy: 0.7353\n",
      "Epoch 8/100\n",
      "218/218 [==============================] - 91s 417ms/step - loss: 0.5634 - accuracy: 0.7956 - val_loss: 0.6870 - val_accuracy: 0.7627\n",
      "Epoch 9/100\n",
      "218/218 [==============================] - 94s 431ms/step - loss: 0.5095 - accuracy: 0.8146 - val_loss: 0.5620 - val_accuracy: 0.7940\n",
      "Epoch 10/100\n",
      "218/218 [==============================] - 94s 428ms/step - loss: 0.4925 - accuracy: 0.8260 - val_loss: 0.6195 - val_accuracy: 0.7813\n",
      "Epoch 11/100\n",
      "218/218 [==============================] - 92s 419ms/step - loss: 0.4441 - accuracy: 0.8394 - val_loss: 0.5152 - val_accuracy: 0.8203\n",
      "Epoch 12/100\n",
      "218/218 [==============================] - 91s 416ms/step - loss: 0.4148 - accuracy: 0.8527 - val_loss: 0.4267 - val_accuracy: 0.8533\n",
      "Epoch 13/100\n",
      "218/218 [==============================] - 93s 426ms/step - loss: 0.4068 - accuracy: 0.8541 - val_loss: 0.4685 - val_accuracy: 0.8300\n",
      "Epoch 14/100\n",
      "218/218 [==============================] - 94s 430ms/step - loss: 0.3720 - accuracy: 0.8660 - val_loss: 0.3172 - val_accuracy: 0.8873\n",
      "Epoch 15/100\n",
      "218/218 [==============================] - 94s 427ms/step - loss: 0.3422 - accuracy: 0.8771 - val_loss: 0.3672 - val_accuracy: 0.8667\n",
      "Epoch 16/100\n",
      "218/218 [==============================] - 94s 428ms/step - loss: 0.3187 - accuracy: 0.8919 - val_loss: 0.3056 - val_accuracy: 0.8883\n",
      "Epoch 17/100\n",
      "218/218 [==============================] - 91s 415ms/step - loss: 0.3224 - accuracy: 0.8833 - val_loss: 0.3566 - val_accuracy: 0.8697\n",
      "Epoch 18/100\n",
      "218/218 [==============================] - 92s 422ms/step - loss: 0.3224 - accuracy: 0.8841 - val_loss: 0.4036 - val_accuracy: 0.8547\n",
      "Epoch 19/100\n",
      "218/218 [==============================] - 91s 417ms/step - loss: 0.2854 - accuracy: 0.9006 - val_loss: 0.2874 - val_accuracy: 0.9030\n",
      "Epoch 20/100\n",
      "218/218 [==============================] - 94s 428ms/step - loss: 0.2686 - accuracy: 0.9049 - val_loss: 0.5431 - val_accuracy: 0.8167\n",
      "Epoch 21/100\n",
      "218/218 [==============================] - 92s 420ms/step - loss: 0.2525 - accuracy: 0.9087 - val_loss: 0.3316 - val_accuracy: 0.8787\n",
      "Epoch 22/100\n",
      "218/218 [==============================] - 94s 432ms/step - loss: 0.2555 - accuracy: 0.9074 - val_loss: 0.2880 - val_accuracy: 0.9063\n",
      "Epoch 23/100\n",
      "218/218 [==============================] - 92s 420ms/step - loss: 0.2281 - accuracy: 0.9199 - val_loss: 0.2383 - val_accuracy: 0.9217\n",
      "Epoch 24/100\n",
      "218/218 [==============================] - 93s 423ms/step - loss: 0.2175 - accuracy: 0.9231 - val_loss: 0.3137 - val_accuracy: 0.8950\n",
      "Epoch 25/100\n",
      "218/218 [==============================] - 104s 475ms/step - loss: 0.2090 - accuracy: 0.9247 - val_loss: 0.2601 - val_accuracy: 0.9087\n",
      "Epoch 26/100\n",
      "218/218 [==============================] - 97s 441ms/step - loss: 0.1876 - accuracy: 0.9356 - val_loss: 0.2573 - val_accuracy: 0.9103\n",
      "Epoch 27/100\n",
      "218/218 [==============================] - 97s 445ms/step - loss: 0.2119 - accuracy: 0.9233 - val_loss: 0.3810 - val_accuracy: 0.8623\n",
      "Epoch 28/100\n",
      "218/218 [==============================] - 94s 431ms/step - loss: 0.2130 - accuracy: 0.9256 - val_loss: 0.2183 - val_accuracy: 0.9237\n",
      "Epoch 29/100\n",
      "218/218 [==============================] - 92s 419ms/step - loss: 0.1829 - accuracy: 0.9343 - val_loss: 0.2546 - val_accuracy: 0.9137\n",
      "Epoch 30/100\n",
      "218/218 [==============================] - 91s 414ms/step - loss: 0.1700 - accuracy: 0.9364 - val_loss: 0.2814 - val_accuracy: 0.9027\n",
      "Epoch 31/100\n",
      "218/218 [==============================] - 92s 420ms/step - loss: 0.1746 - accuracy: 0.9387 - val_loss: 0.2600 - val_accuracy: 0.9080\n",
      "Epoch 32/100\n",
      "218/218 [==============================] - 92s 422ms/step - loss: 0.1904 - accuracy: 0.9320 - val_loss: 0.2809 - val_accuracy: 0.9017\n",
      "Epoch 33/100\n",
      "218/218 [==============================] - 98s 446ms/step - loss: 0.1665 - accuracy: 0.9401 - val_loss: 0.2221 - val_accuracy: 0.9207\n",
      "Epoch 34/100\n",
      "218/218 [==============================] - 92s 421ms/step - loss: 0.1389 - accuracy: 0.9509 - val_loss: 0.1881 - val_accuracy: 0.9380\n",
      "Epoch 35/100\n",
      "218/218 [==============================] - 97s 443ms/step - loss: 0.1869 - accuracy: 0.9399 - val_loss: 0.2064 - val_accuracy: 0.9267\n",
      "Epoch 36/100\n",
      "218/218 [==============================] - 93s 426ms/step - loss: 0.1407 - accuracy: 0.9491 - val_loss: 0.1758 - val_accuracy: 0.9353\n",
      "Epoch 37/100\n",
      "218/218 [==============================] - 94s 431ms/step - loss: 0.1676 - accuracy: 0.9400 - val_loss: 0.3260 - val_accuracy: 0.8950\n",
      "Epoch 38/100\n",
      "218/218 [==============================] - 92s 419ms/step - loss: 0.1412 - accuracy: 0.9487 - val_loss: 0.2141 - val_accuracy: 0.9260\n",
      "Epoch 39/100\n",
      "218/218 [==============================] - 92s 420ms/step - loss: 0.1409 - accuracy: 0.9509 - val_loss: 0.2616 - val_accuracy: 0.9117\n",
      "Epoch 40/100\n",
      "218/218 [==============================] - 95s 435ms/step - loss: 0.1432 - accuracy: 0.9519 - val_loss: 0.2442 - val_accuracy: 0.9130\n",
      "Epoch 41/100\n",
      "218/218 [==============================] - 96s 438ms/step - loss: 0.1136 - accuracy: 0.9599 - val_loss: 0.2276 - val_accuracy: 0.9233\n",
      "Epoch 42/100\n",
      "218/218 [==============================] - 92s 422ms/step - loss: 0.1252 - accuracy: 0.9567 - val_loss: 0.2347 - val_accuracy: 0.9187\n",
      "Epoch 43/100\n",
      "218/218 [==============================] - 94s 431ms/step - loss: 0.1233 - accuracy: 0.9560 - val_loss: 0.2393 - val_accuracy: 0.9247\n",
      "Epoch 44/100\n",
      "218/218 [==============================] - 93s 425ms/step - loss: 0.1259 - accuracy: 0.9559 - val_loss: 0.4309 - val_accuracy: 0.8767\n",
      "Epoch 45/100\n",
      "218/218 [==============================] - 97s 442ms/step - loss: 0.1233 - accuracy: 0.9579 - val_loss: 0.1965 - val_accuracy: 0.9353\n",
      "Epoch 46/100\n",
      "218/218 [==============================] - 95s 435ms/step - loss: 0.1266 - accuracy: 0.9583 - val_loss: 0.1565 - val_accuracy: 0.9447\n",
      "Epoch 47/100\n",
      "218/218 [==============================] - 94s 430ms/step - loss: 0.1107 - accuracy: 0.9587 - val_loss: 0.1836 - val_accuracy: 0.9463\n",
      "Epoch 48/100\n",
      "218/218 [==============================] - 92s 421ms/step - loss: 0.1169 - accuracy: 0.9574 - val_loss: 0.1888 - val_accuracy: 0.9420\n",
      "Epoch 49/100\n",
      "218/218 [==============================] - 91s 416ms/step - loss: 0.1355 - accuracy: 0.9526 - val_loss: 0.2336 - val_accuracy: 0.9220\n",
      "Epoch 50/100\n",
      "218/218 [==============================] - 92s 420ms/step - loss: 0.0890 - accuracy: 0.9669 - val_loss: 0.1779 - val_accuracy: 0.9437\n",
      "Epoch 51/100\n",
      "218/218 [==============================] - 97s 441ms/step - loss: 0.0813 - accuracy: 0.9717 - val_loss: 0.2043 - val_accuracy: 0.9323\n",
      "Epoch 52/100\n",
      "218/218 [==============================] - 95s 435ms/step - loss: 0.0935 - accuracy: 0.9664 - val_loss: 0.2652 - val_accuracy: 0.9167\n",
      "Epoch 53/100\n",
      "218/218 [==============================] - 97s 441ms/step - loss: 0.1074 - accuracy: 0.9641 - val_loss: 0.1562 - val_accuracy: 0.9457\n",
      "Epoch 54/100\n",
      "218/218 [==============================] - 90s 410ms/step - loss: 0.0879 - accuracy: 0.9673 - val_loss: 0.1499 - val_accuracy: 0.9490\n",
      "Epoch 55/100\n",
      "218/218 [==============================] - 93s 424ms/step - loss: 0.1239 - accuracy: 0.9557 - val_loss: 0.2173 - val_accuracy: 0.9337\n",
      "Epoch 56/100\n",
      "218/218 [==============================] - 93s 423ms/step - loss: 0.0760 - accuracy: 0.9736 - val_loss: 0.1751 - val_accuracy: 0.9470\n",
      "Epoch 57/100\n",
      "218/218 [==============================] - 92s 422ms/step - loss: 0.0930 - accuracy: 0.9674 - val_loss: 0.2163 - val_accuracy: 0.9343\n",
      "Epoch 58/100\n",
      "218/218 [==============================] - 92s 420ms/step - loss: 0.1201 - accuracy: 0.9576 - val_loss: 0.2066 - val_accuracy: 0.9297\n",
      "Epoch 59/100\n",
      "218/218 [==============================] - 97s 443ms/step - loss: 0.0969 - accuracy: 0.9661 - val_loss: 0.2445 - val_accuracy: 0.9237\n",
      "Epoch 60/100\n",
      "218/218 [==============================] - 93s 424ms/step - loss: 0.0815 - accuracy: 0.9713 - val_loss: 0.1864 - val_accuracy: 0.9397\n",
      "Epoch 61/100\n",
      "218/218 [==============================] - 91s 417ms/step - loss: 0.0875 - accuracy: 0.9690 - val_loss: 0.2645 - val_accuracy: 0.9153\n",
      "Epoch 62/100\n",
      "218/218 [==============================] - 92s 419ms/step - loss: 0.0914 - accuracy: 0.9677 - val_loss: 0.1601 - val_accuracy: 0.9460\n",
      "Epoch 63/100\n",
      "218/218 [==============================] - 91s 414ms/step - loss: 0.0704 - accuracy: 0.9777 - val_loss: 0.2064 - val_accuracy: 0.9340\n",
      "Epoch 64/100\n",
      "218/218 [==============================] - 94s 430ms/step - loss: 0.1090 - accuracy: 0.9586 - val_loss: 0.1758 - val_accuracy: 0.9463\n",
      "Epoch 65/100\n",
      "218/218 [==============================] - 94s 431ms/step - loss: 0.0795 - accuracy: 0.9724 - val_loss: 0.1916 - val_accuracy: 0.9380\n",
      "Epoch 66/100\n",
      "218/218 [==============================] - 94s 428ms/step - loss: 0.0559 - accuracy: 0.9813 - val_loss: 0.1696 - val_accuracy: 0.9493\n",
      "Epoch 67/100\n",
      "218/218 [==============================] - 92s 422ms/step - loss: 0.0736 - accuracy: 0.9741 - val_loss: 0.2819 - val_accuracy: 0.9237\n",
      "Epoch 68/100\n",
      "218/218 [==============================] - 92s 422ms/step - loss: 0.1030 - accuracy: 0.9639 - val_loss: 0.2201 - val_accuracy: 0.9360\n",
      "Epoch 69/100\n",
      "218/218 [==============================] - 93s 425ms/step - loss: 0.0640 - accuracy: 0.9786 - val_loss: 0.2752 - val_accuracy: 0.9203\n",
      "Epoch 70/100\n",
      "218/218 [==============================] - 93s 423ms/step - loss: 0.0871 - accuracy: 0.9706 - val_loss: 0.1952 - val_accuracy: 0.9460\n",
      "Epoch 71/100\n",
      "218/218 [==============================] - 92s 421ms/step - loss: 0.0736 - accuracy: 0.9734 - val_loss: 0.2038 - val_accuracy: 0.9383\n",
      "Epoch 72/100\n",
      "218/218 [==============================] - 99s 453ms/step - loss: 0.0643 - accuracy: 0.9811 - val_loss: 0.1688 - val_accuracy: 0.9463\n",
      "Epoch 73/100\n",
      "218/218 [==============================] - 96s 437ms/step - loss: 0.0628 - accuracy: 0.9779 - val_loss: 0.2434 - val_accuracy: 0.9310\n",
      "Epoch 74/100\n",
      "218/218 [==============================] - 96s 438ms/step - loss: 0.0657 - accuracy: 0.9786 - val_loss: 0.2879 - val_accuracy: 0.9177\n",
      "Epoch 75/100\n",
      "218/218 [==============================] - 93s 426ms/step - loss: 0.0716 - accuracy: 0.9767 - val_loss: 0.2477 - val_accuracy: 0.9290\n",
      "Epoch 76/100\n",
      "218/218 [==============================] - 91s 418ms/step - loss: 0.0854 - accuracy: 0.9714 - val_loss: 0.1682 - val_accuracy: 0.9463\n",
      "Epoch 77/100\n",
      "218/218 [==============================] - 95s 434ms/step - loss: 0.1026 - accuracy: 0.9659 - val_loss: 0.2576 - val_accuracy: 0.9243\n",
      "Epoch 78/100\n",
      "218/218 [==============================] - 92s 418ms/step - loss: 0.0769 - accuracy: 0.9749 - val_loss: 0.1863 - val_accuracy: 0.9473\n",
      "Epoch 79/100\n",
      "218/218 [==============================] - 92s 419ms/step - loss: 0.0623 - accuracy: 0.9769 - val_loss: 0.1991 - val_accuracy: 0.9383\n",
      "Epoch 80/100\n",
      "218/218 [==============================] - 89s 408ms/step - loss: 0.0771 - accuracy: 0.9761 - val_loss: 0.1808 - val_accuracy: 0.9487\n",
      "Epoch 81/100\n",
      "218/218 [==============================] - 92s 422ms/step - loss: 0.0761 - accuracy: 0.9739 - val_loss: 0.1663 - val_accuracy: 0.9507\n",
      "Epoch 82/100\n",
      "218/218 [==============================] - 94s 428ms/step - loss: 0.0544 - accuracy: 0.9807 - val_loss: 0.1647 - val_accuracy: 0.9520\n",
      "Epoch 83/100\n",
      "218/218 [==============================] - 93s 426ms/step - loss: 0.0845 - accuracy: 0.9716 - val_loss: 0.2051 - val_accuracy: 0.9417\n",
      "Epoch 84/100\n",
      "218/218 [==============================] - 88s 402ms/step - loss: 0.0617 - accuracy: 0.9800 - val_loss: 0.1578 - val_accuracy: 0.9553\n",
      "Epoch 85/100\n",
      "218/218 [==============================] - 94s 430ms/step - loss: 0.0555 - accuracy: 0.9800 - val_loss: 0.1724 - val_accuracy: 0.9413\n",
      "Epoch 86/100\n",
      "218/218 [==============================] - 90s 412ms/step - loss: 0.0536 - accuracy: 0.9836 - val_loss: 0.5189 - val_accuracy: 0.8723\n",
      "Epoch 87/100\n",
      "218/218 [==============================] - 93s 426ms/step - loss: 0.0868 - accuracy: 0.9706 - val_loss: 0.2218 - val_accuracy: 0.9407\n",
      "Epoch 88/100\n",
      "218/218 [==============================] - 93s 427ms/step - loss: 0.0600 - accuracy: 0.9813 - val_loss: 0.2084 - val_accuracy: 0.9470\n",
      "Epoch 89/100\n",
      "218/218 [==============================] - 93s 423ms/step - loss: 0.1043 - accuracy: 0.9674 - val_loss: 0.1938 - val_accuracy: 0.9397\n",
      "Epoch 90/100\n",
      "218/218 [==============================] - 90s 411ms/step - loss: 0.0806 - accuracy: 0.9700 - val_loss: 0.2503 - val_accuracy: 0.9300\n",
      "Epoch 91/100\n",
      "218/218 [==============================] - 93s 423ms/step - loss: 0.0583 - accuracy: 0.9797 - val_loss: 0.1350 - val_accuracy: 0.9603\n",
      "Epoch 92/100\n",
      "218/218 [==============================] - 92s 420ms/step - loss: 0.0361 - accuracy: 0.9886 - val_loss: 0.1535 - val_accuracy: 0.9553\n",
      "Epoch 93/100\n",
      "218/218 [==============================] - 92s 422ms/step - loss: 0.0764 - accuracy: 0.9747 - val_loss: 0.3631 - val_accuracy: 0.9020\n",
      "Epoch 94/100\n",
      "218/218 [==============================] - 93s 423ms/step - loss: 0.0657 - accuracy: 0.9774 - val_loss: 0.1514 - val_accuracy: 0.9540\n",
      "Epoch 95/100\n",
      "218/218 [==============================] - 92s 420ms/step - loss: 0.0546 - accuracy: 0.9827 - val_loss: 0.1934 - val_accuracy: 0.9480\n",
      "Epoch 96/100\n",
      "218/218 [==============================] - 95s 436ms/step - loss: 0.0627 - accuracy: 0.9791 - val_loss: 0.2425 - val_accuracy: 0.9337\n",
      "Epoch 97/100\n",
      "218/218 [==============================] - 95s 433ms/step - loss: 0.0833 - accuracy: 0.9719 - val_loss: 0.1637 - val_accuracy: 0.9530\n",
      "Epoch 98/100\n",
      "218/218 [==============================] - 93s 427ms/step - loss: 0.0331 - accuracy: 0.9884 - val_loss: 0.1632 - val_accuracy: 0.9530\n",
      "Epoch 99/100\n",
      "218/218 [==============================] - 91s 417ms/step - loss: 0.0500 - accuracy: 0.9824 - val_loss: 0.2712 - val_accuracy: 0.9383\n",
      "Epoch 100/100\n",
      "218/218 [==============================] - 93s 425ms/step - loss: 0.0805 - accuracy: 0.9714 - val_loss: 0.1826 - val_accuracy: 0.9513\n"
     ]
    }
   ],
   "source": [
    "history = cnn.fit(x = train_gen,\n",
    "                    callbacks = [es], \n",
    "                    steps_per_epoch = 7000/32,\n",
    "                    epochs = 100,\n",
    "                    validation_steps = 3000/32,\n",
    "                    validation_data = val_gen)  "
   ]
  },
  {
   "cell_type": "code",
   "execution_count": 14,
   "metadata": {},
   "outputs": [
    {
     "name": "stdout",
     "output_type": "stream",
     "text": [
      "18/32 [===============>..............] - ETA: 3s - loss: 0.4219 - accuracy: 0.9080"
     ]
    },
    {
     "ename": "UnknownError",
     "evalue": "Graph execution error:\n\nFileNotFoundError: [Errno 2] No such file or directory: 'data/tomato/val\\\\Tomato___Spider_mites Two-spotted_spider_mite\\\\Tomato___Spider_mites Two-spotted_spider_mite_original_00fa99e8-2605-4d72-be69-98277587d84b___Com.G_SpM_FL 1453.JPG_5a4912ea-1fce-46e0-a929-f5b66622fc78.JPG'\nTraceback (most recent call last):\n\n  File \"c:\\Users\\Javi\\anaconda3\\envs\\leaf\\lib\\site-packages\\tensorflow\\python\\ops\\script_ops.py\", line 271, in __call__\n    ret = func(*args)\n\n  File \"c:\\Users\\Javi\\anaconda3\\envs\\leaf\\lib\\site-packages\\tensorflow\\python\\autograph\\impl\\api.py\", line 642, in wrapper\n    return func(*args, **kwargs)\n\n  File \"c:\\Users\\Javi\\anaconda3\\envs\\leaf\\lib\\site-packages\\tensorflow\\python\\data\\ops\\dataset_ops.py\", line 1035, in generator_py_func\n    values = next(generator_state.get_iterator(iterator_id))\n\n  File \"c:\\Users\\Javi\\anaconda3\\envs\\leaf\\lib\\site-packages\\keras\\engine\\data_adapter.py\", line 903, in wrapped_generator\n    for data in generator_fn():\n\n  File \"c:\\Users\\Javi\\anaconda3\\envs\\leaf\\lib\\site-packages\\keras\\engine\\data_adapter.py\", line 1050, in generator_fn\n    yield x[i]\n\n  File \"c:\\Users\\Javi\\anaconda3\\envs\\leaf\\lib\\site-packages\\keras\\preprocessing\\image.py\", line 116, in __getitem__\n    return self._get_batches_of_transformed_samples(index_array)\n\n  File \"c:\\Users\\Javi\\anaconda3\\envs\\leaf\\lib\\site-packages\\keras\\preprocessing\\image.py\", line 370, in _get_batches_of_transformed_samples\n    img = image_utils.load_img(\n\n  File \"c:\\Users\\Javi\\anaconda3\\envs\\leaf\\lib\\site-packages\\keras\\utils\\image_utils.py\", line 422, in load_img\n    with open(path, \"rb\") as f:\n\nFileNotFoundError: [Errno 2] No such file or directory: 'data/tomato/val\\\\Tomato___Spider_mites Two-spotted_spider_mite\\\\Tomato___Spider_mites Two-spotted_spider_mite_original_00fa99e8-2605-4d72-be69-98277587d84b___Com.G_SpM_FL 1453.JPG_5a4912ea-1fce-46e0-a929-f5b66622fc78.JPG'\n\n\n\t [[{{node PyFunc}}]]\n\t [[IteratorGetNext]] [Op:__inference_test_function_2316]",
     "output_type": "error",
     "traceback": [
      "\u001b[1;31m---------------------------------------------------------------------------\u001b[0m",
      "\u001b[1;31mUnknownError\u001b[0m                              Traceback (most recent call last)",
      "Cell \u001b[1;32mIn[14], line 1\u001b[0m\n\u001b[1;32m----> 1\u001b[0m scores \u001b[38;5;241m=\u001b[39m \u001b[43mcnn\u001b[49m\u001b[38;5;241;43m.\u001b[39;49m\u001b[43mevaluate\u001b[49m\u001b[43m(\u001b[49m\u001b[43mtest_gen\u001b[49m\u001b[43m)\u001b[49m\n",
      "File \u001b[1;32mc:\\Users\\Javi\\anaconda3\\envs\\leaf\\lib\\site-packages\\keras\\utils\\traceback_utils.py:70\u001b[0m, in \u001b[0;36mfilter_traceback.<locals>.error_handler\u001b[1;34m(*args, **kwargs)\u001b[0m\n\u001b[0;32m     67\u001b[0m     filtered_tb \u001b[38;5;241m=\u001b[39m _process_traceback_frames(e\u001b[38;5;241m.\u001b[39m__traceback__)\n\u001b[0;32m     68\u001b[0m     \u001b[38;5;66;03m# To get the full stack trace, call:\u001b[39;00m\n\u001b[0;32m     69\u001b[0m     \u001b[38;5;66;03m# `tf.debugging.disable_traceback_filtering()`\u001b[39;00m\n\u001b[1;32m---> 70\u001b[0m     \u001b[38;5;28;01mraise\u001b[39;00m e\u001b[38;5;241m.\u001b[39mwith_traceback(filtered_tb) \u001b[38;5;28;01mfrom\u001b[39;00m \u001b[38;5;28;01mNone\u001b[39;00m\n\u001b[0;32m     71\u001b[0m \u001b[38;5;28;01mfinally\u001b[39;00m:\n\u001b[0;32m     72\u001b[0m     \u001b[38;5;28;01mdel\u001b[39;00m filtered_tb\n",
      "File \u001b[1;32mc:\\Users\\Javi\\anaconda3\\envs\\leaf\\lib\\site-packages\\tensorflow\\python\\eager\\execute.py:54\u001b[0m, in \u001b[0;36mquick_execute\u001b[1;34m(op_name, num_outputs, inputs, attrs, ctx, name)\u001b[0m\n\u001b[0;32m     52\u001b[0m \u001b[38;5;28;01mtry\u001b[39;00m:\n\u001b[0;32m     53\u001b[0m   ctx\u001b[38;5;241m.\u001b[39mensure_initialized()\n\u001b[1;32m---> 54\u001b[0m   tensors \u001b[38;5;241m=\u001b[39m pywrap_tfe\u001b[38;5;241m.\u001b[39mTFE_Py_Execute(ctx\u001b[38;5;241m.\u001b[39m_handle, device_name, op_name,\n\u001b[0;32m     55\u001b[0m                                       inputs, attrs, num_outputs)\n\u001b[0;32m     56\u001b[0m \u001b[38;5;28;01mexcept\u001b[39;00m core\u001b[38;5;241m.\u001b[39m_NotOkStatusException \u001b[38;5;28;01mas\u001b[39;00m e:\n\u001b[0;32m     57\u001b[0m   \u001b[38;5;28;01mif\u001b[39;00m name \u001b[38;5;129;01mis\u001b[39;00m \u001b[38;5;129;01mnot\u001b[39;00m \u001b[38;5;28;01mNone\u001b[39;00m:\n",
      "\u001b[1;31mUnknownError\u001b[0m: Graph execution error:\n\nFileNotFoundError: [Errno 2] No such file or directory: 'data/tomato/val\\\\Tomato___Spider_mites Two-spotted_spider_mite\\\\Tomato___Spider_mites Two-spotted_spider_mite_original_00fa99e8-2605-4d72-be69-98277587d84b___Com.G_SpM_FL 1453.JPG_5a4912ea-1fce-46e0-a929-f5b66622fc78.JPG'\nTraceback (most recent call last):\n\n  File \"c:\\Users\\Javi\\anaconda3\\envs\\leaf\\lib\\site-packages\\tensorflow\\python\\ops\\script_ops.py\", line 271, in __call__\n    ret = func(*args)\n\n  File \"c:\\Users\\Javi\\anaconda3\\envs\\leaf\\lib\\site-packages\\tensorflow\\python\\autograph\\impl\\api.py\", line 642, in wrapper\n    return func(*args, **kwargs)\n\n  File \"c:\\Users\\Javi\\anaconda3\\envs\\leaf\\lib\\site-packages\\tensorflow\\python\\data\\ops\\dataset_ops.py\", line 1035, in generator_py_func\n    values = next(generator_state.get_iterator(iterator_id))\n\n  File \"c:\\Users\\Javi\\anaconda3\\envs\\leaf\\lib\\site-packages\\keras\\engine\\data_adapter.py\", line 903, in wrapped_generator\n    for data in generator_fn():\n\n  File \"c:\\Users\\Javi\\anaconda3\\envs\\leaf\\lib\\site-packages\\keras\\engine\\data_adapter.py\", line 1050, in generator_fn\n    yield x[i]\n\n  File \"c:\\Users\\Javi\\anaconda3\\envs\\leaf\\lib\\site-packages\\keras\\preprocessing\\image.py\", line 116, in __getitem__\n    return self._get_batches_of_transformed_samples(index_array)\n\n  File \"c:\\Users\\Javi\\anaconda3\\envs\\leaf\\lib\\site-packages\\keras\\preprocessing\\image.py\", line 370, in _get_batches_of_transformed_samples\n    img = image_utils.load_img(\n\n  File \"c:\\Users\\Javi\\anaconda3\\envs\\leaf\\lib\\site-packages\\keras\\utils\\image_utils.py\", line 422, in load_img\n    with open(path, \"rb\") as f:\n\nFileNotFoundError: [Errno 2] No such file or directory: 'data/tomato/val\\\\Tomato___Spider_mites Two-spotted_spider_mite\\\\Tomato___Spider_mites Two-spotted_spider_mite_original_00fa99e8-2605-4d72-be69-98277587d84b___Com.G_SpM_FL 1453.JPG_5a4912ea-1fce-46e0-a929-f5b66622fc78.JPG'\n\n\n\t [[{{node PyFunc}}]]\n\t [[IteratorGetNext]] [Op:__inference_test_function_2316]"
     ]
    }
   ],
   "source": [
    "scores = cnn.evaluate(test_gen)"
   ]
  },
  {
   "cell_type": "code",
   "execution_count": 15,
   "metadata": {},
   "outputs": [
    {
     "data": {
      "image/png": "[encoded data removed]",
      "text/plain": [
       "<Figure size 640x480 with 1 Axes>"
      ]
     },
     "metadata": {},
     "output_type": "display_data"
    },
    {
     "data": {
      "image/png": "[encoded data removed]",
      "text/plain": [
       "<Figure size 640x480 with 1 Axes>"
      ]
     },
     "metadata": {},
     "output_type": "display_data"
    }
   ],
   "source": [
    "# plot the loss\n",
    "plt.plot(history.history['loss'], label='Training loss')\n",
    "plt.plot(history.history['val_loss'], label='Validation loss')\n",
    "plt.legend()\n",
    "plt.show()\n",
    "\n",
    "# plot the accuracy\n",
    "plt.plot(history.history['accuracy'], label='Training accuracy')\n",
    "plt.plot(history.history['val_accuracy'], label='Validation accuracy')\n",
    "plt.legend()\n",
    "plt.show()"
   ]
  },
  {
   "cell_type": "code",
   "execution_count": 16,
   "metadata": {},
   "outputs": [],
   "source": [
    "# don't forget to save your model for later\n",
    "cnn.save('cnn.h5')"
   ]
  },
  {
   "cell_type": "markdown",
   "metadata": {},
   "source": [
    "Making predictions, confusion matrix, metrics."
   ]
  },
  {
   "cell_type": "code",
   "execution_count": 17,
   "metadata": {},
   "outputs": [
    {
     "name": "stderr",
     "output_type": "stream",
     "text": [
      "C:\\Users\\Javi\\AppData\\Local\\Temp\\ipykernel_10580\\2245222372.py:1: DeprecationWarning: `np.math` is a deprecated alias for the standard library `math` module (Deprecated Numpy 1.25). Replace usages of `np.math` with `math`\n",
      "  test_steps_per_epoch = np.math.ceil(test_gen.samples / test_gen.batch_size)\n"
     ]
    }
   ],
   "source": [
    "test_steps_per_epoch = np.math.ceil(test_gen.samples / test_gen.batch_size)"
   ]
  },
  {
   "cell_type": "code",
   "execution_count": 18,
   "metadata": {},
   "outputs": [
    {
     "name": "stdout",
     "output_type": "stream",
     "text": [
      "18/32 [===============>..............] - ETA: 3s"
     ]
    },
    {
     "ename": "UnknownError",
     "evalue": "Graph execution error:\n\nFileNotFoundError: [Errno 2] No such file or directory: 'data/tomato/val\\\\Tomato___Spider_mites Two-spotted_spider_mite\\\\Tomato___Spider_mites Two-spotted_spider_mite_original_00fa99e8-2605-4d72-be69-98277587d84b___Com.G_SpM_FL 1453.JPG_5a4912ea-1fce-46e0-a929-f5b66622fc78.JPG'\nTraceback (most recent call last):\n\n  File \"c:\\Users\\Javi\\anaconda3\\envs\\leaf\\lib\\site-packages\\tensorflow\\python\\ops\\script_ops.py\", line 271, in __call__\n    ret = func(*args)\n\n  File \"c:\\Users\\Javi\\anaconda3\\envs\\leaf\\lib\\site-packages\\tensorflow\\python\\autograph\\impl\\api.py\", line 642, in wrapper\n    return func(*args, **kwargs)\n\n  File \"c:\\Users\\Javi\\anaconda3\\envs\\leaf\\lib\\site-packages\\tensorflow\\python\\data\\ops\\dataset_ops.py\", line 1035, in generator_py_func\n    values = next(generator_state.get_iterator(iterator_id))\n\n  File \"c:\\Users\\Javi\\anaconda3\\envs\\leaf\\lib\\site-packages\\keras\\engine\\data_adapter.py\", line 903, in wrapped_generator\n    for data in generator_fn():\n\n  File \"c:\\Users\\Javi\\anaconda3\\envs\\leaf\\lib\\site-packages\\keras\\engine\\data_adapter.py\", line 1050, in generator_fn\n    yield x[i]\n\n  File \"c:\\Users\\Javi\\anaconda3\\envs\\leaf\\lib\\site-packages\\keras\\preprocessing\\image.py\", line 116, in __getitem__\n    return self._get_batches_of_transformed_samples(index_array)\n\n  File \"c:\\Users\\Javi\\anaconda3\\envs\\leaf\\lib\\site-packages\\keras\\preprocessing\\image.py\", line 370, in _get_batches_of_transformed_samples\n    img = image_utils.load_img(\n\n  File \"c:\\Users\\Javi\\anaconda3\\envs\\leaf\\lib\\site-packages\\keras\\utils\\image_utils.py\", line 422, in load_img\n    with open(path, \"rb\") as f:\n\nFileNotFoundError: [Errno 2] No such file or directory: 'data/tomato/val\\\\Tomato___Spider_mites Two-spotted_spider_mite\\\\Tomato___Spider_mites Two-spotted_spider_mite_original_00fa99e8-2605-4d72-be69-98277587d84b___Com.G_SpM_FL 1453.JPG_5a4912ea-1fce-46e0-a929-f5b66622fc78.JPG'\n\n\n\t [[{{node PyFunc}}]]\n\t [[IteratorGetNext]] [Op:__inference_predict_function_129479]",
     "output_type": "error",
     "traceback": [
      "\u001b[1;31m---------------------------------------------------------------------------\u001b[0m",
      "\u001b[1;31mUnknownError\u001b[0m                              Traceback (most recent call last)",
      "Cell \u001b[1;32mIn[18], line 2\u001b[0m\n\u001b[0;32m      1\u001b[0m \u001b[38;5;66;03m# Predict classes\u001b[39;00m\n\u001b[1;32m----> 2\u001b[0m predictions \u001b[38;5;241m=\u001b[39m \u001b[43mcnn\u001b[49m\u001b[38;5;241;43m.\u001b[39;49m\u001b[43mpredict\u001b[49m\u001b[43m(\u001b[49m\u001b[43mtest_gen\u001b[49m\u001b[43m,\u001b[49m\u001b[43m \u001b[49m\u001b[43msteps\u001b[49m\u001b[38;5;241;43m=\u001b[39;49m\u001b[43mtest_steps_per_epoch\u001b[49m\u001b[43m)\u001b[49m\n",
      "File \u001b[1;32mc:\\Users\\Javi\\anaconda3\\envs\\leaf\\lib\\site-packages\\keras\\utils\\traceback_utils.py:70\u001b[0m, in \u001b[0;36mfilter_traceback.<locals>.error_handler\u001b[1;34m(*args, **kwargs)\u001b[0m\n\u001b[0;32m     67\u001b[0m     filtered_tb \u001b[38;5;241m=\u001b[39m _process_traceback_frames(e\u001b[38;5;241m.\u001b[39m__traceback__)\n\u001b[0;32m     68\u001b[0m     \u001b[38;5;66;03m# To get the full stack trace, call:\u001b[39;00m\n\u001b[0;32m     69\u001b[0m     \u001b[38;5;66;03m# `tf.debugging.disable_traceback_filtering()`\u001b[39;00m\n\u001b[1;32m---> 70\u001b[0m     \u001b[38;5;28;01mraise\u001b[39;00m e\u001b[38;5;241m.\u001b[39mwith_traceback(filtered_tb) \u001b[38;5;28;01mfrom\u001b[39;00m \u001b[38;5;28;01mNone\u001b[39;00m\n\u001b[0;32m     71\u001b[0m \u001b[38;5;28;01mfinally\u001b[39;00m:\n\u001b[0;32m     72\u001b[0m     \u001b[38;5;28;01mdel\u001b[39;00m filtered_tb\n",
      "File \u001b[1;32mc:\\Users\\Javi\\anaconda3\\envs\\leaf\\lib\\site-packages\\tensorflow\\python\\eager\\execute.py:54\u001b[0m, in \u001b[0;36mquick_execute\u001b[1;34m(op_name, num_outputs, inputs, attrs, ctx, name)\u001b[0m\n\u001b[0;32m     52\u001b[0m \u001b[38;5;28;01mtry\u001b[39;00m:\n\u001b[0;32m     53\u001b[0m   ctx\u001b[38;5;241m.\u001b[39mensure_initialized()\n\u001b[1;32m---> 54\u001b[0m   tensors \u001b[38;5;241m=\u001b[39m pywrap_tfe\u001b[38;5;241m.\u001b[39mTFE_Py_Execute(ctx\u001b[38;5;241m.\u001b[39m_handle, device_name, op_name,\n\u001b[0;32m     55\u001b[0m                                       inputs, attrs, num_outputs)\n\u001b[0;32m     56\u001b[0m \u001b[38;5;28;01mexcept\u001b[39;00m core\u001b[38;5;241m.\u001b[39m_NotOkStatusException \u001b[38;5;28;01mas\u001b[39;00m e:\n\u001b[0;32m     57\u001b[0m   \u001b[38;5;28;01mif\u001b[39;00m name \u001b[38;5;129;01mis\u001b[39;00m \u001b[38;5;129;01mnot\u001b[39;00m \u001b[38;5;28;01mNone\u001b[39;00m:\n",
      "\u001b[1;31mUnknownError\u001b[0m: Graph execution error:\n\nFileNotFoundError: [Errno 2] No such file or directory: 'data/tomato/val\\\\Tomato___Spider_mites Two-spotted_spider_mite\\\\Tomato___Spider_mites Two-spotted_spider_mite_original_00fa99e8-2605-4d72-be69-98277587d84b___Com.G_SpM_FL 1453.JPG_5a4912ea-1fce-46e0-a929-f5b66622fc78.JPG'\nTraceback (most recent call last):\n\n  File \"c:\\Users\\Javi\\anaconda3\\envs\\leaf\\lib\\site-packages\\tensorflow\\python\\ops\\script_ops.py\", line 271, in __call__\n    ret = func(*args)\n\n  File \"c:\\Users\\Javi\\anaconda3\\envs\\leaf\\lib\\site-packages\\tensorflow\\python\\autograph\\impl\\api.py\", line 642, in wrapper\n    return func(*args, **kwargs)\n\n  File \"c:\\Users\\Javi\\anaconda3\\envs\\leaf\\lib\\site-packages\\tensorflow\\python\\data\\ops\\dataset_ops.py\", line 1035, in generator_py_func\n    values = next(generator_state.get_iterator(iterator_id))\n\n  File \"c:\\Users\\Javi\\anaconda3\\envs\\leaf\\lib\\site-packages\\keras\\engine\\data_adapter.py\", line 903, in wrapped_generator\n    for data in generator_fn():\n\n  File \"c:\\Users\\Javi\\anaconda3\\envs\\leaf\\lib\\site-packages\\keras\\engine\\data_adapter.py\", line 1050, in generator_fn\n    yield x[i]\n\n  File \"c:\\Users\\Javi\\anaconda3\\envs\\leaf\\lib\\site-packages\\keras\\preprocessing\\image.py\", line 116, in __getitem__\n    return self._get_batches_of_transformed_samples(index_array)\n\n  File \"c:\\Users\\Javi\\anaconda3\\envs\\leaf\\lib\\site-packages\\keras\\preprocessing\\image.py\", line 370, in _get_batches_of_transformed_samples\n    img = image_utils.load_img(\n\n  File \"c:\\Users\\Javi\\anaconda3\\envs\\leaf\\lib\\site-packages\\keras\\utils\\image_utils.py\", line 422, in load_img\n    with open(path, \"rb\") as f:\n\nFileNotFoundError: [Errno 2] No such file or directory: 'data/tomato/val\\\\Tomato___Spider_mites Two-spotted_spider_mite\\\\Tomato___Spider_mites Two-spotted_spider_mite_original_00fa99e8-2605-4d72-be69-98277587d84b___Com.G_SpM_FL 1453.JPG_5a4912ea-1fce-46e0-a929-f5b66622fc78.JPG'\n\n\n\t [[{{node PyFunc}}]]\n\t [[IteratorGetNext]] [Op:__inference_predict_function_129479]"
     ]
    }
   ],
   "source": [
    "# Predict classes\n",
    "predictions = cnn.predict(test_gen, steps=test_steps_per_epoch)"
   ]
  },
  {
   "cell_type": "code",
   "execution_count": 19,
   "metadata": {},
   "outputs": [
    {
     "ename": "NameError",
     "evalue": "name 'predictions' is not defined",
     "output_type": "error",
     "traceback": [
      "\u001b[1;31m---------------------------------------------------------------------------\u001b[0m",
      "\u001b[1;31mNameError\u001b[0m                                 Traceback (most recent call last)",
      "Cell \u001b[1;32mIn[19], line 1\u001b[0m\n\u001b[1;32m----> 1\u001b[0m \u001b[43mpredictions\u001b[49m[\u001b[38;5;241m1\u001b[39m]\n",
      "\u001b[1;31mNameError\u001b[0m: name 'predictions' is not defined"
     ]
    }
   ],
   "source": [
    "predictions[1]"
   ]
  },
  {
   "cell_type": "code",
   "execution_count": 20,
   "metadata": {},
   "outputs": [
    {
     "ename": "NameError",
     "evalue": "name 'predictions' is not defined",
     "output_type": "error",
     "traceback": [
      "\u001b[1;31m---------------------------------------------------------------------------\u001b[0m",
      "\u001b[1;31mNameError\u001b[0m                                 Traceback (most recent call last)",
      "Cell \u001b[1;32mIn[20], line 1\u001b[0m\n\u001b[1;32m----> 1\u001b[0m predicted_classes \u001b[38;5;241m=\u001b[39m np\u001b[38;5;241m.\u001b[39margmax(\u001b[43mpredictions\u001b[49m,axis\u001b[38;5;241m=\u001b[39m\u001b[38;5;241m1\u001b[39m)\n",
      "\u001b[1;31mNameError\u001b[0m: name 'predictions' is not defined"
     ]
    }
   ],
   "source": [
    "predicted_classes = np.argmax(predictions,axis=1)"
   ]
  },
  {
   "cell_type": "code",
   "execution_count": 21,
   "metadata": {},
   "outputs": [],
   "source": [
    "# Get ground-truth classes and class-labels\n",
    "true_classes = test_gen.classes\n",
    "class_labels = list(test_gen.class_indices.keys())"
   ]
  },
  {
   "cell_type": "code",
   "execution_count": 22,
   "metadata": {},
   "outputs": [
    {
     "ename": "NameError",
     "evalue": "name 'predicted_classes' is not defined",
     "output_type": "error",
     "traceback": [
      "\u001b[1;31m---------------------------------------------------------------------------\u001b[0m",
      "\u001b[1;31mNameError\u001b[0m                                 Traceback (most recent call last)",
      "Cell \u001b[1;32mIn[22], line 2\u001b[0m\n\u001b[0;32m      1\u001b[0m \u001b[38;5;66;03m# Print confusion matrix\u001b[39;00m\n\u001b[1;32m----> 2\u001b[0m confusion_matrix \u001b[38;5;241m=\u001b[39m confusion_matrix(test_gen\u001b[38;5;241m.\u001b[39mclasses, \u001b[43mpredicted_classes\u001b[49m)\n\u001b[0;32m      3\u001b[0m \u001b[38;5;28mprint\u001b[39m(confusion_matrix)\n",
      "\u001b[1;31mNameError\u001b[0m: name 'predicted_classes' is not defined"
     ]
    }
   ],
   "source": [
    "# Print confusion matrix\n",
    "confusion_matrix = confusion_matrix(test_gen.classes, predicted_classes)\n",
    "print(confusion_matrix)"
   ]
  },
  {
   "cell_type": "code",
   "execution_count": 23,
   "metadata": {},
   "outputs": [
    {
     "ename": "NameError",
     "evalue": "name 'predicted_classes' is not defined",
     "output_type": "error",
     "traceback": [
      "\u001b[1;31m---------------------------------------------------------------------------\u001b[0m",
      "\u001b[1;31mNameError\u001b[0m                                 Traceback (most recent call last)",
      "Cell \u001b[1;32mIn[23], line 2\u001b[0m\n\u001b[0;32m      1\u001b[0m \u001b[38;5;66;03m# To check F1 score, recall etc.\u001b[39;00m\n\u001b[1;32m----> 2\u001b[0m report \u001b[38;5;241m=\u001b[39m classification_report(true_classes, \u001b[43mpredicted_classes\u001b[49m, target_names\u001b[38;5;241m=\u001b[39mclass_labels)\n\u001b[0;32m      3\u001b[0m \u001b[38;5;28mprint\u001b[39m(report)\n",
      "\u001b[1;31mNameError\u001b[0m: name 'predicted_classes' is not defined"
     ]
    }
   ],
   "source": [
    "# To check F1 score, recall etc.\n",
    "report = classification_report(true_classes, predicted_classes, target_names=class_labels)\n",
    "print(report)"
   ]
  }
 ],
 "metadata": {
  "kernelspec": {
   "display_name": "leaf",
   "language": "python",
   "name": "python3"
  },
  "language_info": {
   "codemirror_mode": {
    "name": "ipython",
    "version": 3
   },
   "file_extension": ".py",
   "mimetype": "text/x-python",
   "name": "python",
   "nbconvert_exporter": "python",
   "pygments_lexer": "ipython3",
   "version": "3.10.13"
  }
 },
 "nbformat": 4,
 "nbformat_minor": 2
}
