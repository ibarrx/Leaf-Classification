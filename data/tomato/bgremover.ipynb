{
 "cells": [
  {
   "cell_type": "markdown",
   "metadata": {},
   "source": [
    "This file is to make a copy of the ./train and ./val directories but with the backgrounds removed."
   ]
  },
  {
   "cell_type": "code",
   "execution_count": null,
   "metadata": {},
   "outputs": [],
   "source": [
    "#import stuff\n",
    "from rembg import remove\n",
    "import numpy as np\n",
    "import cv2\n",
    "import os"
   ]
  },
  {
   "cell_type": "code",
   "execution_count": null,
   "metadata": {},
   "outputs": [],
   "source": [
    "# load ./train and ./val directories\n",
    "train_dir = './train'\n",
    "val_dir = './val'\n",
    "\n",
    "# train -> classes -> images\n",
    "train_classes = os.listdir(train_dir)\n",
    "val_classes = os.listdir(val_dir)\n",
    "\n",
    "# create a new directory for the processed images\n",
    "train_output_dir = './train_output'\n",
    "val_output_dir = './val_output'\n",
    "\n",
    "# create the directories\n",
    "os.makedirs(train_output_dir, exist_ok=True)\n",
    "os.makedirs(val_output_dir, exist_ok=True)\n",
    "\n",
    "# loop through the classes\n",
    "for class_name in train_classes:\n",
    "    # create the output directory\n",
    "    os.makedirs(os.path.join(train_output_dir, class_name), exist_ok=True)\n",
    "    # loop through the images\n",
    "    for image_name in os.listdir(os.path.join(train_dir, class_name)):\n",
    "        # read the image\n",
    "        image = cv2.imread(os.path.join(train_dir, class_name, image_name))\n",
    "        # remove the background\n",
    "        result = remove(image, alpha_matting=True)\n",
    "        print(\"image processed: \", image_name, \" in class: \", class_name, \" in train set.\")\n",
    "        # save the image\n",
    "        cv2.imwrite(os.path.join(train_output_dir, class_name, image_name), result)\n",
    "\n",
    "# loop through the classes\n",
    "for class_name in val_classes:\n",
    "    # create the output directory\n",
    "    os.makedirs(os.path.join(val_output_dir, class_name), exist_ok=True)\n",
    "    # loop through the images\n",
    "    for image_name in os.listdir(os.path.join(val_dir, class_name)):\n",
    "        # read the image\n",
    "        image = cv2.imread(os.path.join(val_dir, class_name, image_name))\n",
    "        # remove the background\n",
    "        result = remove(image, alpha_matting=True)\n",
    "        print(\"image processed: \", image_name, \" in class: \", class_name, \" in train set.\")\n",
    "        # save the image\n",
    "        cv2.imwrite(os.path.join(val_output_dir, class_name, image_name), result)\n",
    "\n",
    "# done\n",
    "print('done')\n"
   ]
  }
 ],
 "metadata": {
  "kernelspec": {
   "display_name": "leaf_39",
   "language": "python",
   "name": "python3"
  },
  "language_info": {
   "name": "python",
   "version": "3.9.19"
  }
 },
 "nbformat": 4,
 "nbformat_minor": 2
}
