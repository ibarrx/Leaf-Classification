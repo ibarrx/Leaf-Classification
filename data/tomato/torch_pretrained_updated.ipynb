{
 "cells": [
  {
   "cell_type": "code",
   "execution_count": 1,
   "id": "e2c35944",
   "metadata": {},
   "outputs": [
    {
     "name": "stderr",
     "output_type": "stream",
     "text": [
      "c:\\Users\\andre\\anaconda3\\envs\\leaf_cse120_20240303\\lib\\site-packages\\torchvision\\io\\image.py:13: UserWarning: Failed to load image Python extension: '[WinError 127] The specified procedure could not be found'If you don't plan on using image functionality from `torchvision.io`, you can ignore this warning. Otherwise, there might be something wrong with your environment. Did you have `libjpeg` or `libpng` installed before building `torchvision` from source?\n",
      "  warn(\n"
     ]
    }
   ],
   "source": [
    "# import librarires\n",
    "import torch\n",
    "import torch.nn as nn\n",
    "from torch.autograd import Variable\n",
    "from torch.utils.data import Dataset\n",
    "from torchvision import datasets\n",
    "import torchvision.transforms as transforms\n",
    "import numpy as np\n",
    "import matplotlib.pyplot as plt\n",
    "from matplotlib.pyplot import figure\n",
    "import pickle\n",
    "from torchvision import models\n",
    "\n",
    "import os\n",
    "from custom_dataset import CustomDataset"
   ]
  },
  {
   "cell_type": "code",
   "execution_count": 2,
   "id": "d1497681",
   "metadata": {},
   "outputs": [],
   "source": [
    "def get_directories(path):\n",
    "    # Get list of all files and directories in the given path\n",
    "    contents = os.listdir(path)\n",
    "    \n",
    "    # Filter out only directories\n",
    "    directories = [content for content in contents if os.path.isdir(os.path.join(path, content))]\n",
    "    \n",
    "    return directories"
   ]
  },
  {
   "cell_type": "code",
   "execution_count": 3,
   "id": "840227f2",
   "metadata": {},
   "outputs": [],
   "source": [
    "CATEGORIES = get_directories('./train')"
   ]
  },
  {
   "cell_type": "code",
   "execution_count": 4,
   "id": "b17b1181",
   "metadata": {},
   "outputs": [],
   "source": [
    "device = torch.device(\"cuda\" if torch.cuda.is_available() else \"cpu\")"
   ]
  },
  {
   "cell_type": "code",
   "execution_count": 5,
   "id": "85280554",
   "metadata": {},
   "outputs": [],
   "source": [
    "train_data = pickle.load(open('./train_data.pickle', 'rb'))\n",
    "val_data = pickle.load(open('./val_data.pickle', 'rb'))"
   ]
  },
  {
   "cell_type": "code",
   "execution_count": 6,
   "id": "d14cf930",
   "metadata": {},
   "outputs": [],
   "source": [
    "new_train_data = CustomDataset(train_data)\n",
    "new_val_data = CustomDataset(val_data)"
   ]
  },
  {
   "cell_type": "code",
   "execution_count": null,
   "id": "5ad6500d",
   "metadata": {},
   "outputs": [],
   "source": []
  },
  {
   "cell_type": "code",
   "execution_count": null,
   "id": "7b25078b",
   "metadata": {},
   "outputs": [],
   "source": []
  },
  {
   "cell_type": "code",
   "execution_count": null,
   "id": "adb47529",
   "metadata": {},
   "outputs": [],
   "source": []
  },
  {
   "cell_type": "code",
   "execution_count": 7,
   "id": "b3a52ae3",
   "metadata": {},
   "outputs": [
    {
     "name": "stderr",
     "output_type": "stream",
     "text": [
      "c:\\Users\\andre\\anaconda3\\envs\\leaf_cse120_20240303\\lib\\site-packages\\torchvision\\models\\_utils.py:208: UserWarning: The parameter 'pretrained' is deprecated since 0.13 and may be removed in the future, please use 'weights' instead.\n",
      "  warnings.warn(\n",
      "c:\\Users\\andre\\anaconda3\\envs\\leaf_cse120_20240303\\lib\\site-packages\\torchvision\\models\\_utils.py:223: UserWarning: Arguments other than a weight enum or `None` for 'weights' are deprecated since 0.13 and may be removed in the future. The current behavior is equivalent to passing `weights=ResNet18_Weights.IMAGENET1K_V1`. You can also use `weights=ResNet18_Weights.DEFAULT` to get the most up-to-date weights.\n",
      "  warnings.warn(msg)\n"
     ]
    },
    {
     "name": "stdout",
     "output_type": "stream",
     "text": [
      "512\n"
     ]
    }
   ],
   "source": [
    "cnn = models.resnet18(pretrained = True)\n",
    "# weight\n",
    "num_ftrs = cnn.fc.in_features # 512\n",
    "print(num_ftrs)\n",
    "\n",
    "cnn.fc= nn.Linear(num_ftrs,len(CATEGORIES)) ## ??\n",
    "cnn.to(device)\n",
    "num_epochs = 3"
   ]
  },
  {
   "cell_type": "code",
   "execution_count": 8,
   "id": "5d194b90",
   "metadata": {},
   "outputs": [],
   "source": [
    "# Define your loss function and optimizer\n",
    "criterion = nn.CrossEntropyLoss()\n",
    "optimizer = torch.optim.SGD(cnn.parameters(), lr=0.001, momentum=0.9)\n",
    "\n",
    "\n",
    "\n",
    "\n",
    "# Define your data loaders\n",
    "train_loader = torch.utils.data.DataLoader(new_train_data, batch_size=64, shuffle=True)\n",
    "val_loader = torch.utils.data.DataLoader(new_val_data, batch_size=64, shuffle=False)\n",
    "\n"
   ]
  },
  {
   "cell_type": "code",
   "execution_count": 9,
   "id": "b6e52bbe",
   "metadata": {},
   "outputs": [
    {
     "name": "stdout",
     "output_type": "stream",
     "text": [
      "Epoch 1/3\n",
      "Epoch 1 - Average Loss: 2.613, Accuracy: 0.00%\n",
      "Epoch 2/3\n",
      "Epoch 2 - Average Loss: 2.439, Accuracy: 0.00%\n",
      "Epoch 3/3\n",
      "Epoch 3 - Average Loss: 2.131, Accuracy: 0.00%\n"
     ]
    }
   ],
   "source": [
    "# Train the model\n",
    "cnn.train()\n",
    "for epoch in range(num_epochs):\n",
    "    running_loss = 0.0\n",
    "    correct = 0\n",
    "    total = 0\n",
    "    \n",
    "    # Print current epoch\n",
    "    print(f\"Epoch {epoch+1}/{num_epochs}\")\n",
    "    \n",
    "    # Iterate over the training dataset\n",
    "    for i, (inputs, labels) in enumerate(train_loader, 1):\n",
    "        # Move data to the appropriate device (GPU if available)\n",
    "        inputs, labels = inputs.to(device), labels.to(device)\n",
    "        \n",
    "        optimizer.zero_grad()\n",
    "        # inputs = inputs.float() / 255.0  # Convert inputs to float format\n",
    "        outputs = cnn(inputs)\n",
    "        loss = criterion(outputs, labels)\n",
    "        loss.backward()\n",
    "        optimizer.step()\n",
    "\n",
    "        running_loss += loss.item()\n",
    "        _, predicted = outputs.max(1)\n",
    "        total += labels.size(0)\n",
    "        correct += predicted.eq(labels).sum().item()\n",
    "        \n",
    "        # Print progress every 100 mini-batches\n",
    "        if i % 100 == 0:\n",
    "            print(f\"Mini-batch {i}/{len(train_loader)}, Loss: {loss.item():.3f}, Accuracy: {(100*correct/total):.2f}%\")\n",
    "\n",
    "    # Print average loss and accuracy for the epoch\n",
    "    print(f\"Epoch {epoch+1} - Average Loss: {running_loss/len(train_loader):.3f}, Accuracy: {(100*correct/total):.2f}%\")\n"
   ]
  },
  {
   "cell_type": "code",
   "execution_count": 10,
   "id": "a021275d",
   "metadata": {},
   "outputs": [
    {
     "name": "stdout",
     "output_type": "stream",
     "text": [
      "Validation Accuracy: 0.00%\n"
     ]
    }
   ],
   "source": [
    "\n",
    "\n",
    "# Validate the model\n",
    "cnn.eval()\n",
    "val_correct = 0\n",
    "val_total = 0\n",
    "with torch.no_grad():\n",
    "    for inputs, labels in val_loader:\n",
    "        # inputs = inputs.float() / 255.0\n",
    "        inputs, labels = inputs.to(device), labels.to(device)\n",
    "        outputs = cnn(inputs)\n",
    "        _, predicted = outputs.max(1)\n",
    "        val_total += labels.size(0)\n",
    "        val_correct += predicted.eq(labels).sum().item()\n",
    "\n",
    "print(f\"Validation Accuracy: {(100*val_correct/val_total):.2f}%\")\n"
   ]
  },
  {
   "cell_type": "code",
   "execution_count": 11,
   "id": "7e4d8d5d",
   "metadata": {},
   "outputs": [],
   "source": [
    "# def compute_confusion_matrix(model, loader):\n",
    "#     model.eval()\n",
    "    \n",
    "#     all_predicted = []\n",
    "#     all_labels = []\n",
    "\n",
    "#     with torch.no_grad():\n",
    "#         for images, labels in loader:\n",
    "#             images = images.float() / 255.0  # Normalize images\n",
    "#             labels = labels.long()  # Convert labels to the appropriate data type\n",
    "            \n",
    "#             outputs, _ = model(images)\n",
    "#             _, predicted = torch.max(outputs.data, 1)\n",
    "            \n",
    "#             # Collect predicted labels and true labels for confusion matrix\n",
    "#             all_predicted.extend(predicted.cpu().numpy())\n",
    "#             all_labels.extend(labels.cpu().numpy())\n",
    "    \n",
    "#     cm = confusion_matrix(all_labels, all_predicted)\n",
    "    \n",
    "#     return cm"
   ]
  },
  {
   "cell_type": "code",
   "execution_count": null,
   "id": "8d0d83e6",
   "metadata": {},
   "outputs": [],
   "source": []
  },
  {
   "cell_type": "code",
   "execution_count": null,
   "id": "c98a06c4",
   "metadata": {},
   "outputs": [],
   "source": []
  },
  {
   "cell_type": "code",
   "execution_count": null,
   "id": "095027c1",
   "metadata": {},
   "outputs": [],
   "source": []
  },
  {
   "cell_type": "code",
   "execution_count": null,
   "id": "c32d6085",
   "metadata": {},
   "outputs": [],
   "source": []
  },
  {
   "cell_type": "code",
   "execution_count": 12,
   "id": "707fff19",
   "metadata": {
    "scrolled": true
   },
   "outputs": [],
   "source": [
    "# # training and validating\n",
    "# num_epochs = 3\n",
    "\n",
    "# train_acc_data = []\n",
    "# loss_data = []\n",
    "# val_acc_data = []\n",
    "# val_loss_data = []\n",
    "# epochs_arr = []\n",
    "\n",
    "# train(num_epochs, cnn, loaders, device)"
   ]
  },
  {
   "cell_type": "code",
   "execution_count": 13,
   "id": "efd5986a",
   "metadata": {},
   "outputs": [
    {
     "ename": "NameError",
     "evalue": "name 'train_acc_data' is not defined",
     "output_type": "error",
     "traceback": [
      "\u001b[1;31m---------------------------------------------------------------------------\u001b[0m",
      "\u001b[1;31mNameError\u001b[0m                                 Traceback (most recent call last)",
      "Cell \u001b[1;32mIn[13], line 5\u001b[0m\n\u001b[0;32m      2\u001b[0m plt\u001b[38;5;241m.\u001b[39mfigure(figsize\u001b[38;5;241m=\u001b[39m(\u001b[38;5;241m10\u001b[39m,\u001b[38;5;241m5\u001b[39m))\n\u001b[0;32m      3\u001b[0m fig, axs \u001b[38;5;241m=\u001b[39m plt\u001b[38;5;241m.\u001b[39msubplots(\u001b[38;5;241m1\u001b[39m,\u001b[38;5;241m2\u001b[39m, figsize\u001b[38;5;241m=\u001b[39m(\u001b[38;5;241m15\u001b[39m, \u001b[38;5;241m5\u001b[39m), gridspec_kw\u001b[38;5;241m=\u001b[39m{\u001b[38;5;124m'\u001b[39m\u001b[38;5;124mwspace\u001b[39m\u001b[38;5;124m'\u001b[39m: \u001b[38;5;241m0.5\u001b[39m})\n\u001b[1;32m----> 5\u001b[0m axs[\u001b[38;5;241m0\u001b[39m]\u001b[38;5;241m.\u001b[39mplot(\u001b[43mtrain_acc_data\u001b[49m, label\u001b[38;5;241m=\u001b[39m\u001b[38;5;124m'\u001b[39m\u001b[38;5;124mTrain\u001b[39m\u001b[38;5;124m'\u001b[39m)\n\u001b[0;32m      6\u001b[0m axs[\u001b[38;5;241m0\u001b[39m]\u001b[38;5;241m.\u001b[39mplot(val_acc_data, label\u001b[38;5;241m=\u001b[39m\u001b[38;5;124m'\u001b[39m\u001b[38;5;124mVal\u001b[39m\u001b[38;5;124m'\u001b[39m)\n\u001b[0;32m      7\u001b[0m axs[\u001b[38;5;241m0\u001b[39m]\u001b[38;5;241m.\u001b[39mset_title(\u001b[38;5;124m'\u001b[39m\u001b[38;5;124mTrain vs Validation Accuracy\u001b[39m\u001b[38;5;124m'\u001b[39m)\n",
      "\u001b[1;31mNameError\u001b[0m: name 'train_acc_data' is not defined"
     ]
    },
    {
     "data": {
      "text/plain": [
       "<Figure size 1000x500 with 0 Axes>"
      ]
     },
     "metadata": {},
     "output_type": "display_data"
    },
    {
     "data": {
      "image/png": "[encoded data removed]",
      "text/plain": [
       "<Figure size 1500x500 with 2 Axes>"
      ]
     },
     "metadata": {},
     "output_type": "display_data"
    }
   ],
   "source": [
    "# performance analysis (loss, accuracy, cm)\n",
    "plt.figure(figsize=(10,5))\n",
    "fig, axs = plt.subplots(1,2, figsize=(15, 5), gridspec_kw={'wspace': 0.5})\n",
    "\n",
    "axs[0].plot(train_acc_data, label='Train')\n",
    "axs[0].plot(val_acc_data, label='Val')\n",
    "axs[0].set_title('Train vs Validation Accuracy')\n",
    "axs[0].set_xlabel('Epochs')\n",
    "axs[0].set_ylabel('Accuracy')\n",
    "axs[0].legend()\n",
    "\n",
    "\n",
    "axs[1].plot(loss_data, label='Train Loss')\n",
    "axs[1].plot(val_loss_data, label='Val Loss')\n",
    "axs[1].set_title('Train Loss')\n",
    "axs[1].set_xlabel('Epochs')\n",
    "axs[1].set_ylabel('Loss')\n",
    "axs[1].legend()\n",
    "\n",
    "plt.tight_layout()\n",
    "plt.show()"
   ]
  },
  {
   "cell_type": "code",
   "execution_count": null,
   "id": "58934919",
   "metadata": {},
   "outputs": [],
   "source": []
  }
 ],
 "metadata": {
  "kernelspec": {
   "display_name": "leaf_cse120",
   "language": "python",
   "name": "python3"
  },
  "language_info": {
   "codemirror_mode": {
    "name": "ipython",
    "version": 3
   },
   "file_extension": ".py",
   "mimetype": "text/x-python",
   "name": "python",
   "nbconvert_exporter": "python",
   "pygments_lexer": "ipython3",
   "version": "3.9.18"
  }
 },
 "nbformat": 4,
 "nbformat_minor": 5
}
