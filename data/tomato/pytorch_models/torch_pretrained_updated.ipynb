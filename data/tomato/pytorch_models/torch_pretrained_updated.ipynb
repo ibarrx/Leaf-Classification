{
 "cells": [
  {
   "cell_type": "code",
   "execution_count": null,
   "id": "e2c35944",
   "metadata": {},
   "outputs": [],
   "source": [
    "# import librarires\n",
    "import torch\n",
    "import torch.nn as nn\n",
    "from torch.autograd import Variable\n",
    "from torch.utils.data import Dataset\n",
    "from torchvision import datasets\n",
    "import torchvision.transforms as transforms\n",
    "import numpy as np\n",
    "import matplotlib.pyplot as plt\n",
    "from matplotlib.pyplot import figure\n",
    "import pickle\n",
    "from torchvision import models\n",
    "from sklearn.metrics import confusion_matrix\n",
    "import os\n",
    "from custom_dataset import CustomDataset"
   ]
  },
  {
   "cell_type": "code",
   "execution_count": null,
   "id": "d1497681",
   "metadata": {},
   "outputs": [],
   "source": [
    "def get_directories(path):\n",
    "    # Get list of all files and directories in the given path\n",
    "    contents = os.listdir(path)\n",
    "    \n",
    "    # Filter out only directories\n",
    "    directories = [content for content in contents if os.path.isdir(os.path.join(path, content))]\n",
    "    \n",
    "    return directories"
   ]
  },
  {
   "cell_type": "code",
   "execution_count": null,
   "id": "840227f2",
   "metadata": {},
   "outputs": [],
   "source": [
    "CATEGORIES = get_directories('./train')"
   ]
  },
  {
   "cell_type": "code",
   "execution_count": null,
   "id": "b17b1181",
   "metadata": {},
   "outputs": [],
   "source": [
    "device = torch.device(\"cuda\" if torch.cuda.is_available() else \"cpu\")"
   ]
  },
  {
   "cell_type": "code",
   "execution_count": null,
   "id": "85280554",
   "metadata": {},
   "outputs": [],
   "source": [
    "train_data = pickle.load(open('./train_data.pickle', 'rb'))\n",
    "val_data = pickle.load(open('./val_data.pickle', 'rb'))"
   ]
  },
  {
   "cell_type": "code",
   "execution_count": null,
   "id": "d14cf930",
   "metadata": {},
   "outputs": [],
   "source": [
    "new_train_data = CustomDataset(train_data)\n",
    "new_val_data = CustomDataset(val_data)"
   ]
  },
  {
   "cell_type": "code",
   "execution_count": 71,
   "id": "dafe86c6",
   "metadata": {},
   "outputs": [
    {
     "name": "stderr",
     "output_type": "stream",
     "text": [
      "c:\\Users\\andre\\anaconda3\\envs\\leaf_cse120\\lib\\site-packages\\torchvision\\models\\_utils.py:208: UserWarning: The parameter 'pretrained' is deprecated since 0.13 and may be removed in the future, please use 'weights' instead.\n",
      "  warnings.warn(\n",
      "c:\\Users\\andre\\anaconda3\\envs\\leaf_cse120\\lib\\site-packages\\torchvision\\models\\_utils.py:223: UserWarning: Arguments other than a weight enum or `None` for 'weights' are deprecated since 0.13 and may be removed in the future. The current behavior is equivalent to passing `weights=ResNet18_Weights.IMAGENET1K_V1`. You can also use `weights=ResNet18_Weights.DEFAULT` to get the most up-to-date weights.\n",
      "  warnings.warn(msg)\n"
     ]
    },
    {
     "name": "stdout",
     "output_type": "stream",
     "text": [
      "512\n"
     ]
    }
   ],
   "source": [
    "cnn = models.resnet18(pretrained = True)\n",
    "# weight\n",
    "num_ftrs = cnn.fc.in_features # 512\n",
    "print(num_ftrs)"
   ]
  },
  {
   "cell_type": "code",
   "execution_count": 72,
   "id": "5ee85b5d",
   "metadata": {},
   "outputs": [],
   "source": [
    "\n",
    "# Define your data loaders\n",
    "train_loader = torch.utils.data.DataLoader(new_train_data, batch_size=64, shuffle=True)\n",
    "val_loader = torch.utils.data.DataLoader(new_val_data, batch_size=64, shuffle=False)"
   ]
  },
  {
   "cell_type": "code",
   "execution_count": 107,
   "id": "62bf3bd1",
   "metadata": {},
   "outputs": [],
   "source": [
    "cnn.fc= nn.Linear(num_ftrs,len(CATEGORIES)) ## ??\n",
    "cnn.to(device)\n",
    "num_epochs = 25\n",
    "# Define your loss function and optimizer\n",
    "criterion = nn.CrossEntropyLoss()\n",
    "optimizer = torch.optim.SGD(cnn.parameters(), lr=0.0001, momentum=0.9)\n",
    "\n",
    "\n"
   ]
  },
  {
   "cell_type": "code",
   "execution_count": 108,
   "id": "396a7401",
   "metadata": {},
   "outputs": [],
   "source": [
    "classes = [\n",
    "    'Tomato___Bacterial_spot',\n",
    "    'Tomato___Early_blight',\n",
    "    'Tomato___healthy',\n",
    "    'Tomato___Late_blight',\n",
    "    'Tomato___Leaf_Mold',\n",
    "    'Tomato___Septoria_leaf_spot',\n",
    "    'Tomato___Spider_mites Two-spotted_spider_mite',\n",
    "    'Tomato___Target_Spot',\n",
    "    'Tomato___Tomato_mosaic_virus',\n",
    "    'Tomato___Tomato_Yellow_Leaf_Curl_Virus'\n",
    "]\n",
    "\n",
    "\n",
    "# Initialize lists to store training and validation losses\n",
    "\n",
    "train_losses = []\n",
    "val_losses = []\n",
    "conf_matrices = []\n"
   ]
  },
  {
   "cell_type": "code",
   "execution_count": 109,
   "id": "5d194b90",
   "metadata": {},
   "outputs": [
    {
     "name": "stdout",
     "output_type": "stream",
     "text": [
      "Epoch 1/25\n",
      "Epoch 1 - Average Loss: 2.393, Accuracy: 20.00%\n",
      "Validation Loss: 3.701\n",
      "Epoch 2/25\n",
      "Epoch 2 - Average Loss: 2.795, Accuracy: 10.00%\n",
      "Validation Loss: 3.651\n",
      "Epoch 3/25\n",
      "Epoch 3 - Average Loss: 2.468, Accuracy: 20.00%\n",
      "Validation Loss: 3.590\n",
      "Epoch 4/25\n",
      "Epoch 4 - Average Loss: 2.031, Accuracy: 30.00%\n",
      "Validation Loss: 3.581\n",
      "Epoch 5/25\n",
      "Epoch 5 - Average Loss: 1.693, Accuracy: 30.00%\n",
      "Validation Loss: 3.645\n",
      "Epoch 6/25\n",
      "Epoch 6 - Average Loss: 1.543, Accuracy: 40.00%\n",
      "Validation Loss: 3.784\n",
      "Epoch 7/25\n",
      "Epoch 7 - Average Loss: 1.493, Accuracy: 40.00%\n",
      "Validation Loss: 3.949\n",
      "Epoch 8/25\n",
      "Epoch 8 - Average Loss: 1.428, Accuracy: 50.00%\n",
      "Validation Loss: 4.101\n",
      "Epoch 9/25\n",
      "Epoch 9 - Average Loss: 1.318, Accuracy: 50.00%\n",
      "Validation Loss: 4.223\n",
      "Epoch 10/25\n",
      "Epoch 10 - Average Loss: 1.163, Accuracy: 50.00%\n",
      "Validation Loss: 4.306\n",
      "Epoch 11/25\n",
      "Epoch 11 - Average Loss: 0.988, Accuracy: 50.00%\n",
      "Validation Loss: 4.379\n",
      "Epoch 12/25\n",
      "Epoch 12 - Average Loss: 0.818, Accuracy: 70.00%\n",
      "Validation Loss: 4.452\n",
      "Epoch 13/25\n",
      "Epoch 13 - Average Loss: 0.680, Accuracy: 90.00%\n",
      "Validation Loss: 4.532\n",
      "Epoch 14/25\n",
      "Epoch 14 - Average Loss: 0.578, Accuracy: 100.00%\n",
      "Validation Loss: 4.626\n",
      "Epoch 15/25\n",
      "Epoch 15 - Average Loss: 0.510, Accuracy: 100.00%\n",
      "Validation Loss: 4.723\n",
      "Epoch 16/25\n",
      "Epoch 16 - Average Loss: 0.462, Accuracy: 100.00%\n",
      "Validation Loss: 4.832\n",
      "Epoch 17/25\n",
      "Epoch 17 - Average Loss: 0.418, Accuracy: 100.00%\n",
      "Validation Loss: 4.958\n",
      "Epoch 18/25\n",
      "Epoch 18 - Average Loss: 0.369, Accuracy: 100.00%\n",
      "Validation Loss: 5.110\n",
      "Epoch 19/25\n",
      "Epoch 19 - Average Loss: 0.315, Accuracy: 100.00%\n",
      "Validation Loss: 5.290\n",
      "Epoch 20/25\n",
      "Epoch 20 - Average Loss: 0.261, Accuracy: 100.00%\n",
      "Validation Loss: 5.500\n",
      "Epoch 21/25\n",
      "Epoch 21 - Average Loss: 0.214, Accuracy: 100.00%\n",
      "Validation Loss: 5.728\n",
      "Epoch 22/25\n",
      "Epoch 22 - Average Loss: 0.176, Accuracy: 100.00%\n",
      "Validation Loss: 5.967\n",
      "Epoch 23/25\n",
      "Epoch 23 - Average Loss: 0.146, Accuracy: 100.00%\n",
      "Validation Loss: 6.205\n",
      "Epoch 24/25\n",
      "Epoch 24 - Average Loss: 0.122, Accuracy: 100.00%\n",
      "Validation Loss: 6.430\n",
      "Epoch 25/25\n",
      "Epoch 25 - Average Loss: 0.104, Accuracy: 100.00%\n",
      "Validation Loss: 6.632\n"
     ]
    }
   ],
   "source": [
    "\n",
    "# Train the model\n",
    "cnn.train()\n",
    "for epoch in range(num_epochs):\n",
    "    running_loss = 0.0\n",
    "    correct = 0\n",
    "    total = 0\n",
    "    \n",
    "    # Print current epoch\n",
    "    print(f\"Epoch {epoch+1}/{num_epochs}\")\n",
    "    \n",
    "    # Iterate over the training dataset\n",
    "    for i, (inputs, labels) in enumerate(train_loader, 1):\n",
    "        # Move data to the appropriate device (GPU if available)\n",
    "        inputs, labels = inputs.to(device), labels.to(device)\n",
    "        \n",
    "        optimizer.zero_grad()\n",
    "        #inputs = inputs.float() / 255.0  # Convert inputs to float format\n",
    "        outputs = cnn(inputs)\n",
    "        loss = criterion(outputs, labels)\n",
    "        loss.backward()\n",
    "        optimizer.step()\n",
    "\n",
    "        running_loss += loss.item()\n",
    "        _, predicted = outputs.max(1)\n",
    "        total += labels.size(0)\n",
    "        correct += predicted.eq(labels).sum().item()\n",
    "        \n",
    "        # Print progress every 100 mini-batches\n",
    "        if i % 100 == 0:\n",
    "            print(f\"Mini-batch {i}/{len(train_loader)}, Loss: {loss.item():.3f}, Accuracy: {(100*correct/total):.2f}%\")\n",
    "\n",
    "    # Compute average training loss for the epoch\n",
    "    train_loss = running_loss / len(train_loader)\n",
    "    train_losses.append(train_loss)\n",
    "    \n",
    "    # Print average loss and accuracy for the epoch\n",
    "    print(f\"Epoch {epoch+1} - Average Loss: {train_loss:.3f}, Accuracy: {(100*correct/total):.2f}%\")\n",
    "\n",
    "    # Validate the model\n",
    "    cnn.eval()\n",
    "    val_running_loss = 0.0\n",
    "    val_correct = 0\n",
    "    val_total = 0\n",
    "    val_predicted = []\n",
    "    val_labels = []\n",
    "    with torch.no_grad():\n",
    "        for inputs, labels in val_loader:\n",
    "            #inputs = inputs.float() / 255.0\n",
    "            inputs, labels = inputs.to(device), labels.to(device)\n",
    "            outputs = cnn(inputs)\n",
    "            _, predicted = outputs.max(1)\n",
    "            val_total += labels.size(0)\n",
    "            val_correct += predicted.eq(labels).sum().item()\n",
    "            val_loss = criterion(outputs, labels)\n",
    "            val_running_loss += val_loss.item()\n",
    "            \n",
    "            # Append predictions and labels for confusion matrix\n",
    "            val_predicted.extend(predicted.cpu().numpy())\n",
    "            val_labels.extend(labels.cpu().numpy())\n",
    "\n",
    "    # Compute and print validation loss for the epoch\n",
    "    val_loss = val_running_loss / len(val_loader)\n",
    "    val_losses.append(val_loss)\n",
    "    print(f\"Validation Loss: {val_loss:.3f}\")\n",
    "\n",
    "    # Compute confusion matrix\n",
    "    conf_matrix = confusion_matrix(val_labels, val_predicted)\n",
    "    conf_matrices.append(conf_matrix)"
   ]
  },
  {
   "cell_type": "code",
   "execution_count": 110,
   "id": "375135a3",
   "metadata": {},
   "outputs": [
    {
     "data": {
      "image/png": "[encoded data removed]",
      "text/plain": [
       "<Figure size 640x480 with 1 Axes>"
      ]
     },
     "metadata": {},
     "output_type": "display_data"
    },
    {
     "ename": "ValueError",
     "evalue": "operands could not be broadcast together with shapes (8,8) (9,9) ",
     "output_type": "error",
     "traceback": [
      "\u001b[1;31m---------------------------------------------------------------------------\u001b[0m",
      "\u001b[1;31mValueError\u001b[0m                                Traceback (most recent call last)",
      "Cell \u001b[1;32mIn[110], line 11\u001b[0m\n\u001b[0;32m      8\u001b[0m plt\u001b[38;5;241m.\u001b[39mshow()\n\u001b[0;32m     10\u001b[0m \u001b[38;5;66;03m# Plot accumulated confusion matrix\u001b[39;00m\n\u001b[1;32m---> 11\u001b[0m accumulated_conf_matrix \u001b[38;5;241m=\u001b[39m \u001b[38;5;28;43msum\u001b[39;49m\u001b[43m(\u001b[49m\u001b[43mconf_matrices\u001b[49m\u001b[43m)\u001b[49m\n\u001b[0;32m     12\u001b[0m plt\u001b[38;5;241m.\u001b[39mfigure(figsize\u001b[38;5;241m=\u001b[39m(\u001b[38;5;241m8\u001b[39m, \u001b[38;5;241m6\u001b[39m))\n\u001b[0;32m     13\u001b[0m plt\u001b[38;5;241m.\u001b[39mimshow(accumulated_conf_matrix, interpolation\u001b[38;5;241m=\u001b[39m\u001b[38;5;124m'\u001b[39m\u001b[38;5;124mnearest\u001b[39m\u001b[38;5;124m'\u001b[39m, cmap\u001b[38;5;241m=\u001b[39mplt\u001b[38;5;241m.\u001b[39mcm\u001b[38;5;241m.\u001b[39mBlues)\n",
      "\u001b[1;31mValueError\u001b[0m: operands could not be broadcast together with shapes (8,8) (9,9) "
     ]
    }
   ],
   "source": [
    "# Plot training and validation losses\n",
    "plt.plot(range(1, num_epochs + 1), train_losses, label='Training Loss')\n",
    "plt.plot(range(1, num_epochs + 1), val_losses, label='Validation Loss')\n",
    "plt.xlabel('Epochs')\n",
    "plt.ylabel('Loss')\n",
    "plt.title('Training and Validation Losses')\n",
    "plt.legend()\n",
    "plt.show()\n",
    "\n",
    "# Plot accumulated confusion matrix\n",
    "accumulated_conf_matrix = sum(conf_matrices)\n",
    "plt.figure(figsize=(8, 6))\n",
    "plt.imshow(accumulated_conf_matrix, interpolation='nearest', cmap=plt.cm.Blues)\n",
    "plt.title('Accumulated Confusion Matrix')\n",
    "plt.colorbar()\n",
    "tick_marks = np.arange(len(classes))\n",
    "plt.xticks(tick_marks, classes, rotation=45)\n",
    "plt.yticks(tick_marks, classes)\n",
    "plt.ylabel('True label')\n",
    "plt.xlabel('Predicted label')\n",
    "plt.tight_layout()\n",
    "plt.show()"
   ]
  },
  {
   "cell_type": "code",
   "execution_count": null,
   "id": "fc24e95c",
   "metadata": {},
   "outputs": [
    {
     "data": {
      "text/plain": [
       "<Figure size 640x480 with 0 Axes>"
      ]
     },
     "metadata": {},
     "output_type": "display_data"
    }
   ],
   "source": [
    "plt.tight_layout()\n",
    "plt.show()"
   ]
  }
 ],
 "metadata": {
  "kernelspec": {
   "display_name": "leaf_cse120",
   "language": "python",
   "name": "python3"
  },
  "language_info": {
   "codemirror_mode": {
    "name": "ipython",
    "version": 3
   },
   "file_extension": ".py",
   "mimetype": "text/x-python",
   "name": "python",
   "nbconvert_exporter": "python",
   "pygments_lexer": "ipython3",
   "version": "3.9.18"
  }
 },
 "nbformat": 4,
 "nbformat_minor": 5
}
